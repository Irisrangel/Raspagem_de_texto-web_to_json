{
  "nbformat": 4,
  "nbformat_minor": 0,
  "metadata": {
    "colab": {
      "name": "Estruturando_Dados.ipynb",
      "provenance": [],
      "authorship_tag": "ABX9TyPWPCgfJ7S2MqnfN0yFc8hv",
      "include_colab_link": true
    },
    "kernelspec": {
      "name": "python3",
      "display_name": "Python 3"
    },
    "language_info": {
      "name": "python"
    }
  },
  "cells": [
    {
      "cell_type": "markdown",
      "metadata": {
        "id": "view-in-github",
        "colab_type": "text"
      },
      "source": [
        "<a href=\"https://colab.research.google.com/github/Irisrangel/Raspagem_de_texto-web_to_json/blob/main/Estruturando_Dados.ipynb\" target=\"_parent\"><img src=\"https://colab.research.google.com/assets/colab-badge.svg\" alt=\"Open In Colab\"/></a>"
      ]
    },
    {
      "cell_type": "code",
      "metadata": {
        "id": "Twz-0Ffv5hkw"
      },
      "source": [
        "import json\n",
        "import os\n",
        "import requests\n",
        "from bs4 import BeautifulSoup"
      ],
      "execution_count": 1,
      "outputs": []
    },
    {
      "cell_type": "code",
      "metadata": {
        "id": "2gxA5dxA7bq7"
      },
      "source": [
        "# Link de origem\n",
        "BASE_URL = \"https://www.gov.br/planalto/pt-br/acompanhe-o-planalto/pronunciamentos/pronunciamentos-do-presidente-da-republica\"\n",
        "# Pasta de destino para salvar os pronunciamentos em Json\n",
        "DATA_DIR = \"pronunciamentos\""
      ],
      "execution_count": 35,
      "outputs": []
    },
    {
      "cell_type": "code",
      "metadata": {
        "id": "jkH2OlhW8eZo"
      },
      "source": [
        "response = requests.get(BASE_URL)"
      ],
      "execution_count": 36,
      "outputs": []
    },
    {
      "cell_type": "code",
      "metadata": {
        "id": "-BZvt8Mv8uFY"
      },
      "source": [
        "response.text"
      ],
      "execution_count": null,
      "outputs": []
    },
    {
      "cell_type": "code",
      "metadata": {
        "id": "-JUuoqQv8811"
      },
      "source": [
        "bs = BeautifulSoup(response.text)"
      ],
      "execution_count": 38,
      "outputs": []
    },
    {
      "cell_type": "code",
      "metadata": {
        "id": "1_6qg_AF9E65"
      },
      "source": [
        "articles = bs.find_all(\"article\")"
      ],
      "execution_count": 39,
      "outputs": []
    },
    {
      "cell_type": "code",
      "metadata": {
        "id": "WItT-Xhv95Ie"
      },
      "source": [
        "articles"
      ],
      "execution_count": null,
      "outputs": []
    },
    {
      "cell_type": "code",
      "metadata": {
        "colab": {
          "base_uri": "https://localhost:8080/"
        },
        "id": "Dq4nI1mO-Hcy",
        "outputId": "f652bb59-b92d-42f5-9440-738c0f63e438"
      },
      "source": [
        "len(articles)"
      ],
      "execution_count": 41,
      "outputs": [
        {
          "output_type": "execute_result",
          "data": {
            "text/plain": [
              "17"
            ]
          },
          "metadata": {
            "tags": []
          },
          "execution_count": 41
        }
      ]
    },
    {
      "cell_type": "code",
      "metadata": {
        "id": "XuA9UXGU-LB5"
      },
      "source": [
        "article = articles[0]"
      ],
      "execution_count": 42,
      "outputs": []
    },
    {
      "cell_type": "code",
      "metadata": {
        "id": "PV1DEqx6-TLf"
      },
      "source": [
        "article"
      ],
      "execution_count": null,
      "outputs": []
    },
    {
      "cell_type": "code",
      "metadata": {
        "id": "bElmlK8A-pka"
      },
      "source": [
        "article = articles[0]\n",
        "url = article.find(class_=\"summary url\")\n",
        "tags = article.find_all(rel=\"tag\")\n",
        "datetime = article.find_all(class_=\"summary-view-icon\")"
      ],
      "execution_count": 44,
      "outputs": []
    },
    {
      "cell_type": "code",
      "metadata": {
        "colab": {
          "base_uri": "https://localhost:8080/"
        },
        "id": "SVrYuhcZ-rJU",
        "outputId": "22cf9e38-a258-4127-8366-da6bb1f42021"
      },
      "source": [
        "url"
      ],
      "execution_count": 45,
      "outputs": [
        {
          "output_type": "execute_result",
          "data": {
            "text/plain": [
              "<a class=\"summary url\" href=\"https://www.gov.br/planalto/pt-br/acompanhe-o-planalto/pronunciamentos/pronunciamentos-do-presidente-da-republica/pronunciamento-do-presidente-da-republica-jair-bolsonaro-em-cadeia-de-radio-e-televisao-brasilia-df\" title=\"Document\">Pronunciamento do Senhor Presidente da República, Jair Bolsonaro, em cadeia de rádio e televisão</a>"
            ]
          },
          "metadata": {
            "tags": []
          },
          "execution_count": 45
        }
      ]
    },
    {
      "cell_type": "code",
      "metadata": {
        "colab": {
          "base_uri": "https://localhost:8080/",
          "height": 73
        },
        "id": "Z_lBL1A9_O5T",
        "outputId": "34881d46-f96c-4217-bbfe-0c05a8aa5d0c"
      },
      "source": [
        "url[\"href\"]"
      ],
      "execution_count": 46,
      "outputs": [
        {
          "output_type": "execute_result",
          "data": {
            "application/vnd.google.colaboratory.intrinsic+json": {
              "type": "string"
            },
            "text/plain": [
              "'https://www.gov.br/planalto/pt-br/acompanhe-o-planalto/pronunciamentos/pronunciamentos-do-presidente-da-republica/pronunciamento-do-presidente-da-republica-jair-bolsonaro-em-cadeia-de-radio-e-televisao-brasilia-df'"
            ]
          },
          "metadata": {
            "tags": []
          },
          "execution_count": 46
        }
      ]
    },
    {
      "cell_type": "code",
      "metadata": {
        "colab": {
          "base_uri": "https://localhost:8080/"
        },
        "id": "IbSVmPNy_WMM",
        "outputId": "4723107a-e2ae-42e9-c4c7-a9f0de4a6dde"
      },
      "source": [
        "tags"
      ],
      "execution_count": 47,
      "outputs": [
        {
          "output_type": "execute_result",
          "data": {
            "text/plain": [
              "[<a class=\"link-category\" href=\"https://www.gov.br/planalto/@@search?Subject:list=Pronunciamento\" rel=\"nofollow tag\">Pronunciamento</a>,\n",
              " <a class=\"link-category\" href=\"https://www.gov.br/planalto/@@search?Subject:list=Presidente\" rel=\"nofollow tag\">Presidente</a>,\n",
              " <a class=\"link-category\" href=\"https://www.gov.br/planalto/@@search?Subject:list=Nova Previdência\" rel=\"nofollow tag\">Nova Previdência</a>]"
            ]
          },
          "metadata": {
            "tags": []
          },
          "execution_count": 47
        }
      ]
    },
    {
      "cell_type": "code",
      "metadata": {
        "colab": {
          "base_uri": "https://localhost:8080/"
        },
        "id": "H-48VnJdBA9k",
        "outputId": "a5815c39-327b-464b-a4d3-0b102b44a401"
      },
      "source": [
        "tags = [t.text for t in tags]\n",
        "tags"
      ],
      "execution_count": 48,
      "outputs": [
        {
          "output_type": "execute_result",
          "data": {
            "text/plain": [
              "['Pronunciamento', 'Presidente', 'Nova Previdência']"
            ]
          },
          "metadata": {
            "tags": []
          },
          "execution_count": 48
        }
      ]
    },
    {
      "cell_type": "code",
      "metadata": {
        "colab": {
          "base_uri": "https://localhost:8080/"
        },
        "id": "BMg2YN6jBRjB",
        "outputId": "54091ea9-2146-4129-e427-48f921438715"
      },
      "source": [
        "datetime"
      ],
      "execution_count": 49,
      "outputs": [
        {
          "output_type": "execute_result",
          "data": {
            "text/plain": [
              "[<span class=\"summary-view-icon\">\n",
              " <i class=\"icon-day\"></i>\n",
              "                         20/02/2019\n",
              "                     </span>, <span class=\"summary-view-icon\">\n",
              " <i class=\"icon-hour\"></i>\n",
              "                         20h53\n",
              "                     </span>, <span class=\"summary-view-icon\">\n",
              " <i class=\"icon-page\"></i>\n",
              "                         Página\n",
              "                     </span>]"
            ]
          },
          "metadata": {
            "tags": []
          },
          "execution_count": 49
        }
      ]
    },
    {
      "cell_type": "code",
      "metadata": {
        "colab": {
          "base_uri": "https://localhost:8080/",
          "height": 36
        },
        "id": "IimbvMmXCzt1",
        "outputId": "22dee029-e83e-4754-be08-5bc641c1a236"
      },
      "source": [
        "datetime[0].text.strip()"
      ],
      "execution_count": 50,
      "outputs": [
        {
          "output_type": "execute_result",
          "data": {
            "application/vnd.google.colaboratory.intrinsic+json": {
              "type": "string"
            },
            "text/plain": [
              "'20/02/2019'"
            ]
          },
          "metadata": {
            "tags": []
          },
          "execution_count": 50
        }
      ]
    },
    {
      "cell_type": "code",
      "metadata": {
        "colab": {
          "base_uri": "https://localhost:8080/"
        },
        "id": "lG5lI6pOC6cs",
        "outputId": "05a61515-1822-4a08-f4ff-ee270f5f0bd1"
      },
      "source": [
        "date = datetime[0].text.strip()\n",
        "time = datetime[1].text.strip()\n",
        "(date, time)"
      ],
      "execution_count": 51,
      "outputs": [
        {
          "output_type": "execute_result",
          "data": {
            "text/plain": [
              "('20/02/2019', '20h53')"
            ]
          },
          "metadata": {
            "tags": []
          },
          "execution_count": 51
        }
      ]
    },
    {
      "cell_type": "code",
      "metadata": {
        "id": "_jxNsSZbDH0i"
      },
      "source": [
        "def canonical_date(datestr):\n",
        "  return \"\".join(reversed(datestr.split(\"/\")))"
      ],
      "execution_count": 52,
      "outputs": []
    },
    {
      "cell_type": "code",
      "metadata": {
        "colab": {
          "base_uri": "https://localhost:8080/",
          "height": 36
        },
        "id": "edg3se87DhQq",
        "outputId": "6397ad56-c6fa-4899-b4da-78381e5633ef"
      },
      "source": [
        "canonical_date(date)"
      ],
      "execution_count": 53,
      "outputs": [
        {
          "output_type": "execute_result",
          "data": {
            "application/vnd.google.colaboratory.intrinsic+json": {
              "type": "string"
            },
            "text/plain": [
              "'20190220'"
            ]
          },
          "metadata": {
            "tags": []
          },
          "execution_count": 53
        }
      ]
    },
    {
      "cell_type": "markdown",
      "metadata": {
        "id": "hiEMdZHBEfCj"
      },
      "source": [
        "Organizando o código até aqui em uma classe:"
      ]
    },
    {
      "cell_type": "code",
      "metadata": {
        "id": "48DCXYY4DrZ6"
      },
      "source": [
        "class Pronouncement:\n",
        "  def __init__(self, bs_article=None):\n",
        "\n",
        "    self.url = bs_article.find(class_=\"summary url\")[\"href\"]\n",
        "    self.tags = [t.text for t in bs_article.find_all(rel=\"tag\")]\n",
        "    \n",
        "    datetime = article.find_all(class_=\"summary-view-icon\")\n",
        "    self.date = canonical_date(datetime[0].text.strip())\n",
        "    self.time = time = datetime[1].text.strip()\n",
        "  \n",
        "    self.text = self._extract_text()\n",
        "\n",
        "  def _extract_text(self):\n",
        "    return \"Teste\""
      ],
      "execution_count": 56,
      "outputs": []
    },
    {
      "cell_type": "code",
      "metadata": {
        "id": "SvKqs9SoFSPk"
      },
      "source": [
        "p = Pronouncement(article)"
      ],
      "execution_count": 57,
      "outputs": []
    },
    {
      "cell_type": "code",
      "metadata": {
        "colab": {
          "base_uri": "https://localhost:8080/",
          "height": 73
        },
        "id": "1k6LtgA7FrB4",
        "outputId": "c7280dae-6246-4df5-e3cc-40b4109f9e93"
      },
      "source": [
        "p.url"
      ],
      "execution_count": 58,
      "outputs": [
        {
          "output_type": "execute_result",
          "data": {
            "application/vnd.google.colaboratory.intrinsic+json": {
              "type": "string"
            },
            "text/plain": [
              "'https://www.gov.br/planalto/pt-br/acompanhe-o-planalto/pronunciamentos/pronunciamentos-do-presidente-da-republica/pronunciamento-do-presidente-da-republica-jair-bolsonaro-em-cadeia-de-radio-e-televisao-brasilia-df'"
            ]
          },
          "metadata": {
            "tags": []
          },
          "execution_count": 58
        }
      ]
    },
    {
      "cell_type": "code",
      "metadata": {
        "colab": {
          "base_uri": "https://localhost:8080/",
          "height": 36
        },
        "id": "yii6IkjwFs_u",
        "outputId": "ecacf7c7-a158-493a-a471-a74da080bd61"
      },
      "source": [
        "p.date"
      ],
      "execution_count": 59,
      "outputs": [
        {
          "output_type": "execute_result",
          "data": {
            "application/vnd.google.colaboratory.intrinsic+json": {
              "type": "string"
            },
            "text/plain": [
              "'20190220'"
            ]
          },
          "metadata": {
            "tags": []
          },
          "execution_count": 59
        }
      ]
    },
    {
      "cell_type": "code",
      "metadata": {
        "colab": {
          "base_uri": "https://localhost:8080/",
          "height": 36
        },
        "id": "aaoSQFZiFuvc",
        "outputId": "595db17f-4f2c-4e91-a5f1-dee4f3f50dff"
      },
      "source": [
        "p.time"
      ],
      "execution_count": 61,
      "outputs": [
        {
          "output_type": "execute_result",
          "data": {
            "application/vnd.google.colaboratory.intrinsic+json": {
              "type": "string"
            },
            "text/plain": [
              "'20h53'"
            ]
          },
          "metadata": {
            "tags": []
          },
          "execution_count": 61
        }
      ]
    },
    {
      "cell_type": "code",
      "metadata": {
        "colab": {
          "base_uri": "https://localhost:8080/"
        },
        "id": "8eMR8daYFxix",
        "outputId": "a5fb729a-dd62-4f1b-a831-12fbc4427036"
      },
      "source": [
        "p.tags"
      ],
      "execution_count": 62,
      "outputs": [
        {
          "output_type": "execute_result",
          "data": {
            "text/plain": [
              "['Pronunciamento', 'Presidente', 'Nova Previdência']"
            ]
          },
          "metadata": {
            "tags": []
          },
          "execution_count": 62
        }
      ]
    },
    {
      "cell_type": "code",
      "metadata": {
        "colab": {
          "base_uri": "https://localhost:8080/",
          "height": 36
        },
        "id": "RAFGrp1cGtcx",
        "outputId": "b345bd2a-6ff5-4879-cb7e-f5626a9d424d"
      },
      "source": [
        "p.text"
      ],
      "execution_count": 65,
      "outputs": [
        {
          "output_type": "execute_result",
          "data": {
            "application/vnd.google.colaboratory.intrinsic+json": {
              "type": "string"
            },
            "text/plain": [
              "'Teste'"
            ]
          },
          "metadata": {
            "tags": []
          },
          "execution_count": 65
        }
      ]
    },
    {
      "cell_type": "code",
      "metadata": {
        "id": "8kKN2ySaF3sh"
      },
      "source": [
        "class Pronouncement:\n",
        "  def __init__(self, bs_article=None):\n",
        "\n",
        "    self.url = bs_article.find(class_=\"summary url\")[\"href\"]\n",
        "    self.tags = [t.text for t in bs_article.find_all(rel=\"tag\")]\n",
        "    \n",
        "    datetime = article.find_all(class_=\"summary-view-icon\")\n",
        "    self.date = canonical_date(datetime[0].text.strip())\n",
        "    self.time = time = datetime[1].text.strip()\n",
        "  \n",
        "    self.text = self._extract_text()\n",
        "\n",
        "  def _extract_text(self):\n",
        "    r = requests.get(self.url)\n",
        "    bs = BeautifulSoup(r.text)\n",
        "    return bs.find(id=\"parent-fieldname-text\").text.strip()"
      ],
      "execution_count": 67,
      "outputs": []
    },
    {
      "cell_type": "code",
      "metadata": {
        "id": "ItkuW4qdGh3n"
      },
      "source": [
        "p2 = Pronouncement(article)"
      ],
      "execution_count": 68,
      "outputs": []
    },
    {
      "cell_type": "code",
      "metadata": {
        "colab": {
          "base_uri": "https://localhost:8080/",
          "height": 204
        },
        "id": "G-Z6Ovc7G22j",
        "outputId": "1424b0a2-ca7b-4d56-ec88-a3793818bc57"
      },
      "source": [
        "p2.text"
      ],
      "execution_count": 69,
      "outputs": [
        {
          "output_type": "execute_result",
          "data": {
            "application/vnd.google.colaboratory.intrinsic+json": {
              "type": "string"
            },
            "text/plain": [
              "'Brasília/DF, 20 de fevereiro de 2019\\n\\xa0\\n\\xa0\\xa0\\xa0\\xa0\\xa0\\xa0\\xa0\\xa0\\xa0 Boa noite. Estamos determinados a mudar o rumo do nosso País. Nosso objetivos são claros: resgatar nossa segurança, fazer a economia crescer e servir a quem realmente manda no País: a população brasileira.\\n\\xa0\\xa0\\xa0\\xa0\\xa0\\xa0\\xa0\\xa0\\xa0 Sendo assim, ontem encaminhamos ao Congresso um pacote anticrime e hoje iniciamos o processo de criação de uma nova Previdência.\\n\\xa0\\xa0\\xa0\\xa0\\xa0\\xa0\\xa0\\xa0\\xa0 É fundamental equilibrarmos as contas do País para que o sistema não quebre, como já aconteceu com outros países e alguns estados brasileiros. Precisamos garantir que hoje e sempre todos receberão seus benefícios em dia e o governo tenha recursos para ampliar investimentos na melhoria de vida da população e na geração de empregos.\\n\\xa0\\xa0\\xa0\\xa0\\xa0\\xa0\\xa0\\xa0\\xa0 A nova Previdência será justa para todos, sem privilégios. Ricos e pobres, servidores públicos, políticos ou trabalhadores privados, todos seguirão as mesmas regras de idade e tempo de contribuição.\\n\\xa0\\xa0\\xa0\\xa0\\xa0\\xa0\\xa0\\xa0\\xa0 Também haverá a reforma do sistema de proteção social dos militares. Respeitaremos as diferenças, mas não excluiremos ninguém, e com justiça: quem ganha mais contribuirá com mais, quem ganha menos contribuirá com menos ainda.\\n\\xa0\\xa0\\xa0\\xa0\\xa0\\xa0\\xa0\\xa0\\xa0 Quero lembrar que hoje os homens mais pobres já se aposentam aos 65 anos e as mulheres aos 60. Enquanto isso, os mais ricos se aposentam sem idade mínima. Isso vai mudar. A nova Previdência fará a equiparação. As pessoas de todas as classes vão se aposentar com a mesma idade. Mas isso não ocorrerá do dia para a noite. Estão previstas regras de transição, para que todos possam se adaptar ao novo modelo.\\n\\xa0\\xa0\\xa0\\xa0\\xa0\\xa0\\xa0\\xa0\\xa0 No tocante aos direitos adquiridos, todos estão garantidos, seja para quem já está aposentado, ou para quem já completou os requisitos para se aposentar.\\n\\xa0\\xa0\\xa0\\xa0\\xa0\\xa0\\xa0\\xa0\\xa0 Também fazem parte da nova Previdência o combate às fraudes, e medidas de cobrança aos devedores da Previdência.\\n\\xa0\\xa0\\xa0\\xa0\\xa0\\xa0\\xa0\\xa0\\xa0 Os projetos seguiram hoje ao Congresso para um amplo debate, sob o comando dos presidentes da Câmara, Rodrigo Maia, e do Senado, Davi Alcolumbre.\\n\\xa0\\xa0\\xa0\\xa0\\xa0\\xa0\\xa0\\xa0\\xa0 Nós sabemos que a nova Previdência exigirá um pouco mais de cada um de nós. Porém é para uma causa comum: o futuro do nosso Brasil e das próximas gerações.\\n\\xa0\\xa0\\xa0\\xa0\\xa0\\xa0\\xa0\\xa0\\xa0 Estou convicto que nós temos um pacto pelo País e que, juntos, cada um com sua parcela de contribuição, mudaremos nossa história, com mais investimentos, desenvolvimento e mais emprego.\\n\\xa0\\xa0\\xa0\\xa0\\xa0\\xa0\\xa0\\xa0\\xa0 Meu muito obrigado a todos.\\n\\xa0\\n\\xa0Ouça a íntegra (3min35s) do pronunciamento do Presidente Jair Bolsonaro.'"
            ]
          },
          "metadata": {
            "tags": []
          },
          "execution_count": 69
        }
      ]
    },
    {
      "cell_type": "code",
      "metadata": {
        "colab": {
          "base_uri": "https://localhost:8080/"
        },
        "id": "dg-GOz8qG5mZ",
        "outputId": "842b1ed3-3f18-4a2e-eae4-e675889dc996"
      },
      "source": [
        "print(p2.text)"
      ],
      "execution_count": 70,
      "outputs": [
        {
          "output_type": "stream",
          "text": [
            "Brasília/DF, 20 de fevereiro de 2019\n",
            " \n",
            "          Boa noite. Estamos determinados a mudar o rumo do nosso País. Nosso objetivos são claros: resgatar nossa segurança, fazer a economia crescer e servir a quem realmente manda no País: a população brasileira.\n",
            "          Sendo assim, ontem encaminhamos ao Congresso um pacote anticrime e hoje iniciamos o processo de criação de uma nova Previdência.\n",
            "          É fundamental equilibrarmos as contas do País para que o sistema não quebre, como já aconteceu com outros países e alguns estados brasileiros. Precisamos garantir que hoje e sempre todos receberão seus benefícios em dia e o governo tenha recursos para ampliar investimentos na melhoria de vida da população e na geração de empregos.\n",
            "          A nova Previdência será justa para todos, sem privilégios. Ricos e pobres, servidores públicos, políticos ou trabalhadores privados, todos seguirão as mesmas regras de idade e tempo de contribuição.\n",
            "          Também haverá a reforma do sistema de proteção social dos militares. Respeitaremos as diferenças, mas não excluiremos ninguém, e com justiça: quem ganha mais contribuirá com mais, quem ganha menos contribuirá com menos ainda.\n",
            "          Quero lembrar que hoje os homens mais pobres já se aposentam aos 65 anos e as mulheres aos 60. Enquanto isso, os mais ricos se aposentam sem idade mínima. Isso vai mudar. A nova Previdência fará a equiparação. As pessoas de todas as classes vão se aposentar com a mesma idade. Mas isso não ocorrerá do dia para a noite. Estão previstas regras de transição, para que todos possam se adaptar ao novo modelo.\n",
            "          No tocante aos direitos adquiridos, todos estão garantidos, seja para quem já está aposentado, ou para quem já completou os requisitos para se aposentar.\n",
            "          Também fazem parte da nova Previdência o combate às fraudes, e medidas de cobrança aos devedores da Previdência.\n",
            "          Os projetos seguiram hoje ao Congresso para um amplo debate, sob o comando dos presidentes da Câmara, Rodrigo Maia, e do Senado, Davi Alcolumbre.\n",
            "          Nós sabemos que a nova Previdência exigirá um pouco mais de cada um de nós. Porém é para uma causa comum: o futuro do nosso Brasil e das próximas gerações.\n",
            "          Estou convicto que nós temos um pacto pelo País e que, juntos, cada um com sua parcela de contribuição, mudaremos nossa história, com mais investimentos, desenvolvimento e mais emprego.\n",
            "          Meu muito obrigado a todos.\n",
            " \n",
            " Ouça a íntegra (3min35s) do pronunciamento do Presidente Jair Bolsonaro.\n"
          ],
          "name": "stdout"
        }
      ]
    },
    {
      "cell_type": "markdown",
      "metadata": {
        "id": "r_LAbC6_HdBx"
      },
      "source": [
        "Agora precisamos armazenar os textos em Json para conseguir recuperar depois:"
      ]
    },
    {
      "cell_type": "code",
      "metadata": {
        "colab": {
          "base_uri": "https://localhost:8080/"
        },
        "id": "5Dsoo_xGIZv7",
        "outputId": "620c15bb-6190-4c88-a6c3-eecc479f6b58"
      },
      "source": [
        "p.__dict__"
      ],
      "execution_count": 71,
      "outputs": [
        {
          "output_type": "execute_result",
          "data": {
            "text/plain": [
              "{'date': '20190220',\n",
              " 'tags': ['Pronunciamento', 'Presidente', 'Nova Previdência'],\n",
              " 'text': 'Teste',\n",
              " 'time': '20h53',\n",
              " 'url': 'https://www.gov.br/planalto/pt-br/acompanhe-o-planalto/pronunciamentos/pronunciamentos-do-presidente-da-republica/pronunciamento-do-presidente-da-republica-jair-bolsonaro-em-cadeia-de-radio-e-televisao-brasilia-df'}"
            ]
          },
          "metadata": {
            "tags": []
          },
          "execution_count": 71
        }
      ]
    },
    {
      "cell_type": "code",
      "metadata": {
        "id": "IRrmGrm_HY9x"
      },
      "source": [
        "class Pronouncement:\n",
        "  def __init__(self, bs_article=None):\n",
        "\n",
        "    if bs_article is not None:\n",
        "      self.url = bs_article.find(class_=\"summary url\")[\"href\"]\n",
        "      self.tags = [t.text for t in bs_article.find_all(rel=\"tag\")]\n",
        "      \n",
        "      datetime = bs_article.find_all(class_=\"summary-view-icon\")\n",
        "      self.date = canonical_date(datetime[0].text.strip())\n",
        "      self.time = time = datetime[1].text.strip()\n",
        "    \n",
        "      self.text = self._extract_text()\n",
        "\n",
        "  def _extract_text(self):\n",
        "    r = requests.get(self.url)\n",
        "    bs = BeautifulSoup(r.text)\n",
        "    return bs.find(id=\"parent-fieldname-text\").text.strip()\n",
        "\n",
        "  def save_tojson(p, savedir, name=None):\n",
        "    if name is None:\n",
        "      name = f\"{p.date}-{p.time}.json\"\n",
        "    path = os.path.join(savedir, name)\n",
        "    with open(path, \"w\") as jsonfile:\n",
        "      json.dump(p.__dict__, jsonfile)    \n",
        "\n",
        "  def load_fromjson(filepath):\n",
        "    with open(filepath, \"r\") as jsonfile:\n",
        "      data = json.load(jsonfile)\n",
        "      p = Pronouncement()\n",
        "      p.date = data[\"date\"]\n",
        "      p.time = data[\"time\"]\n",
        "      p.tags = data[\"tags\"]\n",
        "      p.url = data[\"url\"]\n",
        "      p.text = data[\"text\"]\n",
        "      return p\n"
      ],
      "execution_count": 77,
      "outputs": []
    },
    {
      "cell_type": "code",
      "metadata": {
        "id": "cUIM_0jqJ9Gk"
      },
      "source": [
        "pronouncements = [Pronouncement(art) for art in articles]"
      ],
      "execution_count": 78,
      "outputs": []
    },
    {
      "cell_type": "code",
      "metadata": {
        "id": "_CUqVwAWKM5C"
      },
      "source": [
        "# Salvando os pronuncimaneto em Json\n",
        "for p in pronouncements:\n",
        "  Pronouncement.save_tojson(p, DATA_DIR)"
      ],
      "execution_count": 79,
      "outputs": []
    },
    {
      "cell_type": "code",
      "metadata": {
        "colab": {
          "base_uri": "https://localhost:8080/"
        },
        "id": "Zg7pV7JWK7NU",
        "outputId": "d98ce545-48d3-4607-d4a9-c57763fbae25"
      },
      "source": [
        "len(pronouncements)"
      ],
      "execution_count": 80,
      "outputs": [
        {
          "output_type": "execute_result",
          "data": {
            "text/plain": [
              "17"
            ]
          },
          "metadata": {
            "tags": []
          },
          "execution_count": 80
        }
      ]
    },
    {
      "cell_type": "markdown",
      "metadata": {
        "id": "GtrrJxF_LZL_"
      },
      "source": [
        "Vamos agora tentar recuperar os textos a partir dos Jsons salvos."
      ]
    },
    {
      "cell_type": "code",
      "metadata": {
        "colab": {
          "base_uri": "https://localhost:8080/"
        },
        "id": "v5uSWBW_Lnrn",
        "outputId": "fd9cd9f1-09b7-4915-bbea-f9c52161923c"
      },
      "source": [
        "os.listdir(DATA_DIR)"
      ],
      "execution_count": 81,
      "outputs": [
        {
          "output_type": "execute_result",
          "data": {
            "text/plain": [
              "['20201224-20h30.json',\n",
              " '20200331-21h07.json',\n",
              " '20200901-11h33.json',\n",
              " '20200324-21h25.json',\n",
              " '20200312-22h48.json',\n",
              " '20200812-20h00.json',\n",
              " '20200416-20h03.json',\n",
              " '20200907-20h07.json',\n",
              " '20190220-20h53.json',\n",
              " '20190424-21h35.json',\n",
              " '20191224-21h43.json',\n",
              " '20200306-21h00.json',\n",
              " '20190501-21h45.json',\n",
              " '20210323-20h34.json',\n",
              " '20200408-20h35.json',\n",
              " '20190823-21h21.json',\n",
              " '20210205-14h58.json']"
            ]
          },
          "metadata": {
            "tags": []
          },
          "execution_count": 81
        }
      ]
    },
    {
      "cell_type": "code",
      "metadata": {
        "id": "Deh3O_A3LviK"
      },
      "source": [
        "filenames = os.listdir(DATA_DIR)"
      ],
      "execution_count": 82,
      "outputs": []
    },
    {
      "cell_type": "code",
      "metadata": {
        "id": "QqxNZK9rL06O"
      },
      "source": [
        "pronunciamentos = []\n",
        "for name in filenames:\n",
        "  path = os.path.join(DATA_DIR, name)\n",
        "  pronunciamentos.append(Pronouncement.load_fromjson(path))"
      ],
      "execution_count": 84,
      "outputs": []
    },
    {
      "cell_type": "code",
      "metadata": {
        "colab": {
          "base_uri": "https://localhost:8080/"
        },
        "id": "ccfZIr7vMA_n",
        "outputId": "e7612149-ad9f-4a16-cf97-61ad98ba1867"
      },
      "source": [
        "len(pronunciamentos)"
      ],
      "execution_count": 85,
      "outputs": [
        {
          "output_type": "execute_result",
          "data": {
            "text/plain": [
              "17"
            ]
          },
          "metadata": {
            "tags": []
          },
          "execution_count": 85
        }
      ]
    },
    {
      "cell_type": "code",
      "metadata": {
        "colab": {
          "base_uri": "https://localhost:8080/"
        },
        "id": "PV8AinrFMQ9-",
        "outputId": "5e972b27-5cf4-4610-bab8-f194ad9fc270"
      },
      "source": [
        "for i in range(2, 8, 2):\n",
        "  print(\"Num:\", i)\n",
        "  print(pronunciamentos[i].text)\n",
        "  print(\"===========================\")"
      ],
      "execution_count": 93,
      "outputs": [
        {
          "output_type": "stream",
          "text": [
            "Num: 2\n",
            "Palácio da Alvorada, 01 de setembro de 2020\n",
            " \n",
            "Bom dia.\n",
            "Acabamos uma reunião muito produtiva com os líderes e tomamos duas decisões. \n",
            "A primeira, encaminhar, na quinta-feira, a Reforma Administrativa, que fique bem claro, não atingirá nenhum dos atuais servidores. Ela se aplicará apenas os futuros servidores concursados.\n",
            " E a segunda medida, depois que nós criamos há praticamente 5 meses o Auxílio Emergencial de 600 reais, ele validou-se por 3 meses. Por Decreto nós o prorrogamos por mais 2 meses e agora resolvemos prorrogá-lo por Medida Provisória, até o final do ano. \n",
            "E o valor, com vínhamos dizendo, 600 é muito para quem paga, no caso o Brasil e podemos dizer que não é um valor o suficiente muitas vezes, para todas as necessidades, mas basicamente atende. Até porque o valor definido agora há pouco, ele é um pouco superior a 50% do valor do salário mínimo, ou melhor do Bolsa Família. Obrigado aí, do Bolsa Família. Então, nós decidimos aqui, até atendendo a economia em cima da responsabilidade fiscal, fixado em 300 reais.\n",
            "===========================\n",
            "Num: 4\n",
            "12 de março de 2020\n",
            " \n",
            "Diante do avanço do coronavírus em muitos países, a Organização Mundial de Saúde, de forma responsável, classificou a situação atual como pandemia.\n",
            "O Sistema de Saúde Brasileiro, como os demais países, tem um limite de pacientes que podem ser atendidos. O governo está atento para manter a evolução do quadro sob controle. É provável, inclusive, que o número de infectados aumente nos próximos dias, sem, no entanto, ser motivo de qualquer pânico.\n",
            "Há uma preocupação maior, por motivos óbvios, com os idosos. Há também, recomendação das autoridades sanitárias para que evitemos grandes concentrações populares. Queremos um povo atuante e zeloso com a coisa pública, mas jamais podemos colocar em risco a saúde da nossa gente.\n",
            "Os movimentos espontâneos e legítimos, marcados para o dia 15 de março, atendem aos interesses da nação. Balizados pela lei e pela ordem, demonstram o amadurecimento da nossa democracia presidencialista e são expressões evidentes de nossa liberdade. Precisam, no entanto, diante dos fatos recentes, ser repensados.\n",
            "Nossa saúde e de nossos familiares devem ser preservadas. O momento é de união, serenidade e bom senso.\n",
            "Não podemos esquecer, no entanto, que o Brasil mudou. O povo está atento e exige de nós respeito à Constituição e zelo pelo dinheiro público.\n",
            "Por isso, as motivações da vontade popular continuam vivas e inabaláveis.\n",
            "Que Deus abençoe o nosso Brasil.\n",
            "===========================\n",
            "Num: 6\n",
            "Boa tarde. Agora há pouco terminei uma reunião com o ministro Mandetta, aproximadamente 30 minutos, e discutimos a situação atual do Ministério, bem como da pandemia, uma conversa bastante produtiva, muito cordial, onde nós selamos um ciclo no Ministério da Saúde. Ele se prontificou, como era esperado da minha parte, a participar de uma transição a mais tranquila possível, com a maior riqueza de detalhes que se possa oferecer. E, em comum acordo, mas o termo técnico não é esse, eu o exonero do Ministério nas próximas horas.\n",
            "Foi, realmente, um divórcio consensual, porque, acima de mim, como presidente, e dele, como ainda ministro, está a saúde do povo brasileiro. A vida para todos nós está em primeiro lugar. A questão do coronavírus se abate sobre todo o mundo, e cada país tem as suas especificidades, como bem disse o chefe da OMS. No Brasil não é diferente.\n",
            "Como presidente da República, eu coordeno 22 ministérios e, na maioria das vezes, o problema não está afeto a apenas um ministério. Quando se fala em saúde, fala-se em vida, a gente não pode deixar de falar em emprego. Porque uma pessoa desempregada, ela estará mais propensa a sofrer problemas de saúde do que uma outra empregada. E desde o começo da pandemia eu me dirigi a todos os ministros e falei da vida e do emprego. É como um paciente que tem duas doenças, a gente não pode abandonar uma e tratar exclusivamente outra, porque, no final da linha, esse paciente pode perder a vida.\n",
            "Sabemos das interpretações que fazem a respeito daquilo que se fala. A interpretação depende da linha editorial ou daquele repórter. Sempre falamos em vida e emprego, nunca emprego e economia de forma isolada. Nunca.\n",
            "Desde o começo eu busquei levar uma mensagem de tranquilidade. O clima quase de terror se instalou no meio da sociedade. Isso não é bom, porque uma pessoa que vive sob tensão, num clima de histeria, é uma pessoa que está propensa a adquirir novas doenças ou agravar aquelas que ela já tem.\n",
            "Entendemos perfeitamente a gravidade da situação. Gostaríamos que ninguém perdesse a vida, não só por essa, e por causa nenhuma, porque a vida, quando chega ao seu final, a morte toca a todos nós. Eu tenho uma mãe com 93 anos de idade, está bastante idosa, com algumas comorbidades, e espero que ela viva por muito tempo.\n",
            "Ao longo desse tempo, é direito do ainda ministro defender o seu ponto de vista como médico. E a questão de entender também a questão do emprego não foi da forma que eu achava, como chefe do Executivo, que deveria ser tratada. Não condeno, não recrimino e não critico o ministro Mandetta. Ele fez aquilo que, como médico, ele achava que devia fazer.\n",
            "Ao longo desse tempo, a separação cada vez mais se tornava uma realidade, mas nós não podemos tomar decisões de forma que o trabalho feito por ele até o momento fosse perdido. O que eu conversei, ao longo desse tempo, com o oncologista dr. Nelson, ao meu lado, foi fazer com que ele entendesse a situação como um todo, sem abandonar, obviamente, o principal interesse, a manutenção da vida, mas sem esquecer que, ao lado disso, tínhamos outros problemas. Esse outro é a questão do desemprego que, cada vez mais, nós vemos que são claros no nosso País. Junto com o vírus veio uma verdadeira máquina de moer empregos. As pessoas mais humildes começaram a sentir primeiro o problema. Essas não podem ficar em casa por muito tempo.\n",
            "Então, não é aquilo que a gente gostaria de fazer, é aquilo que pode ser feito. Nós não poderemos prejudicar os mais necessitados. Eles não têm como ficar em casa por muito tempo, sem buscar seu alimento. E os primeiros que sofreram com isso foram os informais, na ordem de 38 milhões no Brasil. Os empregos com carteira assinada, estamos vendo, também, como temos conversado com toda a sociedade, cada vez mais estão sendo destruídos. Se chegar a um nível tal, o que nós não queremos, é que a volta da normalidade, além de poder demorar muito, outros problemas aparecerão. Nós nos preocupamos para que essa volta à normalidade chegue o mais breve possível.\n",
            "Então, antes mesmo de outras providências, nós tomamos várias medidas, entre elas, uma das mais importantes é o Auxílio Emergencial para exatamente os informais e assemelhados. Então o governo não abandonou, em momento nenhum, os mais necessitados.\n",
            "E o que eu conversei com o dr. Nelson é que, gradativamente, nós temos que abrir o emprego no Brasil. Essa grande massa de humildes não tem como ficar presa dentro de casa. E, o que é pior, quando voltar não ter emprego. E o governo não tem como manter esse Auxílio Emergencial ou outras ações por muito tempo. Já se gastou aproximadamente 600 bilhões de reais, e podemos chegar a R$ 1 trilhão. Sei e repito que a vida não tem preço, mas a economia, o emprego, tem que voltar à normalidade, não o mais rápido possível, como foi conversado com o dr. Nelson, mas ele tem que começar a ser flexibilizado para que exatamente não venhamos a sofrer mais com isso.\n",
            "Nós todos, Poder Executivo, Poder Legislativo, decisões do Judiciário, têm que ser, essas decisões, com muita prudência. O governo não é uma fonte de socorro eterna. Em nenhum momento eu fui consultado sobre medidas adotadas por grande parte dos governadores e prefeitos. Tenho certeza que eles sabiam o que estavam fazendo. O preço vai ser alto. Tinham que fazer alguma coisa? Tinham, mas se, porventura, exageraram, não bote essa conta, não no Governo Federal, não bote essa conta, mais essa conta, nas costas do nosso sofrido povo brasileiro.\n",
            "Não queremos aqui criar qualquer polêmica com outro Poder. Todos eles são responsáveis pelos seus atos, assim como eu sou, como chefe do Executivo. Não me furtarei à minha responsabilidade. Decisões, sou obrigado a tomar. Porque sempre tenho dito, dada a minha formação militar: pior que uma decisão mal tomada é uma indecisão. Jamais pecarei por omissão. Esse foi o ensinamento que eu tive na minha carreira militar.\n",
            "Essa será minha linha de atuação. Montamos um governo diferente dos montados anteriormente que tem dado resultado. Estávamos praticamente voando, no final do último trimestre. Tudo estava indo muito bem. O Brasil tinha tudo para dar certo, num curto espaço de tempo. Esse “dar certo” agora acontecerá, mas num tempo mais ampliado, onde eu apelo para os demais outros Poderes: a responsabilidade não é só minha, é de todos nós. Os excessos que alguns cometeram, que se responsabilizem por eles. Jamais eu mandaria as minhas Forças Armadas prender quem quer que seja que estivesse nas ruas. Jamais eu, como chefe do Executivo, vou retirar o direito constitucional de ir e vir, seja qual for o cidadão. Devemos tomar medidas, sim, para evitar a proliferação ou a expansão do vírus, mas pelo convencimento e com medidas que não atinjam a liberdade e a garantia individual de qualquer cidadão. Jamais cercearemos qualquer direito fundamental de um cidadão. Quem tem poder de decretar estado de Defesa ou de Sítio, depois de uma decisão, obviamente, do Parlamento brasileiro, é o presidente da República, e não prefeito ou governador.\n",
            "O excesso não levará à solução do problema, muito pelo contrário, se agravará. E, como venho dizendo, desde há muito, eu tenho certeza, tenho amigos, da AMB, pessoal de Associação de Medicina Brasileira, que o remédio para curar um paciente não pode ter um efeito colateral mais danoso do que a própria doença.\n",
            "Então, o Governo Federal, o presidente da República, tem uma visão mais ampla de cada ministro de per si. Esse é o nosso trabalho. Essas são, muitas vezes, as decisões que nós somos obrigados a tomar. Os problemas acontecem na vida de todo mundo e devemos buscar a melhor maneira de solucioná-la.\n",
            "Então, nesse momento, além de agradecer o senhor Henrique Mandetta, pela sua cordialidade, pela forma como conduziu o seu ministério, eu também agradeço o dr. Nelson por ter aceito esse convite. E ele sabe do enorme desafio que terá pela frente. Já começa hoje mesmo uma transição que, gradualmente, vai servir para redirecionar a posição não apenas do presidente, mas dos 22 ministros que integram o nosso governo. Todos os ministros estão envolvidos na mesma causa, sem exceção. Nós estamos juntos em defesa da vida do povo brasileiro, em defesa dos empregos e, também, obviamente, buscando levar tranquilidade e paz para o nosso povo.\n",
            "Então, agradeço o dr. Nelson, para o qual eu passo, então, a palavra agora.\n",
            "===========================\n"
          ],
          "name": "stdout"
        }
      ]
    }
  ]
}