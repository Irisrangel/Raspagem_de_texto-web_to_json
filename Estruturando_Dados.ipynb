{
  "nbformat": 4,
  "nbformat_minor": 0,
  "metadata": {
    "colab": {
      "name": "Estruturando_Dados.ipynb",
      "provenance": [],
      "authorship_tag": "ABX9TyOY9BT1HKXamoXRzSzW/+1E",
      "include_colab_link": true
    },
    "kernelspec": {
      "name": "python3",
      "display_name": "Python 3"
    },
    "language_info": {
      "name": "python"
    }
  },
  "cells": [
    {
      "cell_type": "markdown",
      "metadata": {
        "id": "view-in-github",
        "colab_type": "text"
      },
      "source": [
        "<a href=\"https://colab.research.google.com/github/Irisrangel/Raspagem_de_texto-web_to_json/blob/main/Estruturando_Dados.ipynb\" target=\"_parent\"><img src=\"https://colab.research.google.com/assets/colab-badge.svg\" alt=\"Open In Colab\"/></a>"
      ]
    },
    {
      "cell_type": "code",
      "metadata": {
        "id": "Twz-0Ffv5hkw"
      },
      "source": [
        "import json\n",
        "import os\n",
        "import requests\n",
        "from bs4 import BeautifulSoup"
      ],
      "execution_count": 1,
      "outputs": []
    },
    {
      "cell_type": "code",
      "metadata": {
        "id": "2gxA5dxA7bq7"
      },
      "source": [
        "# Link de origem\n",
        "BASE_URL = \"https://www.gov.br/planalto/pt-br/acompanhe-o-planalto/pronunciamentos/pronunciamentos-do-presidente-da-republica\"\n",
        "# Pasta de destino para salvar os pronunciamentos em Json\n",
        "DATA_DIR = \"pronunciamentos\""
      ],
      "execution_count": 35,
      "outputs": []
    },
    {
      "cell_type": "code",
      "metadata": {
        "colab": {
          "base_uri": "https://localhost:8080/"
        },
        "id": "pqkuIggy73oS",
        "outputId": "f530d1a7-fed2-4f2e-c100-e75e6bc169c1"
      },
      "source": [
        "from google.colab import drive\n",
        "drive.mount('/content/drive')"
      ],
      "execution_count": 3,
      "outputs": [
        {
          "output_type": "stream",
          "text": [
            "Drive already mounted at /content/drive; to attempt to forcibly remount, call drive.mount(\"/content/drive\", force_remount=True).\n"
          ],
          "name": "stdout"
        }
      ]
    },
    {
      "cell_type": "code",
      "metadata": {
        "id": "jkH2OlhW8eZo"
      },
      "source": [
        "response = requests.get(BASE_URL)"
      ],
      "execution_count": 36,
      "outputs": []
    },
    {
      "cell_type": "code",
      "metadata": {
        "colab": {
          "base_uri": "https://localhost:8080/",
          "height": 204
        },
        "id": "-BZvt8Mv8uFY",
        "outputId": "e21d8562-ec0d-47ad-e1e4-5f877e29a8d4"
      },
      "source": [
        "response.text"
      ],
      "execution_count": 37,
      "outputs": [
        {
          "output_type": "execute_result",
          "data": {
            "application/vnd.google.colaboratory.intrinsic+json": {
              "type": "string"
            },
            "text/plain": [
              "'<!DOCTYPE html>\\n<html xmlns=\"http://www.w3.org/1999/xhtml\" lang=\"pt-br\" xml:lang=\"pt-br\">\\n  <head>\\n        <script type=\"application/ld+json\">\\n        {\\n            \"@context\": \"https://schema.org\",\\n            \"@type\": \"Organization\",\\n            \"url\": \"https://www.gov.br/planalto\",\\n            \"logo\": \"https://www.gov.br/planalto/logo.png\"\\n        }</script>\\n        <script type=\"application/ld+json\">\\n        {\\n            \"@context\": \"https://schema.org\",\\n            \"@type\": \"WebSite\",\\n            \"url\": \"https://www.gov.br/planalto\",\\n            \"potentialAction\": {\\n              \"@type\": \"SearchAction\",\\n              \"target\": \"https://www.gov.br/planalto/search?SearchableText={search_term_string}\",\\n              \"query-input\": \"required name=search_term_string\"\\n            }\\n        }</script>\\n<style id=\"google-anti-flicker-css\">.async-hide { opacity: 0 !important} </style><script id=\"google-anti-flicker-js\">(function(a,s,y,n,c,h,i,d,e){s.className+=\\' \\'+y;h.start=1*new Date;\\nh.end=i=function(){s.className=s.className.replace(RegExp(\\' ?\\'+y),\\'\\')};\\n(a[n]=a[n]||[]).hide=h;setTimeout(function(){i();h.end=null},c);h.timeout=c;\\n})(window,document.documentElement,\\'async-hide\\',\\'dataLayer\\',4000,\\n{\\'GTM-NHZSKTD\\':true});</script><script id=\"google-tag-manager\">(function(w,d,s,l,i){w[l]=w[l]||[];w[l].push({\\'gtm.start\\':\\nnew Date().getTime(),event:\\'gtm.js\\'});var f=d.getElementsByTagName(s)[0],\\nj=d.createElement(s),dl=l!=\\'dataLayer\\'?\\'&l=\\'+l:\\'\\';j.async=true;j.src=\\n\\'https://www.googletagmanager.com/gtm.js?id=\\'+i+dl;f.parentNode.insertBefore(j,f);\\n})(window,document,\\'script\\',\\'dataLayer\\',\\'GTM-NHZSKTD\\');</script>\\n    <meta http-equiv=\"Content-Type\" content=\"text/html; charset=utf-8\" />\\n\\n    \\n        <base href=\"https://www.gov.br/planalto/pt-br/acompanhe-o-planalto/pronunciamentos/pronunciamentos-do-presidente-da-republica/\" /><!--[if lt IE 7]></base><![endif]-->\\n    \\n\\n    \\n        <meta property=\"og:title\" content=\"Pronunciamentos do Presidente da República\" />\\n<meta property=\"og:description\" content=\"\" />\\n<meta property=\"og:type\" content=\"article\" />\\n<meta property=\"og:url\" content=\"https://www.gov.br/planalto/pt-br/acompanhe-o-planalto/pronunciamentos/pronunciamentos-do-presidente-da-republica\" />\\n<meta property=\"og:image\" content=\"https://www.gov.br/planalto/logo.png\" />\\n\\n<meta property=\"og:locale\" content=\"pt_BR\" />\\n<meta property=\"og:site_name\" content=\"Planalto\" />\\n\\n\\n  \\n\\n  \\n  \\n  <script>\\n    (function() {\\n        var po = document.createElement(\\'script\\');\\n        po.async = true;\\n        po.src = document.location.protocol + \\'//connect.facebook.net/pt_BR/all.js#xfbml=1\\';\\n        var head = document.getElementsByTagName(\\'head\\')[0];\\n        head.appendChild(po);\\n    }());\\n    </script>\\n\\n\\n\\n  \\n\\n  <meta name=\"twitter:card\" content=\"summary_large_image\" />\\n  <meta name=\"twitter:site\" content=\"@\" />\\n  \\n\\n\\n\\n\\n\\n<meta property=\"creator.productor\" content=\"https://www.gov.br/planalto\" />\\n\\n\\n\\n  \\n    <link rel=\"stylesheet\" type=\"text/css\" href=\"https://www.gov.br/planalto/portal_css/Sunburst%20Theme/reset-cachekey-cc9cec9bc2601a92c99554a7c0961817.css\" media=\"screen\" />\\n    <link rel=\"stylesheet\" type=\"text/css\" href=\"https://www.gov.br/planalto/portal_css/Sunburst%20Theme/base-cachekey-77537468d7cdf545f682a5a95b4e207b.css\" />\\n    <style type=\"text/css\" media=\"screen\">@import url(https://www.gov.br/planalto/portal_css/Sunburst%20Theme/resourceplone.app.jquerytools.dateinput-cachekey-290a4af032345e1a64797405929fb4dd.css);</style>\\n    <link rel=\"stylesheet\" type=\"text/css\" href=\"https://www.gov.br/planalto/portal_css/Sunburst%20Theme/resourceplone.formwidget.datetimestyles-cachekey-05728dd1ee9edd87bebff7853c7a41c8.css\" />\\n    <style type=\"text/css\" media=\"screen\">@import url(https://www.gov.br/planalto/portal_css/Sunburst%20Theme/resourcecollective.nitfnitf-cachekey-e3edd6988aeb801d60e2e925f1d11f09.css);</style>\\n    <link rel=\"stylesheet\" type=\"text/css\" href=\"https://www.gov.br/planalto/portal_css/Sunburst%20Theme/ploneCustom-cachekey-5538166288c639da359573aa525740ef.css\" />\\n        <!--[if lt IE 8]>    \\n    \\n    <link rel=\"stylesheet\" type=\"text/css\" href=\"https://www.gov.br/planalto/portal_css/Sunburst%20Theme/IEFixes-cachekey-ae3f189ab0e704902beef7140a09dab4.css\" media=\"screen\" />\\n        <![endif]-->\\n    \\n    <link rel=\"stylesheet\" type=\"text/css\" href=\"https://www.gov.br/planalto/portal_css/Sunburst%20Theme/resourcesc.photogalleryphotogallery-cachekey-3a648134993fc0c250ac0c12056a98da.css\" media=\"screen\" />\\n    <style type=\"text/css\" media=\"all\">@import url(https://www.gov.br/planalto/portal_css/Sunburst%20Theme/resourcepas.plugins.loginunicologinunico-cachekey-81d7acbdfb9ad818d0f8b3e8f04a998a.css);</style>\\n    <link rel=\"stylesheet\" type=\"text/css\" href=\"https://www.gov.br/planalto/portal_css/Sunburst%20Theme/resourcegovbr.policycanais-cachekey-5e895d8fe92bebbab561fe4a52748c03.css\" media=\"screen\" />\\n\\n  \\n  \\n    <script type=\"text/javascript\" src=\"https://www.gov.br/planalto/portal_javascripts/Sunburst%20Theme/resourceplone.app.jquery-cachekey-b20f57ddf86b495fae4fed1a3d3508d4.js\"></script>\\n    <script type=\"text/javascript\" src=\"https://www.gov.br/planalto/portal_javascripts/Sunburst%20Theme/collective.js.jqueryui.custom.min-cachekey-de1c670ff7034e9f748522e4b63dd196.js\"></script>\\n    <script type=\"text/javascript\" src=\"https://www.gov.br/planalto/portal_javascripts/Sunburst%20Theme/resourceplone.formwidget.recurrencejquery.tmpl-beta1-cachekey-dc7798519f6d67cf682386fed305deed.js\"></script>\\n    <script type=\"text/javascript\" src=\"https://www.gov.br/planalto/portal_javascripts/Sunburst%20Theme/resourcecollective.js.bootstrapjsbootstrap.min-cachekey-6f6c95ca25608f913ff3b3b1d279d31c.js\"></script>\\n    <script type=\"text/javascript\" src=\"https://www.gov.br/planalto/portal_javascripts/Sunburst%20Theme/resourcecollective.coverjsmain-cachekey-3175440ad5b12a7e49dc2579710231a8.js\"></script>\\n    <script type=\"text/javascript\" src=\"https://www.gov.br/planalto/portal_javascripts/Sunburst%20Theme/resourcebrasil.gov.tilesvendorjquery.jplayer.min-cachekey-39a2ff3751db580e9ed02e6941e21f34.js\"></script>\\n    <script type=\"text/javascript\" src=\"https://www.gov.br/planalto/portal_javascripts/Sunburst%20Theme/resourcedropdown-menu-cachekey-d925733e0994449b5f6ab44d196b7d6b.js\"></script>\\n    <script type=\"text/javascript\" src=\"https://www.gov.br/planalto/portal_javascripts/Sunburst%20Theme/resourcegovbr.policybrowser-update-cachekey-b90ec0ef44f211f734b8d7b5f9cab55a.js\"></script>\\n    <script type=\"text/javascript\">\\n/* - ++resource++lgpd.plugin/lgpd-cookie-bar.js - */\\n!function(e){var o={};function a(n){if(o[n])return o[n].exports;var i=o[n]={i:n,l:!1,exports:{}};return e[n].call(i.exports,i,i.exports,a),i.l=!0,i.exports}a.m=e,a.c=o,a.d=function(e,o,n){a.o(e,o)||Object.defineProperty(e,o,{enumerable:!0,get:n})},a.r=function(e){\"undefined\"!=typeof Symbol&&Symbol.toStringTag&&Object.defineProperty(e,Symbol.toStringTag,{value:\"Module\"}),Object.defineProperty(e,\"__esModule\",{value:!0})},a.t=function(e,o){if(1&o&&(e=a(e)),8&o)return e;if(4&o&&\"object\"==typeof e&&e&&e.__esModule)return e;var n=Object.create(null);if(a.r(n),Object.defineProperty(n,\"default\",{enumerable:!0,value:e}),2&o&&\"string\"!=typeof e)for(var i in e)a.d(n,i,function(o){return e[o]}.bind(null,i));return n},a.n=function(e){var o=e&&e.__esModule?function(){return e.default}:function(){return e};return a.d(o,\"a\",o),o},a.o=function(e,o){return Object.prototype.hasOwnProperty.call(e,o)},a.p=\"\",a(a.s=9)}([function(e,o,a){\"use strict\";e.exports=function(e){var o=[];return o.toString=function(){return this.map((function(o){var a=function(e,o){var a=e[1]||\"\",n=e[3];if(!n)return a;if(o&&\"function\"==typeof btoa){var i=(t=n,s=btoa(unescape(encodeURIComponent(JSON.stringify(t)))),c=\"sourceMappingURL=data:application/json;charset=utf-8;base64,\".concat(s),\"/*# \".concat(c,\" */\")),r=n.sources.map((function(e){return\"/*# sourceURL=\".concat(n.sourceRoot||\"\").concat(e,\" */\")}));return[a].concat(r).concat([i]).join(\"\\\\n\")}var t,s,c;return[a].join(\"\\\\n\")}(o,e);return o[2]?\"@media \".concat(o[2],\" {\").concat(a,\"}\"):a})).join(\"\")},o.i=function(e,a,n){\"string\"==typeof e&&(e=[[null,e,\"\"]]);var i={};if(n)for(var r=0;r<this.length;r++){var t=this[r][0];null!=t&&(i[t]=!0)}for(var s=0;s<e.length;s++){var c=[].concat(e[s]);n&&i[c[0]]||(a&&(c[2]?c[2]=\"\".concat(a,\" and \").concat(c[2]):c[2]=a),o.push(c))}},o}},function(e,o,a){\"use strict\";var n,i=function(){return void 0===n&&(n=Boolean(window&&document&&document.all&&!window.atob)),n},r=function(){var e={};return function(o){if(void 0===e[o]){var a=document.querySelector(o);if(window.HTMLIFrameElement&&a instanceof window.HTMLIFrameElement)try{a=a.contentDocument.head}catch(e){a=null}e[o]=a}return e[o]}}(),t=[];function s(e){for(var o=-1,a=0;a<t.length;a++)if(t[a].identifier===e){o=a;break}return o}function c(e,o){for(var a={},n=[],i=0;i<e.length;i++){var r=e[i],c=o.base?r[0]+o.base:r[0],l=a[c]||0,d=\"\".concat(c,\" \").concat(l);a[c]=l+1;var p=s(d),u={css:r[1],media:r[2],sourceMap:r[3]};-1!==p?(t[p].references++,t[p].updater(u)):t.push({identifier:d,updater:m(u,o),references:1}),n.push(d)}return n}function l(e){var o=document.createElement(\"style\"),n=e.attributes||{};if(void 0===n.nonce){var i=a.nc;i&&(n.nonce=i)}if(Object.keys(n).forEach((function(e){o.setAttribute(e,n[e])})),\"function\"==typeof e.insert)e.insert(o);else{var t=r(e.insert||\"head\");if(!t)throw new Error(\"Couldn\\'t find a style target. This probably means that the value for the \\'insert\\' parameter is invalid.\");t.appendChild(o)}return o}var d,p=(d=[],function(e,o){return d[e]=o,d.filter(Boolean).join(\"\\\\n\")});function u(e,o,a,n){var i=a?\"\":n.media?\"@media \".concat(n.media,\" {\").concat(n.css,\"}\"):n.css;if(e.styleSheet)e.styleSheet.cssText=p(o,i);else{var r=document.createTextNode(i),t=e.childNodes;t[o]&&e.removeChild(t[o]),t.length?e.insertBefore(r,t[o]):e.appendChild(r)}}function b(e,o,a){var n=a.css,i=a.media,r=a.sourceMap;if(i?e.setAttribute(\"media\",i):e.removeAttribute(\"media\"),r&&btoa&&(n+=\"\\\\n/*# sourceMappingURL=data:application/json;base64,\".concat(btoa(unescape(encodeURIComponent(JSON.stringify(r)))),\" */\")),e.styleSheet)e.styleSheet.cssText=n;else{for(;e.firstChild;)e.removeChild(e.firstChild);e.appendChild(document.createTextNode(n))}}var g=null,f=0;function m(e,o){var a,n,i;if(o.singleton){var r=f++;a=g||(g=l(o)),n=u.bind(null,a,r,!1),i=u.bind(null,a,r,!0)}else a=l(o),n=b.bind(null,a,o),i=function(){!function(e){if(null===e.parentNode)return!1;e.parentNode.removeChild(e)}(a)};return n(e),function(o){if(o){if(o.css===e.css&&o.media===e.media&&o.sourceMap===e.sourceMap)return;n(e=o)}else i()}}e.exports=function(e,o){(o=o||{}).singleton||\"boolean\"==typeof o.singleton||(o.singleton=i());var a=c(e=e||[],o);return function(e){if(e=e||[],\"[object Array]\"===Object.prototype.toString.call(e)){for(var n=0;n<a.length;n++){var i=s(a[n]);t[i].references--}for(var r=c(e,o),l=0;l<a.length;l++){var d=s(a[l]);0===t[d].references&&(t[d].updater(),t.splice(d,1))}a=r}}}},function(e,o){e.exports=\\'<h2 class=\"lcb-barra-titulo\">Definições dos Cookies</h2> <p class=\"lcb-barra-subtitulo\">Lei Geral de Proteção de Dados</p> <h3>O que são cookies?</h3> <p> Cookies são arquivos salvos em seu computador, tablet ou telefone quando você visita um site.Usamos os cookies necessários para fazer o site funcionar da melhor forma possível e sempre aprimorar os nossos serviços. </p> <p> Alguns cookies são classificados como <strong>necessários</strong> e permitem a funcionalidade central, como <strong>segurança</strong>, <strong>gerenciamento de rede</strong> e <strong>acessibilidade</strong>. Estes cookies podem ser coletados e armazenados assim que você inicia sua navegação ou quando usa algum recurso que os requer. </p> <div class=\"lcb-painel\"> <input id=\"lcb-cookies-primarios\" class=\"lcb-toggle\" type=\"checkbox\"/> <label for=\"lcb-cookies-primarios\" class=\"lcb-painel-titulo\"> Cookies Primários <img src=\"data:image/png;base64,iVBORw0KGgoAAAANSUhEUgAAABgAAAAYCAYAAADgdz34AAAAzklEQVRIS+2TsQ6CMBCG73wEeCwh6e6oq446AqOOuuro3gR8LPoInGlNDRLaqxC2sjShd/+X/78rwsIfLqwPEcAmHCOaF1EiXoWS68qnkoi6VDIvXTXOGehGRCyA6NTK/DImkIr6CIhnIqpcEB6glQkOrcxufUgqmj0gXM31FIBu/LowIrBTMnt8/jdbRLhz4vqeXdM+BDvaGNEVPkPEgwBDJzYmXyz9KFkHtvg3LvdQh8sQDLBO9Olby1kA9lWNFPzlIAKmJMD2xBmwEb0BxjRUGflVXQkAAAAASUVORK5CYII=\" class=\"lcb-arrow-down\" alt=\"\" aria-hidden=\"true\"/> <img src=\"data:image/png;base64,iVBORw0KGgoAAAANSUhEUgAAABgAAAAYCAYAAADgdz34AAAAs0lEQVRIS+2SMQ7CMAxF/ff2MO11GMtK2GAExrIRVhi5TnuYdv8oVEipBLEHKpZ4yWK9F38bsnBhYb5kgZpwjui3ERW1Owbi2PnXaynzDiY4DhOUJ6vEJJjD3/+2SVRBDCdkFfCgPKyTJAUxHJT10F/uAVxW24aQm0XyVTCLhXRj76/xUovKbQTwmkQVQLgfOn/+dDFl7XYUtKmlqxFp1xImTfWoS7bceqonC9QEc0T/j+gJ1y9IGeIR/EoAAAAASUVORK5CYII=\" class=\"lcb-arrow-up\" alt=\"\" aria-hidden=\"true\"/> </label> <div class=\"lcb-painel-conteudo\"> <p> Alguns cookies serão colocados em seu dispositivo diretamente pelo nosso site - são conhecidos como <strong>cookies primários</strong>. Eles são essenciais para você navegar no site e usar seus recursos. </p> <div class=\"lcb-durabilidade\"> <h4>Temporários</h4> <p> Nós utilizamos cookies de sessão. Eles são temporários e expiram quando você fecha o navegador ou quando a sessão termina. </p> <div class=\"lcb-finalidade\"> <h5>Finalidade</h5> <p>Estabelecer controle de idioma e segurança ao tempo da sessão.</p> </div> </div> <div class=\"lcb-durabilidade\"> <h4>Persistentes</h4> <p> Utilizamos também cookies persistentes que permanecem em seu disco rígido até que você os apague ou seu navegador o faça, dependendo da data de expiração do cookie. Todos os cookies persistentes têm uma data de expiração gravada em seu código, mas sua duração pode variar. </p> <div class=\"lcb-finalidade\"> <h5>Finalidade</h5> <p>Coletam e armazenam a ciência sobre o uso de cookies no site.</p> </div> </div> </div> </div> <div class=\"lcb-painel\"> <input id=\"lcb-cookies-terceiros\" class=\"lcb-toggle\" type=\"checkbox\"/> <label for=\"lcb-cookies-terceiros\" class=\"lcb-painel-titulo\"> Cookies de Terceiros <img src=\"data:image/png;base64,iVBORw0KGgoAAAANSUhEUgAAABgAAAAYCAYAAADgdz34AAAAzklEQVRIS+2TsQ6CMBCG73wEeCwh6e6oq446AqOOuuro3gR8LPoInGlNDRLaqxC2sjShd/+X/78rwsIfLqwPEcAmHCOaF1EiXoWS68qnkoi6VDIvXTXOGehGRCyA6NTK/DImkIr6CIhnIqpcEB6glQkOrcxufUgqmj0gXM31FIBu/LowIrBTMnt8/jdbRLhz4vqeXdM+BDvaGNEVPkPEgwBDJzYmXyz9KFkHtvg3LvdQh8sQDLBO9Olby1kA9lWNFPzlIAKmJMD2xBmwEb0BxjRUGflVXQkAAAAASUVORK5CYII=\" class=\"lcb-arrow-down\" alt=\"\" aria-hidden=\"true\"/> <img src=\"data:image/png;base64,iVBORw0KGgoAAAANSUhEUgAAABgAAAAYCAYAAADgdz34AAAAs0lEQVRIS+2SMQ7CMAxF/ff2MO11GMtK2GAExrIRVhi5TnuYdv8oVEipBLEHKpZ4yWK9F38bsnBhYb5kgZpwjui3ERW1Owbi2PnXaynzDiY4DhOUJ6vEJJjD3/+2SVRBDCdkFfCgPKyTJAUxHJT10F/uAVxW24aQm0XyVTCLhXRj76/xUovKbQTwmkQVQLgfOn/+dDFl7XYUtKmlqxFp1xImTfWoS7bceqonC9QEc0T/j+gJ1y9IGeIR/EoAAAAASUVORK5CYII=\" class=\"lcb-arrow-up\" alt=\"\" aria-hidden=\"true\"/> </label> <div class=\"lcb-painel-conteudo\"> <p> Outros cookies são colocados no seu dispositivo não pelo site que você está visitando, mas <strong>por terceiros</strong>, como, por exemplo, os sistemas analíticos. </p> <div class=\"lcb-durabilidade\"> <h4>Temporários</h4> <p> Nós utilizamos cookies de sessão. Eles são temporários e expiram quando você fecha o navegador ou quando a sessão termina. </p> <div class=\"lcb-finalidade\"> <h5>Finalidade</h5> <p> Coletam informações sobre como você usa o site, como as páginas que você visitou e os links em que clicou. Nenhuma dessas informações pode ser usada para identificá-lo. Seu único objetivo é possibilitar análises e melhorar as funções do site. </p> </div> </div> <div class=\"lcb-durabilidade\"> <h4>Persistentes</h4> <p> Utilizamos também cookies persistentes que permanecem em seu disco rígido até que você os apague ou seu navegador o faça, dependendo da data de expiração do cookie. Todos os cookies persistentes têm uma data de expiração gravada em seu código, mas sua duração pode variar. </p> <div class=\"lcb-finalidade\"> <h5>Finalidade</h5> <p> Coletam informações sobre como você usa o site, como as páginas que você visitou e os links em que clicou. Nenhuma dessas informações pode ser usada para identificá-lo. Seu único objetivo é possibilitar análises e melhorar as funções do site. </p> </div> </div> </div> </div> <p> Você pode desabilitá-los alterando as configurações do seu navegador, <strong>mas saiba que isso pode afetar o funcionamento do site</strong>. </p> <p> <a href=\"https://support.google.com/chrome/answer/95647?co=GENIE.Platform%3DDesktop&hl=pt-BR\" target=\"_blank\">Chrome</a> </p> <p> <a href=\"https://support.mozilla.org/pt-BR/kb/desative-cookies-terceiros-impedir-rastreamento\" target=\"_blank\">Firefox</a> </p> <p> <a href=\"https://support.microsoft.com/pt-br/help/4027947/microsoft-edge-delete-cookies\" target=\"_blank\">Microsoft Edge</a> </p> <p> <a href=\"https://support.microsoft.com/pt-br/help/17442/windows-internet-explorer-delete-manage-cookies\" target=\"_blank\">Internet Explorer</a> </p> \\'},function(e,o){e.exports=\\'<h2 class=\"lcb-barra-titulo\">Cookie Settings</h2> <p class=\"lcb-barra-subtitulo\">General Data Protection Law</p> <h3>What are cookies?</h3> <p> Cookies are files saved on your computer, tablet or phone when you visit a website. We use the necessary cookies to make the website work the best way possible and to always improve our services. </p> <p> Some cookies are classified as <strong>necessary</strong> and allow the central functionality, such as <strong>security</strong>, <strong>network management</strong> and <strong>accessibility</strong>. These cookies can be collected and stored as soon as you start your navigation or when you use a feature that requires them. </p> <div class=\"lcb-painel\"> <input id=\"lcb-cookies-primarios\" class=\"lcb-toggle\" type=\"checkbox\"/> <label for=\"lcb-cookies-primarios\" class=\"lcb-painel-titulo\"> First-Party Cookies <img src=\"data:image/png;base64,iVBORw0KGgoAAAANSUhEUgAAABgAAAAYCAYAAADgdz34AAAAzklEQVRIS+2TsQ6CMBCG73wEeCwh6e6oq446AqOOuuro3gR8LPoInGlNDRLaqxC2sjShd/+X/78rwsIfLqwPEcAmHCOaF1EiXoWS68qnkoi6VDIvXTXOGehGRCyA6NTK/DImkIr6CIhnIqpcEB6glQkOrcxufUgqmj0gXM31FIBu/LowIrBTMnt8/jdbRLhz4vqeXdM+BDvaGNEVPkPEgwBDJzYmXyz9KFkHtvg3LvdQh8sQDLBO9Olby1kA9lWNFPzlIAKmJMD2xBmwEb0BxjRUGflVXQkAAAAASUVORK5CYII=\" class=\"lcb-arrow-down\" alt=\"\" aria-hidden=\"true\"/> <img src=\"data:image/png;base64,iVBORw0KGgoAAAANSUhEUgAAABgAAAAYCAYAAADgdz34AAAAs0lEQVRIS+2SMQ7CMAxF/ff2MO11GMtK2GAExrIRVhi5TnuYdv8oVEipBLEHKpZ4yWK9F38bsnBhYb5kgZpwjui3ERW1Owbi2PnXaynzDiY4DhOUJ6vEJJjD3/+2SVRBDCdkFfCgPKyTJAUxHJT10F/uAVxW24aQm0XyVTCLhXRj76/xUovKbQTwmkQVQLgfOn/+dDFl7XYUtKmlqxFp1xImTfWoS7bceqonC9QEc0T/j+gJ1y9IGeIR/EoAAAAASUVORK5CYII=\" class=\"lcb-arrow-up\" alt=\"\" aria-hidden=\"true\"/> </label> <div class=\"lcb-painel-conteudo\"> <p> Some cookies will be placed on your device directly by our website - known as <strong>first-party cookies</strong>. They are essential for you to browse the website and use its resources. </p> <div class=\"lcb-durabilidade\"> <h4>Temporary</h4> <p> We use session cookies. They are temporary and expire when you close the browser or when the session ends. </p> <div class=\"lcb-finalidade\"> <h5>Purpose</h5> <p>Establish language control and security to session time.</p> </div> </div> <div class=\"lcb-durabilidade\"> <h4>Persistent</h4> <p> We also use persistent cookies that remain on your hard drive until you or your browser delete them, depending on the expiration date of the cookie. All persistent cookies have an expiration date written in their code, but their duration can vary. </p> <div class=\"lcb-finalidade\"> <h5>Purpose</h5> <p> Collect and store science about the use of cookies on the website. </p> </div> </div> </div> </div> <div class=\"lcb-painel\"> <input id=\"lcb-cookies-terceiros\" class=\"lcb-toggle\" type=\"checkbox\"/> <label for=\"lcb-cookies-terceiros\" class=\"lcb-painel-titulo\"> Third-party Cookies <img src=\"data:image/png;base64,iVBORw0KGgoAAAANSUhEUgAAABgAAAAYCAYAAADgdz34AAAAzklEQVRIS+2TsQ6CMBCG73wEeCwh6e6oq446AqOOuuro3gR8LPoInGlNDRLaqxC2sjShd/+X/78rwsIfLqwPEcAmHCOaF1EiXoWS68qnkoi6VDIvXTXOGehGRCyA6NTK/DImkIr6CIhnIqpcEB6glQkOrcxufUgqmj0gXM31FIBu/LowIrBTMnt8/jdbRLhz4vqeXdM+BDvaGNEVPkPEgwBDJzYmXyz9KFkHtvg3LvdQh8sQDLBO9Olby1kA9lWNFPzlIAKmJMD2xBmwEb0BxjRUGflVXQkAAAAASUVORK5CYII=\" class=\"lcb-arrow-down\" alt=\"\" aria-hidden=\"true\"/> <img src=\"data:image/png;base64,iVBORw0KGgoAAAANSUhEUgAAABgAAAAYCAYAAADgdz34AAAAs0lEQVRIS+2SMQ7CMAxF/ff2MO11GMtK2GAExrIRVhi5TnuYdv8oVEipBLEHKpZ4yWK9F38bsnBhYb5kgZpwjui3ERW1Owbi2PnXaynzDiY4DhOUJ6vEJJjD3/+2SVRBDCdkFfCgPKyTJAUxHJT10F/uAVxW24aQm0XyVTCLhXRj76/xUovKbQTwmkQVQLgfOn/+dDFl7XYUtKmlqxFp1xImTfWoS7bceqonC9QEc0T/j+gJ1y9IGeIR/EoAAAAASUVORK5CYII=\" class=\"lcb-arrow-up\" alt=\"\" aria-hidden=\"true\"/> </label> <div class=\"lcb-painel-conteudo\"> <p> Other cookies are placed on your device not by the website you are visiting, but <strong>by third parties</strong>, such as analytical systems, for example. </p> <div class=\"lcb-durabilidade\"> <h4>Temporary</h4> <p> We use session cookies. They are temporary and expire when you close the browser or when the session ends. </p> <div class=\"lcb-finalidade\"> <h5>Purpose</h5> <p> They collect information about how you use the website, such as the pages you visited and the links you clicked on. None of this information can be used to identify you. Its sole purpose is to enable analysis and improve the functions of the website. </p> </div> </div> <div class=\"lcb-durabilidade\"> <h4>Persistent</h4> <p> We also use persistent cookies that remain on your hard drive until you or your browser delete them, depending on the expiration date of the cookie. All persistent cookies have an expiration date written in their code, but their duration can vary. </p> <div class=\"lcb-finalidade\"> <h5>Purpose</h5> <p> They collect information about how you use the website, such as the pages you visited and the links you clicked on. None of this information can be used to identify you. Its sole purpose is to enable analysis and improve the functions of the website. </p> </div> </div> </div> </div> <p> You can disable them by changing the browser settings, <strong> but you should know that it can affect the functioning of the website </strong>. </p> <p> <a href=\"https://support.google.com/chrome/answer/95647?co=GENIE.Platform%3DDesktop&hl=pt-BR\" target=\"_blank\">Chrome</a> </p> <p> <a href=\"https://support.mozilla.org/pt-BR/kb/desative-cookies-terceiros-impedir-rastreamento\" target=\"_blank\">Firefox</a> </p> <p> <a href=\"https://support.microsoft.com/pt-br/help/4027947/microsoft-edge-delete-cookies\" target=\"_blank\">Microsoft Edge</a> </p> <p> <a href=\"https://support.microsoft.com/pt-br/help/17442/windows-internet-explorer-delete-manage-cookies\" target=\"_blank\">Internet Explorer</a> </p> \\'},function(e,o){e.exports=\\'<h2 class=\"lcb-barra-titulo\">Definición de las cookies</h2> <p class=\"lcb-barra-subtitulo\">Ley General de Protección de Datos</p> <h3>¿O qué son las cookies?</h3> <p> Las cookies son archivos que se almacenan en su ordenador, tableta o teléfono cuando usted visita un sitio web. Utilizamos las cookies necesarias para que el sitio web mantenga sus funcionalidades y siempre refinar nuestros servicios. </p> <p> Algunas cookies se clasifican como necesarias y permiten la funcionalidad principal, como seguridad, gestión de la red y la accesibilidad. </p> <p> Estas cookies pueden ser colectadas y almacenadas tan luego se inicia su navegación o cuando se utiliza algún recurso que lo necesite. </p> <div class=\"lcb-painel\"> <input id=\"lcb-cookies-primarios\" class=\"lcb-toggle\" type=\"checkbox\"/> <label for=\"lcb-cookies-primarios\" class=\"lcb-painel-titulo\"> Cookies Primarias <img src=\"data:image/png;base64,iVBORw0KGgoAAAANSUhEUgAAABgAAAAYCAYAAADgdz34AAAAzklEQVRIS+2TsQ6CMBCG73wEeCwh6e6oq446AqOOuuro3gR8LPoInGlNDRLaqxC2sjShd/+X/78rwsIfLqwPEcAmHCOaF1EiXoWS68qnkoi6VDIvXTXOGehGRCyA6NTK/DImkIr6CIhnIqpcEB6glQkOrcxufUgqmj0gXM31FIBu/LowIrBTMnt8/jdbRLhz4vqeXdM+BDvaGNEVPkPEgwBDJzYmXyz9KFkHtvg3LvdQh8sQDLBO9Olby1kA9lWNFPzlIAKmJMD2xBmwEb0BxjRUGflVXQkAAAAASUVORK5CYII=\" class=\"lcb-arrow-down\" alt=\"\" aria-hidden=\"true\"/> <img src=\"data:image/png;base64,iVBORw0KGgoAAAANSUhEUgAAABgAAAAYCAYAAADgdz34AAAAs0lEQVRIS+2SMQ7CMAxF/ff2MO11GMtK2GAExrIRVhi5TnuYdv8oVEipBLEHKpZ4yWK9F38bsnBhYb5kgZpwjui3ERW1Owbi2PnXaynzDiY4DhOUJ6vEJJjD3/+2SVRBDCdkFfCgPKyTJAUxHJT10F/uAVxW24aQm0XyVTCLhXRj76/xUovKbQTwmkQVQLgfOn/+dDFl7XYUtKmlqxFp1xImTfWoS7bceqonC9QEc0T/j+gJ1y9IGeIR/EoAAAAASUVORK5CYII=\" class=\"lcb-arrow-up\" alt=\"\" aria-hidden=\"true\"/> </label> <div class=\"lcb-painel-conteudo\"> <p> Algunas cookies serán colocadas en su dispositivo directamente por nuestro sitio web - se consideran <strong>cookies primarias</strong>. Son esenciales para que usted navegue en el sitio web y utilice sus recursos. </p> <div class=\"lcb-durabilidade\"> <h4>Temporales</h4> <p> Nosotros utilizamos cookies de sesión. Son temporales y caducan cuando se encierra el navegador o cuando finaliza su sesión. </p> <div class=\"lcb-finalidade\"> <h5>Finalidad</h5> <p>Establecer control de idioma y seguridad durante la sesión.</p> </div> </div> <div class=\"lcb-durabilidade\"> <h4>Persistentes</h4> <p> También utilizamos cookies persistentes que permanecen en su ordenador hasta que usted los borre o su navegador lo haga, dependiendo de la fecha de caducidad de la cookie. Todas las cookies persistentes tienen una fecha de caducidad establecida en su código, pero su duración puede variar. </p> <div class=\"lcb-finalidade\"> <h5>Finalidad</h5> <p> Colectan y almacenan el aceite sobre el uso de cookies en el sitio web. </p> </div> </div> </div> </div> <div class=\"lcb-painel\"> <input id=\"lcb-cookies-terceiros\" class=\"lcb-toggle\" type=\"checkbox\"/> <label for=\"lcb-cookies-terceiros\" class=\"lcb-painel-titulo\"> Cookies de Terceros <img src=\"data:image/png;base64,iVBORw0KGgoAAAANSUhEUgAAABgAAAAYCAYAAADgdz34AAAAzklEQVRIS+2TsQ6CMBCG73wEeCwh6e6oq446AqOOuuro3gR8LPoInGlNDRLaqxC2sjShd/+X/78rwsIfLqwPEcAmHCOaF1EiXoWS68qnkoi6VDIvXTXOGehGRCyA6NTK/DImkIr6CIhnIqpcEB6glQkOrcxufUgqmj0gXM31FIBu/LowIrBTMnt8/jdbRLhz4vqeXdM+BDvaGNEVPkPEgwBDJzYmXyz9KFkHtvg3LvdQh8sQDLBO9Olby1kA9lWNFPzlIAKmJMD2xBmwEb0BxjRUGflVXQkAAAAASUVORK5CYII=\" class=\"lcb-arrow-down\" alt=\"\" aria-hidden=\"true\"/> <img src=\"data:image/png;base64,iVBORw0KGgoAAAANSUhEUgAAABgAAAAYCAYAAADgdz34AAAAs0lEQVRIS+2SMQ7CMAxF/ff2MO11GMtK2GAExrIRVhi5TnuYdv8oVEipBLEHKpZ4yWK9F38bsnBhYb5kgZpwjui3ERW1Owbi2PnXaynzDiY4DhOUJ6vEJJjD3/+2SVRBDCdkFfCgPKyTJAUxHJT10F/uAVxW24aQm0XyVTCLhXRj76/xUovKbQTwmkQVQLgfOn/+dDFl7XYUtKmlqxFp1xImTfWoS7bceqonC9QEc0T/j+gJ1y9IGeIR/EoAAAAASUVORK5CYII=\" class=\"lcb-arrow-up\" alt=\"\" aria-hidden=\"true\"/> </label> <div class=\"lcb-painel-conteudo\"> <p> Otras cookies son puestas en su dispositivo no por el sitio web que está visitando, sino <strong>por terceros</strong>, como, por ejemplo, sistemas analíticos. </p> <div class=\"lcb-durabilidade\"> <h4>Temporales</h4> <p> Utilizamos cookies de sesión. Son temporales y caducan cuando se cierra el navegador o cuando finaliza su sesión. </p> <div class=\"lcb-finalidade\"> <h5>Finalidad</h5> <p> Colectan informaciones sobre cómo usted usa el sitio web, como las páginas que visitou y los links que hice clic. Ninguna de estas informaciones pueden ser utilizadas para identificarlo. Su único propósito es habilitar el análisis y mejorar las funciones del sitio. </p> </div> </div> <div class=\"lcb-durabilidade\"> <h4>Persistentes</h4> <p> También utilizamos cookies persistentes que permanecen en su ordenador hasta que usted los borre o su navegador lo haga, dependiendo de la fecha de caducidad de la cookie. Todas las cookies persistentes tienen una fecha de caducidad establecida en su código, pero su duración puede variar. </p> <div class=\"lcb-finalidade\"> <h5>Finalidad</h5> <p> Colectan informaciones sobre cómo usted usa el sitio web, como las páginas que visitou y los links que hice clic. Ninguna de estas informaciones pueden ser utilizadas para identificarlo. Su único propósito es habilitar el análisis y mejorar las funciones del sitio. </p> </div> </div> </div> </div> <p> Você pode desabilitá-los alterando as configurações do seu navegador, <strong>mas saiba que isso pode afetar o funcionamento do site</strong>. </p> <p> <a href=\"https://support.google.com/chrome/answer/95647?co=GENIE.Platform%3DDesktop&hl=pt-BR\" target=\"_blank\">Chrome</a> </p> <p> <a href=\"https://support.mozilla.org/pt-BR/kb/desative-cookies-terceiros-impedir-rastreamento\" target=\"_blank\">Firefox</a> </p> <p> <a href=\"https://support.microsoft.com/pt-br/help/4027947/microsoft-edge-delete-cookies\" target=\"_blank\">Microsoft Edge</a> </p> <p> <a href=\"https://support.microsoft.com/pt-br/help/17442/windows-internet-explorer-delete-manage-cookies\" target=\"_blank\">Internet Explorer</a> </p> \\'},function(e,o,a){var n=a(1),i=a(7);\"string\"==typeof(i=i.__esModule?i.default:i)&&(i=[[e.i,i,\"\"]]);var r,t=0,s={injectType:\"lazySingletonStyleTag\",attributes:{id:\"lgpd-cookie-banner-styles\"},insert:\"head\",singleton:!0},c={};c.locals=i.locals||{},c.use=function(){return t++||(r=n(i,s)),c},c.unuse=function(){t>0&&!--t&&(r(),r=null)},e.exports=c},function(e,o,a){var n=a(1),i=a(8);\"string\"==typeof(i=i.__esModule?i.default:i)&&(i=[[e.i,i,\"\"]]);var r,t=0,s={injectType:\"lazySingletonStyleTag\",attributes:{id:\"lgpd-cookie-banner-styles\"},insert:\"head\",singleton:!0},c={};c.locals=i.locals||{},c.use=function(){return t++||(r=n(i,s)),c},c.unuse=function(){t>0&&!--t&&(r(),r=null)},e.exports=c},function(e,o,a){\"use strict\";a.r(o);var n=a(0),i=a.n(n)()(!1);i.push([e.i,\"#lgpd-cookie-banner-barra-overlay{position:fixed;top:0;right:0;bottom:0;left:0;z-index:99999999;background-color:rgba(0,0,0,.3);opacity:1;animation-name:lcb-anim-fade-in;animation-duration:800ms;animation-timing-function:ease-in-out}#lgpd-cookie-banner-barra-overlay.close{opacity:0;transition:opacity 400ms ease-in-out}#lgpd-cookie-banner-barra{position:fixed;top:0;bottom:0;left:0;z-index:99999999;display:flex;flex-direction:column;box-sizing:border-box;width:100%;max-width:500px;font-size:14px;background-color:#fff;box-shadow:0 3px 6px 0 rgba(0,0,0,.16);transform-origin:center center;animation-name:lcb-anim-from-left;animation-duration:400ms;animation-timing-function:ease-in-out}#lgpd-cookie-banner-barra.close{transform:translateX(-200%);transition:transform 400ms ease-in-out}#lgpd-cookie-banner-barra .lcb-botao-fechar{position:absolute;top:0;right:0;z-index:2;width:60px;height:60px;background-color:transparent;padding:0;border:0 none;cursor:pointer}#lgpd-cookie-banner-barra .lcb-barra-header{display:flex;padding:0 50px 0 20px;z-index:1;display:flex;align-items:center;box-sizing:border-box;box-shadow:0 3px 6px 0 rgba(0,0,0,.16);min-height:60px}#lgpd-cookie-banner-barra .lcb-barra-header .lcb-titulo{color:#555;font-weight:500;font-size:16px}#lgpd-cookie-banner-barra .lcb-barra-header .lcb-logo{max-height:48px}#lgpd-cookie-banner-barra .lcb-barra-header .lcb-logo+.lcb-titulo{font-weight:400;font-size:14px;padding-left:12px;margin-left:12px;border-left:1px solid #ccc}#lgpd-cookie-banner-barra .lcb-barra-conteudo{flex:1;padding:24px;overflow:auto}#lgpd-cookie-banner-barra .lcb-botoes{z-index:1;background-color:#fff;box-shadow:0 -3px 6px 0 rgba(0,0,0,.16)}@keyframes lcb-anim-fade-in{0%{opacity:0}}@keyframes lcb-anim-from-left{0%{transform:translateX(-200%)}30%{transform:translateX(-200%)}50%{opacity:0}100%{transform:translateX(0);opacity:1}}#lgpd-cookie-banner-barra .lcb-painel{margin:32px 0;border-top:1px solid #ccc;border-bottom:1px solid #ccc}#lgpd-cookie-banner-barra .lcb-painel .lcb-toggle{display:none}#lgpd-cookie-banner-barra .lcb-painel .lcb-painel-titulo{display:flex;align-items:center;justify-content:space-between;padding:16px 0;color:#1351b4;font-weight:500;font-size:16px;cursor:pointer}#lgpd-cookie-banner-barra .lcb-painel .lcb-painel-titulo .lcb-arrow-up{display:none}#lgpd-cookie-banner-barra .lcb-painel .lcb-painel-conteudo{box-sizing:border-box;max-height:0px;overflow:hidden;transition:max-height .5s ease-out}#lgpd-cookie-banner-barra .lcb-painel .lcb-toggle:checked+.lcb-painel-titulo{color:#0c326f}#lgpd-cookie-banner-barra .lcb-painel .lcb-toggle:checked+.lcb-painel-titulo .lcb-arrow-down{display:none}#lgpd-cookie-banner-barra .lcb-painel .lcb-toggle:checked+.lcb-painel-titulo .lcb-arrow-up{display:block}#lgpd-cookie-banner-barra .lcb-painel .lcb-toggle:checked+.lcb-painel-titulo+.lcb-painel-conteudo{max-height:140vh;padding-bottom:24px}#lgpd-cookie-banner-barra .lcb-painel+.lcb-painel{margin-top:-32px;border-top:0 none}#lgpd-cookie-banner-barra .lcb-barra-conteudo .lcb-barra-titulo{margin:0 0 8px;font-weight:500;font-size:18px;text-align:center}#lgpd-cookie-banner-barra .lcb-barra-conteudo .lcb-barra-subtitulo{margin-bottom:32px;padding-bottom:32px;font-size:14px;text-align:center;border-bottom:1px solid #ccc}#lgpd-cookie-banner-barra .lcb-barra-conteudo h3{font-weight:500}#lgpd-cookie-banner-barra .lcb-barra-conteudo h4,#lgpd-cookie-banner-barra .lcb-barra-conteudo h5{margin-bottom:8px;font-weight:500}#lgpd-cookie-banner-barra .lcb-barra-conteudo .lcb-durabilidade{margin:32px 12px;padding-bottom:32px;border-bottom:1px solid #ccc}#lgpd-cookie-banner-barra .lcb-barra-conteudo .lcb-durabilidade+.lcb-durabilidade{padding:0;border:0 none}#lgpd-cookie-banner-barra .lcb-barra-conteudo .lcb-finalidade{padding:16px 16px 1px;background-color:#ededed}\",\"\"]),o.default=i},function(e,o,a){\"use strict\";a.r(o);var n=a(0),i=a.n(n)()(!1);i.push([e.i,\\'#lgpd-cookie-banner-janela,#lgpd-cookie-banner-barra{color:#333;font-size:16px}#lgpd-cookie-banner-janela p,#lgpd-cookie-banner-janela h2,#lgpd-cookie-banner-janela h3,#lgpd-cookie-banner-janela h4,#lgpd-cookie-banner-janela h5,#lgpd-cookie-banner-janela a,#lgpd-cookie-banner-janela label,#lgpd-cookie-banner-janela strong,#lgpd-cookie-banner-janela b,#lgpd-cookie-banner-barra p,#lgpd-cookie-banner-barra h2,#lgpd-cookie-banner-barra h3,#lgpd-cookie-banner-barra h4,#lgpd-cookie-banner-barra h5,#lgpd-cookie-banner-barra a,#lgpd-cookie-banner-barra label,#lgpd-cookie-banner-barra strong,#lgpd-cookie-banner-barra b{font-size:16px;line-height:1.4}#lgpd-cookie-banner-janela p,#lgpd-cookie-banner-janela h2,#lgpd-cookie-banner-janela h3,#lgpd-cookie-banner-janela h4,#lgpd-cookie-banner-janela h5,#lgpd-cookie-banner-barra p,#lgpd-cookie-banner-barra h2,#lgpd-cookie-banner-barra h3,#lgpd-cookie-banner-barra h4,#lgpd-cookie-banner-barra h5{margin:0 0 16px}#lgpd-cookie-banner-janela a,#lgpd-cookie-banner-barra a{color:#1351b4;text-decoration:none}#lgpd-cookie-banner-janela a:hover,#lgpd-cookie-banner-barra a:hover{text-decoration:underline}#lgpd-cookie-banner-janela .lcb-botoes,#lgpd-cookie-banner-barra .lcb-botoes{display:flex;flex-wrap:wrap;align-items:center;justify-content:center;box-sizing:border-box;min-height:88px;padding:20px}#lgpd-cookie-banner-janela .lcb-botao,#lgpd-cookie-banner-barra .lcb-botao{display:inline-block;width:auto;height:40px;margin:4px 8px;padding:0 32px;font-family:inherit;color:#fff;font-weight:600;white-space:nowrap;text-align:center;background-color:#1351b4;border:0 none;border-radius:20px;cursor:pointer}#lgpd-cookie-banner-janela .lcb-botao:hover,#lgpd-cookie-banner-barra .lcb-botao:hover{color:#1351b4;background-color:#dbe8fb}.lcb-fonte-padrao{font-family:-apple-system,BlinkMacSystemFont,\"Segoe UI\",Roboto,Oxygen,Ubuntu,Cantarell,\"Open Sans\",\"Helvetica Neue\",sans-serif}#lgpd-cookie-banner-janela{position:fixed;right:20px;bottom:20px;left:20px;z-index:99999999;padding:24px 24px 0;background:#ccc;background:#f8f8f8;background:#ededed;box-shadow:0 3px 6px 0 rgba(0,0,0,.16);transform-origin:center center;animation-name:lcb-anim-from-bottom;animation-duration:400ms;animation-timing-function:ease-in-out}@media(max-width: 459px){#lgpd-cookie-banner-janela{right:0;bottom:0;left:0}}#lgpd-cookie-banner-janela.dismissed{transform:translateY(200%);transition:transform 400ms ease-in-out}#lgpd-cookie-banner-janela .lcb-titulo{margin-bottom:1em;color:#555;font-weight:500;font-size:16px}#lgpd-cookie-banner-janela .lcb-mensagem{color:#555;font-size:16px;line-height:1.4}@keyframes lcb-anim-from-bottom{0%{transform:translateY(200%)}30%{transform:translateY(200%)}50%{opacity:0}100%{transform:translateY(0);opacity:1}}\\',\"\"]),o.default=i},function(e,o,a){\"use strict\";a.r(o);var n=function(e){var o=(\"; \"+document.cookie).split(\"; \"+e+\"=\");return o.length<2?void 0:o.pop().split(\";\").shift()},i=function(e,o,a,n,i,r){var t=new Date;t.setHours(t.getHours()+24*(a||365));var s=[e+\"=\"+o,\"expires=\"+t.toUTCString(),\"path=\"+(i||\"/\")];n&&s.push(\"domain=\"+n),r&&s.push(\"secure\"),document.cookie=s.join(\";\")};function r(e){return(r=\"function\"==typeof Symbol&&\"symbol\"==typeof Symbol.iterator?function(e){return typeof e}:function(e){return e&&\"function\"==typeof Symbol&&e.constructor===Symbol&&e!==Symbol.prototype?\"symbol\":typeof e})(e)}var t=function(e){\"loading\"!=document.readyState?e():document.addEventListener(\"DOMContentLoaded\",e)},s=function(e){document.body.appendChild(e)},c=function(e){return\"object\"===r(e)&&null!==e&&e.constructor==Object},l=function(e,o){var a=arguments.length>2&&void 0!==arguments[2]?arguments[2]:[],n=arguments.length>3&&void 0!==arguments[3]?arguments[3]:{},i=document.createElement(e);return i.innerHTML=o,a.forEach((function(e){return i.classList.add(e)})),Object.keys(n).forEach((function(e){return i[e]=n[e]})),i},d=a(2),p=a.n(d),u=a(3),b=a.n(u),g=a(4),f=a.n(g),m={idiomas:{\"pt-br\":{banner_titulo:\"Política de uso de Cookies\",banner_texto:\\'Usamos <a href=\"#\" id=\"lcb-abre-barra\">cookies</a> para armazenar informações\\\\n        sobre como você usa o nosso site e as páginas que visita. Tudo para tornar sua\\\\n        experiência a mais agradável possível. Para entender os tipos de cookies\\\\n        que utilizamos, clique em <strong>Definições dos cookies</strong>. Ao clicar em <strong>Eu concordo</strong>,\\\\n        você consente com a utilização de cookies.\\',botao_primario:\"Eu concordo\",botao_info:\"Definições dos cookies\",botao_fechar:\"Fechar\",info_titulo:\"Lei Geral de Proteção de Dados\",info_texto:p.a,info_url:\"\",info_url_elemento:\"\",info_rodape:\"\"},en:{banner_titulo:\"Cookie Policy\",banner_texto:\"\\\\n        We use cookies to store information about how you use\\\\n        our website and\\\\n        the pages you visit. We do this to make your experience as pleasant as\\\\n        possible. By clicking <strong>I Accept</strong>, you agree with our\\\\n        use of cookies. To understand the types of cookies we use, click on\\\\n        <strong>Cookie Settings</strong>.\\\\n      \",botao_primario:\"Accept\",botao_info:\"Cookies Settings\",botao_fechar:\"Close\",info_titulo:\"Cookie Settings\",info_texto:b.a,info_url:\"\",info_url_elemento:\"\",info_rodape:\"\"},es:{banner_titulo:\"Política de uso de las cookies\",banner_texto:\"\\\\n        Usamos cookies para almacenar información sobre cómo usa nuestro sitio web y las páginas que visita. \\\\n        Todo para que tu experiencia sea lo más agradable posible. \\\\n        Al hacer clic en <strong>Estoy consiento</strong>, usted conviene con el uso de las cookies. \\\\n        Para comprender los tipos de cookies que utilizamos, haga clic en <strong>Definición de cookies</strong>.\",botao_primario:\"Estoy consiento\",botao_info:\"Definición de cookies\",botao_fechar:\"Cerca\",info_titulo:\"Política de uso de las cookies\",info_texto:f.a,info_url:\"\",info_url_elemento:\"\",info_rodape:\"\"}},cookie:{name:\"lgpd_cookie_status\",path:\"/\",domain:\"\",expiryDays:365,secure:!1},marca:\"\",fonte:\"\"};function h(e,o){return function(e){if(Array.isArray(e))return e}(e)||function(e,o){if(\"undefined\"==typeof Symbol||!(Symbol.iterator in Object(e)))return;var a=[],n=!0,i=!1,r=void 0;try{for(var t,s=e[Symbol.iterator]();!(n=(t=s.next()).done)&&(a.push(t.value),!o||a.length!==o);n=!0);}catch(e){i=!0,r=e}finally{try{n||null==s.return||s.return()}finally{if(i)throw r}}return a}(e,o)||function(e,o){if(!e)return;if(\"string\"==typeof e)return A(e,o);var a=Object.prototype.toString.call(e).slice(8,-1);\"Object\"===a&&e.constructor&&(a=e.constructor.name);if(\"Map\"===a||\"Set\"===a)return Array.from(e);if(\"Arguments\"===a||/^(?:Ui|I)nt(?:8|16|32)(?:Clamped)?Array$/.test(a))return A(e,o)}(e,o)||function(){throw new TypeError(\"Invalid attempt to destructure non-iterable instance.\\\\nIn order to be iterable, non-array objects must have a [Symbol.iterator]() method.\")}()}function A(e,o){(null==o||o>e.length)&&(o=e.length);for(var a=0,n=new Array(o);a<o;a++)n[a]=e[a];return n}var v,k=function(e){var o=function e(o,a){for(var n in a)a.hasOwnProperty(n)&&(n in o&&c(o[n])&&c(a[n])?e(o[n],a[n]):o[n]=a[n]);return o}(m,e);return Object.entries(o.idiomas).forEach((function(e){var o=h(e,2),a=o[0],n=o[1];n.banner_texto||n.banner_titulo||console.error(\\'[Erro no idioma \"\\'.concat(a,\\'\"] Você deve fornecer pelo menos o título ou texto do banner\\')),n.botao_primario||console.error(\\'[Erro no idioma \"\\'.concat(a,\\'\"] Você deve fornecer um label para o botão principal da janela\\')),n.info_url_elemento&&!n.info_url&&console.warn(\\'[Erro no idioma \"\\'.concat(a,\\'\"] O parâmetro info_url_elemento será ignorado, pois info_url não é uma url válida\\'))})),o},y=function(){return\\'\\\\n  <img src=\"\\'.concat(\"data:image/png;base64,iVBORw0KGgoAAAANSUhEUgAAABgAAAAYCAYAAADgdz34AAAAsElEQVRIS91VwQ2AIAwsjOAYuokffw7Jz4+b6BiOgAYjicFS7mE1ypfrXbheiyHlY5T56ccCVTfWy9DOiIUSlrUoFBjr3eptXxIpYS8CsYCIGiKaJBEEK75AEkHIg73ZFEkEKLkoEC45or3IeodYWBTgRI5UFfsT0wcNWvKSUCs2/xzt9wXSPtxqkWqTVWOK5BzBsDFFC3Nzku6u55ddzLDqukb+ABQDDRpKxuG+L7ABTybeGd+bmsMAAAAASUVORK5CYII=\",\\'\" aria-hidden=\"true\" alt=\"\" class=\"lcb-icone-fechar\">\\\\n\\')},x=function(e,o){var a=o.idiomas[e],n=a.info_texto,i=a.info_url,r=a.info_url_elemento,t=a.info_rodape,s=l(\"div\",n,[\"lcb-barra-conteudo\"],{});if(i&&function(e,o,a){var n=sessionStorage[e];if(a.innerHTML=\"<p>Carregando...</p>\",o||(o=\"body\"),n)return a.innerHTML=n;var i=new XMLHttpRequest;i.responseType=\"document\",i.onload=function(){sessionStorage[e]=a.innerHTML=i.response.querySelector(o).innerHTML},i.open(\"GET\",e,!0),i.send()}(i,r,s),t){var c=l(\"div\",t,[\"lcb-barra-rodape\"]);s.appendChild(c)}return s},w=a(5),E=a.n(w),C=function(e,o){var a=o.idiomas[e],n=a.info_titulo,i=a.botao_primario,r=a.botao_fechar;E.a.use();var t,c=((t=l(\"div\",null,[],{id:\"lgpd-cookie-banner-barra-overlay\"})).addEventListener(\"click\",(function(){I.destroySidebar()})),t),d=function(){var e=arguments.length>0&&void 0!==arguments[0]?arguments[0]:\"\",o=arguments.length>1&&void 0!==arguments[1]?arguments[1]:\"\",a=\"\";return o&&(a+=\\'<img class=\"lcb-logo\" src=\"\\'.concat(o,\\'\" alt=\"\" aria-hidden=\"\">\\')),e&&(a+=\\'<div class=\"lcb-titulo\">\\'.concat(e,\"</div>\")),l(\"div\",a,[\"lcb-barra-header\"])}(n,o.marca),p=function(){var e=arguments.length>0&&void 0!==arguments[0]?arguments[0]:\"Fechar\",o=l(\"button\",y(),[\"lcb-botao-fechar\"],{type:\"button\",\"aria-label\":e});return o.addEventListener(\"click\",(function(){I.destroySidebar()})),o}(r),u=x(e,o),b=S(i,o.cookie),g=function(){var e=arguments.length>0&&void 0!==arguments[0]?arguments[0]:[],o=arguments.length>1&&void 0!==arguments[1]?arguments[1]:\"\",a=[],n={role:\"dialog\",\"aria-live\":\"polite\",id:\"lgpd-cookie-banner-barra\"};\"padrao\"===o?a.push(\"lcb-fonte-padrao\"):o&&\"parent\"!==o&&(n.style=\"font-family: \".concat(o));var i=l(\"div\",null,a,n);return e.forEach((function(e){e&&i.appendChild(e)})),i}([d,p,u,O([b])],o.fonte);s(c),s(g)},I={confirmarCiencia:function(e){return i(e.name,\"dismissed\",e.expiryDays,e.domain,e.path,e.secure)},abrirSidebar:function(e,o){C(e,o)},destroySidebar:function(){var e,o,a=document.getElementById(\"lgpd-cookie-banner-barra\");if(a){if(o=\"close\",(e=a).classList?e.classList.contains(o):new RegExp(\"(^| )\"+o+\"( |$)\",\"gi\").test(e.className))return;a.classList.add(\"close\"),setTimeout((function(){a.parentNode.removeChild(a)}),600)}var n=document.getElementById(\"lgpd-cookie-banner-barra-overlay\");n&&(n.classList.add(\"close\"),setTimeout((function(){n.parentNode.removeChild(n)}),600))},destroy:function(){var e=document.getElementById(\"lgpd-cookie-banner-janela\");e&&(e.classList.add(\"dismissed\"),setTimeout((function(){e.parentNode.removeChild(e),css=document.getElementById(\"lgpd-cookie-banner-styles\"),css&&css.parentNode.removeChild(css)}),2e3))}},S=function(e,o){if(!e)return null;var a=l(\"button\",e,[\"lcb-botao\",\"lcb-ciente\"],{type:\"button\"});return a.addEventListener(\"click\",(function(){I.confirmarCiencia(o),I.destroy(),I.destroySidebar()})),a},O=function(){var e=arguments.length>0&&void 0!==arguments[0]?arguments[0]:[];if(!e.length)return null;var o=l(\"div\",null,[\"lcb-botoes\"]);return e.forEach((function(e){e&&o.appendChild(e)})),o},B=a(6),T=a.n(B),R=function(e,o){var a=o.idiomas[e],n=a.banner_titulo,i=a.banner_texto,r=a.botao_primario,t=a.botao_info;T.a.use();var c,d=(c=n)?l(\"div\",c,[\"lcb-titulo\"]):null,p=function(e){return l(\"div\",e,[\"lcb-mensagem\"],{id:\"lgpd-cookie-banner:desc\"})}(i),u=S(r,o.cookie),b=function(e,o,a){if(!e)return null;var n=l(\"button\",e,[\"lcb-botao\",\"lcb-info\"],{});return n.addEventListener(\"click\",(function(){I.abrirSidebar(o,a)})),n}(t,e,o),g=function(){var e=arguments.length>0&&void 0!==arguments[0]?arguments[0]:[],o=arguments.length>1&&void 0!==arguments[1]?arguments[1]:\"\",a=[\"lcb-janela\"],n={role:\"dialog\",\"aria-live\":\"polite\",\"aria-label\":\"lgpd-cookie-banner\",\"aria-describedby\":\"lgpd-cookie-banner:desc\",id:\"lgpd-cookie-banner-janela\"};\"padrao\"===o?a.push(\"lcb-fonte-padrao\"):o&&\"parent\"!==o&&(n.style=\"font-family: \".concat(o));var i=l(\"div\",null,a,n);return e.forEach((function(e){e&&i.appendChild(e)})),i}([d,p,O([b,u])],o.fonte);s(g),function(e,o){var a=document.getElementById(\"lcb-abre-barra\");a&&a.addEventListener(\"click\",(function(){I.abrirSidebar(e,o)}))}(e,o)};(v=window.lgpd_cookie_banner||{}).inicializado||(v.init=function(){var e=arguments.length>0&&void 0!==arguments[0]?arguments[0]:\"pt-br\",o=arguments.length>1&&void 0!==arguments[1]?arguments[1]:{};v.options=k(o);var a=n(v.options.cookie.name);a&&void 0!==a||t((function(){R(e,v.options)}))},v.inicializado=!0,window.lgpd_cookie_banner=v)}]);\\n</script>\\n    <script type=\"text/javascript\">\\n/* - cookie_banner.js - */\\n// https://www.gov.br/planalto/portal_javascripts/cookie_banner.js?original=1\\n(function(L){L.init(\\'pt-br\\',{idiomas:{\"pt-br\":{banner_titulo:\"\",banner_texto:\"Nós usamos cookies para melhorar sua experiência de navegação no portal. Ao utilizar o gov.br, você concorda com a política de monitoramento de cookies. Para ter mais informações sobre como isso é feito, acesse <a href=\\\\\"#\\\\\" id=\\\\\"lcb-abre-barra\\\\\">Política de cookies</a>. Se você concorda, clique em ACEITO.\",botao_primario:\"ACEITO\",botao_info:\"\",botao_fechar:\"Fechar\",info_titulo:\"Política de cookies\",info_texto:\"<h3>O que são cookies?</h3>\\\\n<p>\\\\n  Cookies são arquivos salvos em seu computador, tablet ou telefone quando você\\\\n  visita um site.Usamos os cookies necessários para fazer o site funcionar da\\\\n  melhor forma possível e sempre aprimorar os nossos serviços.\\\\n</p>\\\\n<p>\\\\n  Alguns cookies são classificados como <strong>necessários</strong> e permitem\\\\n  a funcionalidade central, como <strong>segurança</strong>,\\\\n  <strong>gerenciamento de rede</strong> e <strong>acessibilidade</strong>.\\\\n  Estes cookies podem ser coletados e armazenados assim que você inicia sua\\\\n  navegação ou quando usa algum recurso que os requer.\\\\n</p>\\\\n\\\\n<!-- Primarios -->\\\\n<div class=\\\\\"lcb-painel\\\\\">\\\\n  <input id=\\\\\"lcb-cookies-primarios\\\\\" class=\\\\\"lcb-toggle\\\\\" type=\\\\\"checkbox\\\\\" />\\\\n  <label for=\\\\\"lcb-cookies-primarios\\\\\" class=\\\\\"lcb-painel-titulo\\\\\">\\\\n    Cookies Primários\\\\n    <img\\\\n      src=\\\\\"data:image/png;base64,iVBORw0KGgoAAAANSUhEUgAAABgAAAAYCAYAAADgdz34AAAAzklEQVRIS+2TsQ6CMBCG73wEeCwh6e6oq446AqOOuuro3gR8LPoInGlNDRLaqxC2sjShd/+X/78rwsIfLqwPEcAmHCOaF1EiXoWS68qnkoi6VDIvXTXOGehGRCyA6NTK/DImkIr6CIhnIqpcEB6glQkOrcxufUgqmj0gXM31FIBu/LowIrBTMnt8/jdbRLhz4vqeXdM+BDvaGNEVPkPEgwBDJzYmXyz9KFkHtvg3LvdQh8sQDLBO9Olby1kA9lWNFPzlIAKmJMD2xBmwEb0BxjRUGflVXQkAAAAASUVORK5CYII=\\\\\"\\\\n      class=\\\\\"lcb-arrow-down\\\\\"\\\\n      alt=\\\\\"\\\\\"\\\\n      aria-hidden=\\\\\"true\\\\\"\\\\n    />\\\\n    <img\\\\n      src=\\\\\"data:image/png;base64,iVBORw0KGgoAAAANSUhEUgAAABgAAAAYCAYAAADgdz34AAAAs0lEQVRIS+2SMQ7CMAxF/ff2MO11GMtK2GAExrIRVhi5TnuYdv8oVEipBLEHKpZ4yWK9F38bsnBhYb5kgZpwjui3ERW1Owbi2PnXaynzDiY4DhOUJ6vEJJjD3/+2SVRBDCdkFfCgPKyTJAUxHJT10F/uAVxW24aQm0XyVTCLhXRj76/xUovKbQTwmkQVQLgfOn/+dDFl7XYUtKmlqxFp1xImTfWoS7bceqonC9QEc0T/j+gJ1y9IGeIR/EoAAAAASUVORK5CYII=\\\\\"\\\\n      class=\\\\\"lcb-arrow-up\\\\\"\\\\n      alt=\\\\\"\\\\\"\\\\n      aria-hidden=\\\\\"true\\\\\"\\\\n    />\\\\n  </label>\\\\n  <div class=\\\\\"lcb-painel-conteudo\\\\\">\\\\n    <p>\\\\n      Alguns cookies serão colocados em seu dispositivo diretamente pelo nosso\\\\n      site - são conhecidos como <strong>cookies primários</strong>. Eles são\\\\n      essenciais para você navegar no site e usar seus recursos.\\\\n    </p>\\\\n\\\\n    <!-- Temporarios (Primarios) -->\\\\n    <div class=\\\\\"lcb-durabilidade\\\\\">\\\\n      <h4>Temporários</h4>\\\\n      <p>\\\\n        Nós utilizamos cookies de sessão. Eles são temporários e expiram quando\\\\n        você fecha o navegador ou quando a sessão termina.\\\\n      </p>\\\\n      <div class=\\\\\"lcb-finalidade\\\\\">\\\\n        <h5>Finalidade</h5>\\\\n        <p>Estabelecer controle de idioma e segurança ao tempo da sessão.</p>\\\\n      </div>\\\\n    </div>\\\\n    <!-- Temporarios (Primarios) -->\\\\n\\\\n    <!-- Persistentes (Primarios) -->\\\\n    <div class=\\\\\"lcb-durabilidade\\\\\">\\\\n      <h4>Persistentes</h4>\\\\n      <p>\\\\n        Utilizamos também cookies persistentes que permanecem em seu disco\\\\n        rígido até que você os apague ou seu navegador o faça, dependendo da\\\\n        data de expiração do cookie. Todos os cookies persistentes têm uma data\\\\n        de expiração gravada em seu código, mas sua duração pode variar.\\\\n      </p>\\\\n      <div class=\\\\\"lcb-finalidade\\\\\">\\\\n        <h5>Finalidade</h5>\\\\n        <p>Coletam e armazenam a ciência sobre o uso de cookies no site.</p>\\\\n      </div>\\\\n    </div>\\\\n    <!-- Persistentes (Primarios) -->\\\\n  </div>\\\\n</div>\\\\n<!-- Primarios -->\\\\n\\\\n<!-- Terceiros -->\\\\n<div class=\\\\\"lcb-painel\\\\\">\\\\n  <input id=\\\\\"lcb-cookies-terceiros\\\\\" class=\\\\\"lcb-toggle\\\\\" type=\\\\\"checkbox\\\\\" />\\\\n  <label for=\\\\\"lcb-cookies-terceiros\\\\\" class=\\\\\"lcb-painel-titulo\\\\\">\\\\n    Cookies de Terceiros\\\\n    <img\\\\n      src=\\\\\"data:image/png;base64,iVBORw0KGgoAAAANSUhEUgAAABgAAAAYCAYAAADgdz34AAAAzklEQVRIS+2TsQ6CMBCG73wEeCwh6e6oq446AqOOuuro3gR8LPoInGlNDRLaqxC2sjShd/+X/78rwsIfLqwPEcAmHCOaF1EiXoWS68qnkoi6VDIvXTXOGehGRCyA6NTK/DImkIr6CIhnIqpcEB6glQkOrcxufUgqmj0gXM31FIBu/LowIrBTMnt8/jdbRLhz4vqeXdM+BDvaGNEVPkPEgwBDJzYmXyz9KFkHtvg3LvdQh8sQDLBO9Olby1kA9lWNFPzlIAKmJMD2xBmwEb0BxjRUGflVXQkAAAAASUVORK5CYII=\\\\\"\\\\n      class=\\\\\"lcb-arrow-down\\\\\"\\\\n      alt=\\\\\"\\\\\"\\\\n      aria-hidden=\\\\\"true\\\\\"\\\\n    />\\\\n    <img\\\\n      src=\\\\\"data:image/png;base64,iVBORw0KGgoAAAANSUhEUgAAABgAAAAYCAYAAADgdz34AAAAs0lEQVRIS+2SMQ7CMAxF/ff2MO11GMtK2GAExrIRVhi5TnuYdv8oVEipBLEHKpZ4yWK9F38bsnBhYb5kgZpwjui3ERW1Owbi2PnXaynzDiY4DhOUJ6vEJJjD3/+2SVRBDCdkFfCgPKyTJAUxHJT10F/uAVxW24aQm0XyVTCLhXRj76/xUovKbQTwmkQVQLgfOn/+dDFl7XYUtKmlqxFp1xImTfWoS7bceqonC9QEc0T/j+gJ1y9IGeIR/EoAAAAASUVORK5CYII=\\\\\"\\\\n      class=\\\\\"lcb-arrow-up\\\\\"\\\\n      alt=\\\\\"\\\\\"\\\\n      aria-hidden=\\\\\"true\\\\\"\\\\n    />\\\\n  </label>\\\\n  <div class=\\\\\"lcb-painel-conteudo\\\\\">\\\\n    <p>\\\\n      Outros cookies são colocados no seu dispositivo não pelo site que você\\\\n      está visitando, mas <strong>por terceiros</strong>, como, por exemplo, os\\\\n      sistemas analíticos.\\\\n    </p>\\\\n\\\\n    <!-- Temporarios (Terceiros) -->\\\\n    <div class=\\\\\"lcb-durabilidade\\\\\">\\\\n      <h4>Temporários</h4>\\\\n      <p>\\\\n        Nós utilizamos cookies de sessão. Eles são temporários e expiram quando\\\\n        você fecha o navegador ou quando a sessão termina.\\\\n      </p>\\\\n      <div class=\\\\\"lcb-finalidade\\\\\">\\\\n        <h5>Finalidade</h5>\\\\n        <p>\\\\n          Coletam informações sobre como você usa o site, como as páginas que\\\\n          você visitou e os links em que clicou. Nenhuma dessas informações pode\\\\n          ser usada para identificá-lo. Seu único objetivo é possibilitar\\\\n          análises e melhorar as funções do site.\\\\n        </p>\\\\n      </div>\\\\n    </div>\\\\n    <!-- Temporarios (Terceiros) -->\\\\n\\\\n    <!-- Persistentes (Terceiros) -->\\\\n    <div class=\\\\\"lcb-durabilidade\\\\\">\\\\n      <h4>Persistentes</h4>\\\\n      <p>\\\\n        Utilizamos também cookies persistentes que permanecem em seu disco\\\\n        rígido até que você os apague ou seu navegador o faça, dependendo da\\\\n        data de expiração do cookie. Todos os cookies persistentes têm uma data\\\\n        de expiração gravada em seu código, mas sua duração pode variar.\\\\n      </p>\\\\n      <div class=\\\\\"lcb-finalidade\\\\\">\\\\n        <h5>Finalidade</h5>\\\\n        <p>\\\\n          Coletam informações sobre como você usa o site, como as páginas que\\\\n          você visitou e os links em que clicou. Nenhuma dessas informações pode\\\\n          ser usada para identificá-lo. Seu único objetivo é possibilitar\\\\n          análises e melhorar as funções do site.\\\\n        </p>\\\\n      </div>\\\\n    </div>\\\\n    <!-- Persistentes (Terceiros) -->\\\\n  </div>\\\\n</div>\\\\n<!-- Terceiros -->\\\\n\\\\n<p>\\\\n  Você pode desabilitá-los alterando as configurações do seu navegador,\\\\n  <strong>mas saiba que isso pode afetar o funcionamento do site</strong>.\\\\n</p>\\\\n<p>\\\\n  <a\\\\n    href=\\\\\"https://support.google.com/chrome/answer/95647?co=GENIE.Platform%3DDesktop&hl=pt-BR\\\\\"\\\\n    target=\\\\\"_blank\\\\\"\\\\n    >Chrome</a\\\\n  >\\\\n</p>\\\\n<p>\\\\n  <a\\\\n    href=\\\\\"https://support.mozilla.org/pt-BR/kb/desative-cookies-terceiros-impedir-rastreamento\\\\\"\\\\n    target=\\\\\"_blank\\\\\"\\\\n    >Firefox</a\\\\n  >\\\\n</p>\\\\n<p>\\\\n  <a\\\\n    href=\\\\\"https://support.microsoft.com/pt-br/help/4027947/microsoft-edge-delete-cookies\\\\\"\\\\n    target=\\\\\"_blank\\\\\"\\\\n    >Microsoft Edge</a\\\\n  >\\\\n</p>\\\\n<p>\\\\n  <a\\\\n    href=\\\\\"https://support.microsoft.com/pt-br/help/17442/windows-internet-explorer-delete-manage-cookies\\\\\"\\\\n    target=\\\\\"_blank\\\\\"\\\\n    >Internet Explorer</a\\\\n  >\\\\n</p>\\\\n\"},\"en\":{},\"es\":{}},fonte:\"\",marca:\"logo.png\"})})(window.lgpd_cookie_banner);\\n</script>\\n\\n\\n\\n  <link rel=\"stylesheet\" href=\"https://www.gov.br/planalto/++resource++brasil.gov.agenda/brasilgovagenda-720c34e.css\" />\\n\\n\\n  <script defer=\"defer\" src=\"https://www.gov.br/planalto/++resource++brasil.gov.agenda/brasilgovagenda-720c34e.js\"></script>\\n\\n\\n\\n  <link rel=\"stylesheet\" href=\"https://www.gov.br/planalto/++resource++brasil.gov.portal/brasilgovportal-b9966f9.css\" />\\n\\n\\n  <script defer=\"defer\" src=\"https://www.gov.br/planalto/++resource++brasil.gov.portal/brasilgovportal-b9966f9.js\"></script>\\n\\n\\n\\n<title>Pronunciamentos do Presidente da República — Português (Brasil)</title>\\n\\n<link rel=\"http://purl.org/dc/terms/subject http://schema.org/about http://xmlns.com/foaf/0.1/primaryTopic\" href=\"http://vocab.e.gov.br/2011/03/vcge#esquema\" />\\n        \\n    <link rel=\"author\" href=\"https://www.gov.br/planalto/pt-br/author/Planalto\" title=\"Informações do Autor\" />\\n\\n\\n    <link rel=\"canonical\" href=\"https://www.gov.br/planalto/pt-br/acompanhe-o-planalto/pronunciamentos/pronunciamentos-do-presidente-da-republica\" />\\n\\n    \\n    \\n\\n\\n<script type=\"text/javascript\">\\n        jQuery(function($){\\n            if (typeof($.datepicker) != \"undefined\"){\\n              $.datepicker.setDefaults(\\n                jQuery.extend($.datepicker.regional[\\'pt-BR\\'],\\n                {dateFormat: \\'dd/mm/yy\\'}));\\n            }\\n        });\\n        </script>\\n\\n\\n\\n    <link rel=\"alternate\" href=\"https://www.gov.br/planalto/pt-br/acompanhe-o-planalto/pronunciamentos/pronunciamentos-do-presidente-da-republica/RSS\" title=\"Pronunciamentos do Presidente da República - RSS 1.0\" type=\"application/rss+xml\" />\\n\\n    <link rel=\"alternate\" href=\"https://www.gov.br/planalto/pt-br/acompanhe-o-planalto/pronunciamentos/pronunciamentos-do-presidente-da-republica/rss.xml\" title=\"Pronunciamentos do Presidente da República - RSS 2.0\" type=\"application/rss+xml\" />\\n\\n    <link rel=\"alternate\" href=\"https://www.gov.br/planalto/pt-br/acompanhe-o-planalto/pronunciamentos/pronunciamentos-do-presidente-da-republica/atom.xml\" title=\"Pronunciamentos do Presidente da República - Atom\" type=\"application/rss+xml\" />\\n\\n    <link rel=\"alternate\" href=\"https://www.gov.br/planalto/pt-br/acompanhe-o-planalto/pronunciamentos/pronunciamentos-do-presidente-da-republica/itunes.xml\" title=\"Pronunciamentos do Presidente da República - iTunes\" type=\"application/rss+xml\" />\\n\\n\\n    <link rel=\"search\" href=\"https://www.gov.br/planalto/pt-br/@@search\" title=\"Buscar neste site\" />\\n\\n\\n\\n        \\n        \\n        \\n        \\n        \\n\\n        \\n        <meta name=\"generator\" content=\"Plone - http://plone.org\" />\\n    \\n\\n    <meta charset=\"utf-8\" />\\n    \\n    <meta content=\"width=device-width, initial-scale=1.0\" name=\"viewport\" />\\n    <link rel=\"apple-touch-icon\" sizes=\"180x180\" href=\"/planalto/++theme++padrao_govbr/favicons/apple-touch-icon.png\" />\\n    <link rel=\"icon\" type=\"image/png\" sizes=\"32x32\" href=\"/planalto/++theme++padrao_govbr/favicons/favicon-32x32.png\" />\\n    <link rel=\"shortcut icon\" type=\"image/png\" href=\"/planalto/++theme++padrao_govbr/favicons/favicon-48x48.png\" />\\n    <link rel=\"mask-icon\" href=\"/planalto/++theme++padrao_govbr/favicons/safari-pinned-tab.svg\" color=\"#00a300\" />\\n    <meta name=\"msapplication-config\" content=\"favicons/browserconfig.xml\" />\\n    <meta name=\"theme-color\" content=\"#00a300\" />\\n    <link rel=\"stylesheet\" href=\"https://use.fontawesome.com/releases/v5.10.2/css/all.css\" crossorigin=\"anonymous\" />\\n    <script src=\"https://www.youtube.com/iframe_api\"></script>\\n    <style>\\n      body.userrole-authenticated .btn.btn-success.fileinput-button span:after {\\n          content: \"Adicionar Arquivos\" !important;\\n      }\\n    </style>\\n  <link href=\"/planalto/++theme++padrao_govbr/govbrtheme-27275d3.css\" rel=\"stylesheet\" /></head>\\n\\n  <body id=\"\" class=\"default-header-template portal-institucional template-summary_view portaltype-folder site-pt-br section-acompanhe-o-planalto subsection-pronunciamentos subsection-pronunciamentos-pronunciamentos-do-presidente-da-republica userrole-anonymous\" data-base-url=\"https://www.gov.br/planalto/pt-br/acompanhe-o-planalto/pronunciamentos/pronunciamentos-do-presidente-da-republica\" data-portal-url=\"https://www.gov.br/planalto\" dir=\"ltr\"><!-- Google Tag Manager (noscript) --><noscript>\\n                    <iframe src=\"https://www.googletagmanager.com/ns.html?id=GTM-NHZSKTD\" height=\"0\" width=\"0\" style=\"display:none;visibility:hidden\"></iframe>\\n                </noscript><!-- End Google Tag Manager (noscript) -->\\n    <nav class=\"govbr-skip-menu\" aria-label=\"Acesso rápido\">\\n      <a href=\"#wrapper\">\\n        <span class=\"sr-only\">Ir para o</span> Conteúdo\\n        <span class=\"access-key\">1</span>\\n      </a>\\n      <a href=\"/\">\\n        <span class=\"sr-only\">Ir para a</span> Página Inicial\\n        <span class=\"access-key\">2</span>\\n      </a>\\n      <a href=\"#main-navigation\">\\n        <span class=\"sr-only\">Ir para o menu de</span> Navegação\\n        <span class=\"access-key\">3</span>\\n      </a>\\n      <a href=\"#nolivesearchGadget\">\\n        <span class=\"sr-only\">Ir para a</span> Busca\\n        <span class=\"access-key\">4</span>\\n      </a>\\n      \\n      <a href=\"#portal-footer\">\\n        <span class=\"sr-only\">Ir para o</span> Mapa do site\\n        <span class=\"access-key\">5</span>\\n      </a>\\n    </nav>\\n\\n    <noscript role=\"contentinfo\" aria-label=\"Aviso de Javascript desabilitado\">\\n      <dl class=\"portalMessage attention erro-javascript\">\\n        <dd>Seu navegador não pode executar javascript. Alguns recursos podem não funcionar corretamente.</dd>\\n      </dl>\\n    </noscript>\\n  <div id=\"barra-identidade\">\\n    <div id=\"barra-brasil\" style=\"background:#7F7F7F; height: 20px; padding:0 0 0 10px;display:block;\">\\n            <ul id=\"menu-barra-temp\" style=\"list-style:none;\">\\n                    <li style=\"display:inline; float:left;padding-right:10px; margin-right:10px; border-right:1px solid #EDEDED\"><a href=\"http://brasil.gov.br\" style=\"font-family:sans,sans-serif; text-decoration:none; color:white;\">Portal do Governo Brasileiro</a></li>\\n                    <li><a style=\"font-family:sans,sans-serif; text-decoration:none; color:white;\" href=\"http://epwg.governoeletronico.gov.br/barra/atualize.html\">Atualize sua Barra de Governo</a></li>\\n            </ul>\\n    </div>\\n</div><!-- User --><!-- Header --><!--\\n    Para habilitar o novo menu &#233; necess&#225;rio descoment&#225;-lo em:\\n    govbr/institucional/viewlets/institucional_menu_govbr.pt\\n    --><!-- <header id=\"site-header\" class=\"has-navigation-swipe\"> --><header id=\"site-header\" class=\"has-navigation-dropdown\">\\n      <div class=\"header-wrapper secondary\">\\n        <div class=\"portal-name\">\\n          <a href=\"https://www.gov.br/pt-br\" class=\"portal-logo\">\\n            <span class=\"sr-only\">Portal Gov.br</span>\\n          </a>\\n          <a href=\"https://www.gov.br/planalto\" class=\"nome-orgao\">Presidência da República</a>\\n        </div>\\n\\n        \\n        <div class=\"site-header-links\">\\n          <div class=\"links-rapidos\">\\n            <a class=\"toggle-links-rapidos\" href=\"#\" title=\"Acesso rápido\">\\n              <span class=\"fas fa-ellipsis-v\"></span>\\n              <span class=\"sr-only\">Acesso rápido</span>\\n            </a>\\n\\n            <ul>\\n              <li class=\"titulo\">Acesso rápido</li>\\n              <li>\\n                <a href=\"https://www.gov.br/pt-br/orgaos-do-governo\">Órgãos do Governo</a>\\n              </li>\\n              <li>\\n                <a href=\"http://www.acessoainformacao.gov.br\">Acesso à Informação</a>\\n              </li>\\n              <li>\\n                <a href=\"http://www4.planalto.gov.br/legislacao\">Legislação</a>\\n              </li>\\n              <li>\\n                <a href=\"https://www.gov.br/governodigital/pt-br/acessibilidade-digital\">Acessibilidade</a>\\n              </li>\\n              <!--<li>\\n                <a href=\"http://www.vlibras.gov.br/\" class=\"link-vlibras\">\\n                  <span class=\"fas fa-assistive-listening-systems\"></span>\\n                </a>\\n              </li>-->\\n            </ul>\\n          </div>\\n          <ul class=\"header-icons\">\\n            \\n            <li>\\n              <a href=\"#\" class=\"link-contraste\">\\n                <span class=\"fas fa-adjust\" aria-hidden=\"true\"></span>\\n                <span class=\"sr-only\">Mudar para o modo de alto contraste</span>\\n              </a>\\n            </li>\\n          </ul>\\n\\n          <a href=\"https://acesso.gov.br\" class=\"link-acesso\">\\n            <span class=\"fas fa-user\"></span>\\n            Entrar\\n          </a>\\n        </div>\\n      \\n\\n      </div>\\n\\n      <div class=\"main\">\\n        <div class=\"header-wrapper\">\\n          <div class=\"site-name-wrapper\">\\n            <a class=\"ico-navegacao toggle-main-navigation\" href=\"#\">\\n              <span class=\"sr-only\">Abrir menu principal de navegação</span>\\n              <span class=\"fa fa-bars\" aria-hidden=\"true\"></span>\\n              <span class=\"fa fa-times\" aria-hidden=\"true\"></span>\\n            </a>\\n\\n            <!-- <a href=\"/\" class=\"site-name\">Nome do site</a> -->\\n            <!-- Usar nome completo -->\\n            \\n            <div class=\"site-name\">\\n              <a href=\"https://www.gov.br/planalto/pt-br\" title=\"O portal do Brasil\">Planalto</a>\\n            </div>\\n          </div>\\n\\n          <div id=\"portal-searchbox\">\\n\\n    <form id=\"nolivesearchGadget_form\" action=\"https://www.gov.br/planalto/pt-br/@@search\">\\n\\n        <div class=\"LSBox\">\\n        <label class=\"hiddenStructure\" for=\"nolivesearchGadget\">Busca</label>\\n\\n        <input name=\"SearchableText\" type=\"text\" size=\"18\" title=\"Buscar no Site\" placeholder=\"Buscar no Site\" class=\"searchField\" id=\"nolivesearchGadget\" />\\n\\n        <input class=\"searchButton\" type=\"submit\" value=\"Buscar\" />\\n\\n        \\n\\n        \\n        </div>\\n    </form>\\n\\n    \\n\\n</div>\\n        </div>\\n      </div>\\n\\n      <!-- Main Menu -->\\n      <nav class=\"navigation-wrapper navigation-dropdown\" aria-label=\"Menu Principal\">\\n        <div class=\"navigation-content\">\\n          <div id=\"main-navigation\" class=\"navigation-cell\">\\n            <ul class=\"list-navigation\"><li class=\"selected dropdown-submenu\"><a href=\"https://www.gov.br/planalto/pt-br/acompanhe-o-planalto\" class=\"plain\">Acompanhe o Planalto</a>\\n                <ul class=\"submenu\">\\n                    <li>\\n\\n    \\n\\n        <a href=\"https://www.gov.br/planalto/pt-br/acompanhe-o-planalto/noticias\" class=\"state-published\">\\n            \\n            Notícias\\n        </a>\\n\\n        \\n    \\n</li>\\n\\n<li>\\n\\n    \\n\\n        <a href=\"https://www.gov.br/planalto/pt-br/acompanhe-o-planalto/discursos\" class=\"state-published\">\\n            \\n            Discursos\\n        </a>\\n\\n        \\n    \\n</li>\\n\\n<li>\\n\\n    \\n\\n        <a href=\"https://www.gov.br/planalto/pt-br/acompanhe-o-planalto/pronunciamentos\" class=\"state-published\">\\n            \\n            Pronunciamentos\\n        </a>\\n\\n        \\n    \\n</li>\\n\\n<li>\\n\\n    \\n\\n        <a href=\"https://www.gov.br/planalto/pt-br/acompanhe-o-planalto/notas-oficiais\" class=\"state-published\">\\n            \\n            Notas Oficiais\\n        </a>\\n\\n        \\n    \\n</li>\\n\\n<li>\\n\\n    \\n\\n        <a href=\"https://www.gov.br/planalto/pt-br/acompanhe-o-planalto/notas-comunicados\" class=\"state-published\">\\n            \\n            Comunicados Interministeriais\\n        </a>\\n\\n        \\n    \\n</li>\\n\\n<li>\\n\\n    \\n\\n        <a href=\"https://www.gov.br/planalto/pt-br/acompanhe-o-planalto/entrevistas\" class=\"state-published\">\\n            \\n            Entrevistas\\n        </a>\\n\\n        \\n    \\n</li>\\n\\n<li class=\"dropdown-submenu\">\\n\\n    \\n\\n        <a href=\"https://www.gov.br/planalto/pt-br/acompanhe-o-planalto/foto-oficial\" class=\"state-published hasDropDown\">\\n            \\n            Foto Oficial\\n        </a>\\n\\n        <ul class=\"submenu navTree navTreeLevel1\">\\n            \\n\\n\\n\\n\\n<li>\\n\\n    \\n\\n        <a href=\"https://www.gov.br/planalto/pt-br/acompanhe-o-planalto/foto-oficial/fotos\" class=\"state-published\">\\n            \\n            Fotos\\n        </a>\\n\\n        \\n    \\n</li>\\n\\n\\n\\n\\n        </ul>\\n    \\n</li>\\n\\n<li class=\"dropdown-submenu\">\\n\\n    \\n\\n        <a href=\"https://www.gov.br/planalto/pt-br/acompanhe-o-planalto/area-de-imprensa\" class=\"state-published hasDropDown\">\\n            \\n            Área de Imprensa\\n        </a>\\n\\n        <ul class=\"submenu navTree navTreeLevel1\">\\n            \\n\\n\\n\\n\\n<li>\\n\\n    \\n\\n        <a href=\"https://www.gov.br/planalto/pt-br/acompanhe-o-planalto/area-de-imprensa/contatos-dos-assessores-de-imprensa-e-comunicacao-do-governo\" class=\"state-published\">\\n            \\n            Contatos dos Assessores de Imprensa e Comunicação do Governo\\n        </a>\\n\\n        \\n    \\n</li>\\n\\n<li>\\n\\n    \\n\\n        <a href=\"https://www.gov.br/planalto/pt-br/acompanhe-o-planalto/area-de-imprensa/sobre-a-secretaria-de-imprensa\" class=\"state-published\">\\n            \\n            Sobre a Secretaria de Imprensa\\n        </a>\\n\\n        \\n    \\n</li>\\n\\n\\n\\n\\n        </ul>\\n    \\n</li>\\n                </ul>\\n            </li><li class=\"plain dropdown-submenu\"><a href=\"https://www.gov.br/planalto/pt-br/conheca-a-presidencia\" class=\"plain\">Conheça a Presidência</a>\\n                <ul class=\"submenu\">\\n                    <li>\\n\\n    \\n\\n        <a href=\"https://www.gov.br/planalto/pt-br/conheca-a-presidencia/biografia-do-presidente\" class=\"state-published\">\\n            \\n            Biografia do Presidente\\n        </a>\\n\\n        \\n    \\n</li>\\n\\n<li>\\n\\n    \\n\\n        <a href=\"https://www.gov.br/planalto/pt-br/conheca-a-vice-presidencia/biografia-1\" class=\"state-published\">\\n            \\n            Biografia do Vice Presidente\\n        </a>\\n\\n        \\n    \\n</li>\\n\\n<li>\\n\\n    \\n\\n        <a href=\"https://www.gov.br/planalto/pt-br/acompanhe-o-planalto/agenda-do-presidente-da-republica\" class=\"state-published\">\\n            \\n            Agenda do Presidente da República\\n        </a>\\n\\n        \\n    \\n</li>\\n\\n<li class=\"dropdown-submenu\">\\n\\n    \\n\\n        <a href=\"https://www.gov.br/planalto/pt-br/conheca-a-presidencia/orgaos-da-presidencia-da-republica\" class=\"state-published hasDropDown\">\\n            \\n            Órgãos da Presidência da República\\n        </a>\\n\\n        <ul class=\"submenu navTree navTreeLevel1\">\\n            \\n\\n\\n\\n\\n<li>\\n\\n    \\n\\n        <a href=\"https://www.gov.br/planalto/pt-br/conheca-a-presidencia/orgaos-da-presidencia-da-republica/orgaos-essenciais\" class=\"state-published\">\\n            \\n            Orgãos Essenciais\\n        </a>\\n\\n        \\n    \\n</li>\\n\\n<li>\\n\\n    \\n\\n        <a href=\"https://www.gov.br/planalto/pt-br/conheca-a-presidencia/orgaos-da-presidencia-da-republica/orgaos-de-assessoramento-imediato\" class=\"state-published\">\\n            \\n            Órgãos de Assessoramento Imediato\\n        </a>\\n\\n        \\n    \\n</li>\\n\\n<li>\\n\\n    \\n\\n        <a href=\"https://www.gov.br/planalto/pt-br/conheca-a-presidencia/orgaos-da-presidencia-da-republica/orgaos-de-consulta\" class=\"state-published\">\\n            \\n            Órgãos de Consulta\\n        </a>\\n\\n        \\n    \\n</li>\\n\\n<li>\\n\\n    \\n\\n        <a href=\"https://www.gov.br/planalto/pt-br/conheca-a-presidencia/orgaos-da-presidencia-da-republica/conselhos\" class=\"state-published\">\\n            \\n            Conselhos\\n        </a>\\n\\n        \\n    \\n</li>\\n\\n<li>\\n\\n    \\n\\n        <a href=\"https://www.gov.br/planalto/pt-br/conheca-a-presidencia/orgaos-da-presidencia-da-republica/orgao-vinculado\" class=\"state-published\">\\n            \\n            Órgão Vinculado\\n        </a>\\n\\n        \\n    \\n</li>\\n\\n\\n\\n\\n        </ul>\\n    \\n</li>\\n\\n<li class=\"dropdown-submenu\">\\n\\n    \\n\\n        <a href=\"https://www.gov.br/planalto/pt-br/conheca-a-presidencia/ministros\" class=\"state-published hasDropDown\">\\n            \\n            Ministros\\n        </a>\\n\\n        <ul class=\"submenu navTree navTreeLevel1\">\\n            \\n\\n\\n\\n\\n<li>\\n\\n    \\n\\n        <a href=\"https://www.gov.br/planalto/pt-br/conheca-a-presidencia/ministros/casa-civil-da-presidencia-da-republica\" class=\"state-published\">\\n            \\n            Casa Civil da Presidência da República\\n        </a>\\n\\n        \\n    \\n</li>\\n\\n<li>\\n\\n    \\n\\n        <a href=\"https://www.gov.br/planalto/pt-br/conheca-a-presidencia/ministros/secretaria-de-governo-da-presidencia-da-republica\" class=\"state-published\">\\n            \\n            Secretaria de Governo da Presidência da República\\n        </a>\\n\\n        \\n    \\n</li>\\n\\n<li>\\n\\n    \\n\\n        <a href=\"https://www.gov.br/planalto/pt-br/conheca-a-presidencia/ministros/secretaria-geral-da-presidencia-da-republica\" class=\"state-published\">\\n            \\n            Secretaria-Geral da Presidência da República\\n        </a>\\n\\n        \\n    \\n</li>\\n\\n<li>\\n\\n    \\n\\n        <a href=\"https://www.gov.br/planalto/pt-br/conheca-a-presidencia/ministros/gabinete-de-seguranca-institucional\" class=\"state-published\">\\n            \\n            Gabinete de Segurança Institucional\\n        </a>\\n\\n        \\n    \\n</li>\\n\\n<li>\\n\\n    \\n\\n        <a href=\"https://www.gov.br/planalto/pt-br/conheca-a-presidencia/ministros/ministerio-da-justica-e-seguranca-publica\" class=\"state-published\">\\n            \\n            Ministério da Justiça e Segurança Pública\\n        </a>\\n\\n        \\n    \\n</li>\\n\\n<li>\\n\\n    \\n\\n        <a href=\"https://www.gov.br/planalto/pt-br/conheca-a-presidencia/ministros/ministerio-da-defesa\" class=\"state-published\">\\n            \\n            Ministério da Defesa\\n        </a>\\n\\n        \\n    \\n</li>\\n\\n<li>\\n\\n    \\n\\n        <a href=\"https://www.gov.br/planalto/pt-br/conheca-a-presidencia/ministros/ministerio-das-relacoes-exteriores\" class=\"state-published\">\\n            \\n            Ministério das Relações Exteriores\\n        </a>\\n\\n        \\n    \\n</li>\\n\\n<li>\\n\\n    \\n\\n        <a href=\"https://www.gov.br/planalto/pt-br/conheca-a-presidencia/ministros/ministerio-da-economia\" class=\"state-published\">\\n            \\n            Ministério da Economia\\n        </a>\\n\\n        \\n    \\n</li>\\n\\n<li>\\n\\n    \\n\\n        <a href=\"https://www.gov.br/planalto/pt-br/conheca-a-presidencia/ministros/ministerio-da-infraestrutura\" class=\"state-published\">\\n            \\n            Ministério da Infraestrutura\\n        </a>\\n\\n        \\n    \\n</li>\\n\\n<li>\\n\\n    \\n\\n        <a href=\"https://www.gov.br/planalto/pt-br/conheca-a-presidencia/ministros/ministerio-da-agricultura\" class=\"state-published\">\\n            \\n            Ministério da Agricultura\\n        </a>\\n\\n        \\n    \\n</li>\\n\\n<li>\\n\\n    \\n\\n        <a href=\"https://www.gov.br/planalto/pt-br/conheca-a-presidencia/ministros/ministerio-da-educacao\" class=\"state-published\">\\n            \\n            Ministério da Educação\\n        </a>\\n\\n        \\n    \\n</li>\\n\\n<li>\\n\\n    \\n\\n        <a href=\"https://www.gov.br/planalto/pt-br/conheca-a-presidencia/ministros/ministerio-da-mulher-familia-e-direitos-humanos\" class=\"state-published\">\\n            \\n            Ministério da Mulher, Família e Direitos Humanos\\n        </a>\\n\\n        \\n    \\n</li>\\n\\n<li>\\n\\n    \\n\\n        <a href=\"https://www.gov.br/planalto/pt-br/conheca-a-presidencia/ministros/ministerio-da-cidadania\" class=\"state-published\">\\n            \\n            Ministério da Cidadania\\n        </a>\\n\\n        \\n    \\n</li>\\n\\n<li>\\n\\n    \\n\\n        <a href=\"https://www.gov.br/planalto/pt-br/conheca-a-presidencia/ministros/ministerio-da-saude\" class=\"state-published\">\\n            \\n            Ministério da Saúde\\n        </a>\\n\\n        \\n    \\n</li>\\n\\n<li>\\n\\n    \\n\\n        <a href=\"https://www.gov.br/planalto/pt-br/conheca-a-presidencia/ministros/ministerio-de-minas-e-energia\" class=\"state-published\">\\n            \\n            Ministério de Minas e Energia\\n        </a>\\n\\n        \\n    \\n</li>\\n\\n<li>\\n\\n    \\n\\n        <a href=\"https://www.gov.br/planalto/pt-br/conheca-a-presidencia/ministros/ministerio-da-ciencia-tecnologia-inovacoes-e-comunicacoes\" class=\"state-published\">\\n            \\n            Ministério da Ciência, Tecnologia e Inovações\\n        </a>\\n\\n        \\n    \\n</li>\\n\\n<li>\\n\\n    \\n\\n        <a href=\"https://www.gov.br/planalto/pt-br/conheca-a-presidencia/ministros/ministerio-do-meio-ambiente\" class=\"state-published\">\\n            \\n            Ministério do Meio Ambiente\\n        </a>\\n\\n        \\n    \\n</li>\\n\\n<li>\\n\\n    \\n\\n        <a href=\"https://www.gov.br/planalto/pt-br/conheca-a-presidencia/ministros/ministerio-do-turismo\" class=\"state-published\">\\n            \\n            Ministério do Turismo\\n        </a>\\n\\n        \\n    \\n</li>\\n\\n<li>\\n\\n    \\n\\n        <a href=\"https://www.gov.br/planalto/pt-br/conheca-a-presidencia/ministros/ministerio-do-desenvolvimento-regional\" class=\"state-published\">\\n            \\n            Ministério do Desenvolvimento Regional\\n        </a>\\n\\n        \\n    \\n</li>\\n\\n<li>\\n\\n    \\n\\n        <a href=\"https://www.gov.br/planalto/pt-br/conheca-a-presidencia/ministros/controladoria-geral-da-uniao-cgu\" class=\"state-published\">\\n            \\n            Controladoria-Geral da União (CGU)\\n        </a>\\n\\n        \\n    \\n</li>\\n\\n<li>\\n\\n    \\n\\n        <a href=\"https://www.gov.br/planalto/pt-br/conheca-a-presidencia/ministros/advocacia-geral-da-uniao-agu\" class=\"state-published\">\\n            \\n            Advocacia-Geral da União (AGU)\\n        </a>\\n\\n        \\n    \\n</li>\\n\\n<li>\\n\\n    \\n\\n        <a href=\"https://www.gov.br/planalto/pt-br/conheca-a-presidencia/ministros/banco-central\" class=\"state-published\">\\n            \\n            Banco Central\\n        </a>\\n\\n        \\n    \\n</li>\\n\\n<li>\\n\\n    \\n\\n        <a href=\"https://www.gov.br/planalto/pt-br/conheca-a-presidencia/ministros/ministerio-das-comunicacoes\" class=\"state-published\">\\n            \\n            Ministério das Comunicações\\n        </a>\\n\\n        \\n    \\n</li>\\n\\n\\n\\n\\n        </ul>\\n    \\n</li>\\n\\n<li>\\n\\n    \\n\\n        <a href=\"https://www.gov.br/planalto/pt-br/conheca-a-presidencia/orgaos-da-presidencia-da-republica/conselhos\" class=\"state-published\">\\n            \\n            Conselhos\\n        </a>\\n\\n        \\n    \\n</li>\\n\\n<li>\\n\\n    \\n\\n        <a href=\"https://www.gov.br/planalto/pt-br/conheca-a-presidencia/principais-tropas\" class=\"state-published\">\\n            \\n            Principais Tropas\\n        </a>\\n\\n        \\n    \\n</li>\\n\\n<li>\\n\\n    \\n\\n        <a href=\"https://www.gov.br/planalto/pt-br/conheca-a-presidencia/ritos-e-solenidades\" class=\"state-published\">\\n            \\n            Ritos e Solenidades\\n        </a>\\n\\n        \\n    \\n</li>\\n\\n<li class=\"dropdown-submenu\">\\n\\n    \\n\\n        <a href=\"https://www.gov.br/planalto/pt-br/conheca-a-presidencia/palacios-e-residencias\" class=\"state-published hasDropDown\">\\n            \\n            Palácios e Residências\\n        </a>\\n\\n        <ul class=\"submenu navTree navTreeLevel1\">\\n            \\n\\n\\n\\n\\n<li>\\n\\n    \\n\\n        <a href=\"https://www.gov.br/planalto/pt-br/conheca-a-presidencia/palacios-e-residencias/palacio-do-planalto\" class=\"state-published\">\\n            \\n            Palácio do Planalto\\n        </a>\\n\\n        \\n    \\n</li>\\n\\n<li>\\n\\n    \\n\\n        <a href=\"https://www.gov.br/planalto/pt-br/conheca-a-presidencia/palacios-e-residencias/palacio-da-alvorada\" class=\"state-published\">\\n            \\n            Palácio da Alvorada\\n        </a>\\n\\n        \\n    \\n</li>\\n\\n<li>\\n\\n    \\n\\n        <a href=\"https://www.gov.br/planalto/pt-br/conheca-a-presidencia/palacios-e-residencias/palacio-jaburu\" class=\"state-published\">\\n            \\n            Palácio do Jaburu\\n        </a>\\n\\n        \\n    \\n</li>\\n\\n<li>\\n\\n    \\n\\n        <a href=\"https://www.gov.br/planalto/pt-br/conheca-a-presidencia/palacios-e-residencias/granja-do-torto\" class=\"state-published\">\\n            \\n            Granja do Torto\\n        </a>\\n\\n        \\n    \\n</li>\\n\\n<li>\\n\\n    \\n\\n        <a href=\"https://visitapr.presidencia.gov.br/\" class=\"state-published\">\\n            \\n            Agende sua visita ao Palácio do Planalto\\n        </a>\\n\\n        \\n    \\n</li>\\n\\n<li>\\n\\n    \\n\\n        <a href=\"https://www.gov.br/planalto/pt-br/conheca-a-presidencia/palacios-e-residencias/visitas\" class=\"state-published\">\\n            \\n            Programas de visitação\\n        </a>\\n\\n        \\n    \\n</li>\\n\\n\\n\\n\\n        </ul>\\n    \\n</li>\\n\\n<li class=\"dropdown-submenu\">\\n\\n    \\n\\n        <a href=\"https://www.gov.br/planalto/pt-br/conheca-a-presidencia/acervo\" class=\"state-published hasDropDown\">\\n            \\n            Acervo\\n        </a>\\n\\n        <ul class=\"submenu navTree navTreeLevel1\">\\n            \\n\\n\\n\\n\\n<li>\\n\\n    \\n\\n        <a href=\"https://www.gov.br/planalto/pt-br/conheca-a-presidencia/acervo/simbolos-nacionais\" class=\"state-published\">\\n            \\n            Símbolos Nacionais\\n        </a>\\n\\n        \\n    \\n</li>\\n\\n<li>\\n\\n    \\n\\n        <a href=\"https://www.gov.br/planalto/pt-br/conheca-a-presidencia/acervo/constituicao-federal\" class=\"state-published\">\\n            \\n            Constituição Federal\\n        </a>\\n\\n        \\n    \\n</li>\\n\\n<li>\\n\\n    \\n\\n        <a href=\"https://www.gov.br/planalto/pt-br/conheca-a-presidencia/acervo/legislacao\" class=\"state-published\">\\n            \\n            Legislação\\n        </a>\\n\\n        \\n    \\n</li>\\n\\n<li>\\n\\n    \\n\\n        <a href=\"https://www.gov.br/planalto/pt-br/conheca-a-presidencia/acervo/galeria-de-presidentes\" class=\"state-published\">\\n            \\n            Galeria de Presidentes\\n        </a>\\n\\n        \\n    \\n</li>\\n\\n<li>\\n\\n    \\n\\n        <a href=\"https://www.gov.br/planalto/pt-br/conheca-a-presidencia/acervo/biblioteca-da-presidencia\" class=\"state-published\">\\n            \\n            Biblioteca da Presidência\\n        </a>\\n\\n        \\n    \\n</li>\\n\\n\\n\\n\\n        </ul>\\n    \\n</li>\\n\\n<li>\\n\\n    \\n\\n        <a href=\"https://www.gov.br/planalto/pt-br/conheca-a-presidencia/presentes-recebidos-pelo-presidente-da-republica\" class=\"state-published\">\\n            \\n            Presentes recebidos pelo Presidente da República\\n        </a>\\n\\n        \\n    \\n</li>\\n                </ul>\\n            </li><li class=\"plain dropdown-submenu\"><a href=\"https://www.gov.br/planalto/pt-br/mensagempresidencial\" class=\"plain\">Mensagem presidencial</a>\\n                <ul class=\"submenu\">\\n                    <li>\\n\\n    \\n\\n        <a href=\"https://www.gov.br/planalto/pt-br/mensagempresidencial/2020\" class=\"state-published\">\\n            \\n            2020\\n        </a>\\n\\n        \\n    \\n</li>\\n\\n<li>\\n\\n    \\n\\n        <a href=\"https://www.gov.br/planalto/pt-br/mensagempresidencial/2021\" class=\"state-published\">\\n            \\n            2021\\n        </a>\\n\\n        \\n    \\n</li>\\n                </ul>\\n            </li><li class=\"plain dropdown-submenu\"><a href=\"https://www.gov.br/planalto/pt-br/conheca-a-vice-presidencia\" class=\"plain\">Vice-Presidência</a>\\n                <ul class=\"submenu\">\\n                    <li>\\n\\n    \\n\\n        <a href=\"https://www.gov.br/planalto/pt-br/conheca-a-vice-presidencia/nota-a-imprensa\" class=\"state-published\">\\n            \\n            Comunicados à Imprensa\\n        </a>\\n\\n        \\n    \\n</li>\\n\\n<li>\\n\\n    \\n\\n        <a href=\"https://www.gov.br/planalto/pt-br/conheca-a-vice-presidencia/agenda-do-vice-presidente\" class=\"state-published\">\\n            \\n            Agenda do Vice-Presidente\\n        </a>\\n\\n        \\n    \\n</li>\\n\\n<li>\\n\\n    \\n\\n        <a href=\"https://www.gov.br/planalto/pt-br/conheca-a-vice-presidencia/agendas-do-gabinete-pessoal-da-vice-presidencia\" class=\"state-published\">\\n            \\n            Agendas de Autoridades\\n        </a>\\n\\n        \\n    \\n</li>\\n\\n<li>\\n\\n    \\n\\n        <a href=\"https://www.gov.br/planalto/pt-br/conheca-a-vice-presidencia/discursos-pronunciamentos-artigos\" class=\"state-published\">\\n            \\n            Discursos e Artigos\\n        </a>\\n\\n        \\n    \\n</li>\\n\\n<li>\\n\\n    \\n\\n        <a href=\"https://www.gov.br/planalto/pt-br/conheca-a-vice-presidencia/institucional\" class=\"state-published\">\\n            \\n            Institucional\\n        </a>\\n\\n        \\n    \\n</li>\\n\\n<li class=\"dropdown-submenu\">\\n\\n    \\n\\n        <a href=\"https://www.gov.br/planalto/pt-br/conheca-a-vice-presidencia/conselho-da-amazonia\" class=\"state-published hasDropDown\">\\n            \\n            Conselho Nacional da Amazônia Legal\\n        </a>\\n\\n        <ul class=\"submenu navTree navTreeLevel1\">\\n            \\n\\n\\n\\n\\n<li>\\n\\n    \\n\\n        <a href=\"https://www.gov.br/planalto/pt-br/conheca-a-vice-presidencia/conselho-da-amazonia/campanha-diga-sim-a-vida-e-nao-a-queimada\" class=\"state-published\">\\n            \\n            Campanha diga Sim à Vida e Não à Queimada\\n        </a>\\n\\n        \\n    \\n</li>\\n\\n<li>\\n\\n    \\n\\n        <a href=\"https://www.gov.br/planalto/pt-br/conheca-a-vice-presidencia/conselho-da-amazonia/cnal-lanca-campanha-diga-sim-a-vida-e-nao-a-queimada201d\" class=\"state-published\">\\n            \\n            CNAL lança campanha \"Diga Sim à Vida e Não à Queimada”\\n        </a>\\n\\n        \\n    \\n</li>\\n\\n<li>\\n\\n    \\n\\n        <a href=\"https://www.gov.br/planalto/pt-br/conheca-a-vice-presidencia/conselho-da-amazonia/plano-de-comunicacao-do-cnal-2020-2022\" class=\"state-published\">\\n            \\n            Plano de Comunicação do CNAL 2020 - 2022\\n        </a>\\n\\n        \\n    \\n</li>\\n\\n\\n\\n\\n        </ul>\\n    \\n</li>\\n\\n<li class=\"dropdown-submenu\">\\n\\n    \\n\\n        <a href=\"https://www.gov.br/planalto/pt-br/conheca-a-vice-presidencia/acesso-a-informacao-1\" class=\"state-published hasDropDown\">\\n            \\n            Acesso à Informação\\n        </a>\\n\\n        <ul class=\"submenu navTree navTreeLevel1\">\\n            \\n\\n\\n\\n\\n<li>\\n\\n    \\n\\n        <a href=\"https://www.gov.br/planalto/pt-br/conheca-a-vice-presidencia/acesso-a-informacao-1/acoes-e-programas\" class=\"state-published\">\\n            \\n            Ações e Programas\\n        </a>\\n\\n        \\n    \\n</li>\\n\\n<li>\\n\\n    \\n\\n        <a href=\"https://www.gov.br/planalto/pt-br/conheca-a-vice-presidencia/acesso-a-informacao-1/auditorias\" class=\"state-published\">\\n            \\n            Auditorias\\n        </a>\\n\\n        \\n    \\n</li>\\n\\n<li>\\n\\n    \\n\\n        <a href=\"https://www.gov.br/planalto/pt-br/conheca-a-vice-presidencia/acesso-a-informacao-1/convenios-e-transferencias-1\" class=\"state-published\">\\n            \\n            Convênios e Transferências\\n        </a>\\n\\n        \\n    \\n</li>\\n\\n<li>\\n\\n    \\n\\n        <a href=\"https://www.gov.br/planalto/pt-br/conheca-a-vice-presidencia/acesso-a-informacao-1/dados-abertos\" class=\"state-published\">\\n            \\n            Dados Abertos\\n        </a>\\n\\n        \\n    \\n</li>\\n\\n<li>\\n\\n    \\n\\n        <a href=\"https://www.gov.br/planalto/pt-br/conheca-a-vice-presidencia/acesso-a-informacao-1/demonstracoes-contabeis-1\" class=\"state-published\">\\n            \\n            Demonstrações Contábeis\\n        </a>\\n\\n        \\n    \\n</li>\\n\\n<li>\\n\\n    \\n\\n        <a href=\"https://www.gov.br/planalto/pt-br/conheca-a-vice-presidencia/acesso-a-informacao-1/diarias-e-passagem\" class=\"state-published\">\\n            \\n            Diárias e Passagem\\n        </a>\\n\\n        \\n    \\n</li>\\n\\n<li>\\n\\n    \\n\\n        <a href=\"https://www.gov.br/planalto/pt-br/conheca-a-vice-presidencia/acesso-a-informacao-1/informacoes-classificadas-1\" class=\"state-published\">\\n            \\n            Informações Classificadas\\n        </a>\\n\\n        \\n    \\n</li>\\n\\n<li>\\n\\n    \\n\\n        <a href=\"https://www.gov.br/planalto/pt-br/conheca-a-vice-presidencia/acesso-a-informacao-1/contratos-firmados\" class=\"state-published\">\\n            \\n            Licitações e Contratos\\n        </a>\\n\\n        \\n    \\n</li>\\n\\n<li>\\n\\n    \\n\\n        <a href=\"https://www.gov.br/planalto/pt-br/conheca-a-vice-presidencia/acesso-a-informacao-1/participacao-social-1\" class=\"state-published\">\\n            \\n            Participação Social\\n        </a>\\n\\n        \\n    \\n</li>\\n\\n<li>\\n\\n    \\n\\n        <a href=\"https://www.gov.br/planalto/pt-br/conheca-a-vice-presidencia/acesso-a-informacao-1/perguntas-frequentes\" class=\"state-published\">\\n            \\n            Perguntas Frequentes\\n        </a>\\n\\n        \\n    \\n</li>\\n\\n<li>\\n\\n    \\n\\n        <a href=\"https://www.gov.br/planalto/pt-br/conheca-a-vice-presidencia/acesso-a-informacao-1/pregao-eletronico\" class=\"state-published\">\\n            \\n            Pregão Eletrônico\\n        </a>\\n\\n        \\n    \\n</li>\\n\\n<li>\\n\\n    \\n\\n        <a href=\"https://www.gov.br/planalto/pt-br/conheca-a-vice-presidencia/acesso-a-informacao-1/quem-e-quem\" class=\"state-published\">\\n            \\n            Quem é Quem?\\n        </a>\\n\\n        \\n    \\n</li>\\n\\n<li>\\n\\n    \\n\\n        <a href=\"https://www.gov.br/planalto/pt-br/conheca-a-vice-presidencia/acesso-a-informacao-1/curriculos-vpr-2020\" class=\"state-published\">\\n            \\n            Quem é Quem - Currículos\\n        </a>\\n\\n        \\n    \\n</li>\\n\\n<li>\\n\\n    \\n\\n        <a href=\"https://www.gov.br/planalto/pt-br/conheca-a-vice-presidencia/acesso-a-informacao-1/Receitas%20e%20Despesas\" class=\"state-published\">\\n            \\n            Receitas e Despesas\\n        </a>\\n\\n        \\n    \\n</li>\\n\\n<li>\\n\\n    \\n\\n        <a href=\"https://www.gov.br/planalto/pt-br/conheca-a-vice-presidencia/acesso-a-informacao-1/servico-de-informacoes-ao-cidadao-sic-pagina\" class=\"state-published\">\\n            \\n            Serviço de Informações ao Cidadão - SIC\\n        </a>\\n\\n        \\n    \\n</li>\\n\\n\\n\\n\\n        </ul>\\n    \\n</li>\\n\\n<li>\\n\\n    \\n\\n        <a href=\"https://www.gov.br/planalto/pt-br/conheca-a-vice-presidencia/biografia-1\" class=\"state-published\">\\n            \\n            Biografia\\n        </a>\\n\\n        \\n    \\n</li>\\n                </ul>\\n            </li><li class=\"plain dropdown-submenu\"><a href=\"https://www.gov.br/planalto/pt-br/acesso-a-informacao\" class=\"plain\">Acesso à Informação</a>\\n                <ul class=\"submenu\">\\n                    <li class=\"dropdown-submenu\">\\n\\n    \\n\\n        <a href=\"https://www.gov.br/planalto/pt-br/acesso-a-informacao/institucional\" class=\"state-published hasDropDown\">\\n            \\n            Institucional\\n        </a>\\n\\n        <ul class=\"submenu navTree navTreeLevel1\">\\n            \\n\\n\\n\\n\\n<li>\\n\\n    \\n\\n        <a href=\"https://www.gov.br/planalto/pt-br/acesso-a-informacao/institucional/estrutura-da-presidencia\" class=\"state-published\">\\n            \\n            Estrutura da Presidência\\n        </a>\\n\\n        \\n    \\n</li>\\n\\n<li>\\n\\n    \\n\\n        <a href=\"https://www.gov.br/planalto/pt-br/acesso-a-informacao/institucional/atribuicoes-do-gabinete-pessoal\" class=\"state-published\">\\n            \\n            Atribuições do Gabinete Pessoal do Presidente da República\\n        </a>\\n\\n        \\n    \\n</li>\\n\\n<li>\\n\\n    \\n\\n        <a href=\"https://www.gov.br/planalto/pt-br/acesso-a-informacao/institucional/atribuicoes-da-assessoria-especial-do-presidente-da-republica\" class=\"state-published\">\\n            \\n            Atribuições da Assessoria Especial do Presidente da República\\n        </a>\\n\\n        \\n    \\n</li>\\n\\n<li>\\n\\n    \\n\\n        <a href=\"https://www.gov.br/planalto/pt-br/acesso-a-informacao/institucional/atribuicoes-da-secretaria-especial-de-assuntos-estrategicos\" class=\"state-published\">\\n            \\n            Atribuições da Secretaria Especial de Assuntos Estratégicos\\n        </a>\\n\\n        \\n    \\n</li>\\n\\n<li>\\n\\n    \\n\\n        <a href=\"http://www4.planalto.gov.br/cgd/\" class=\"state-published\">\\n            \\n            Comitê de Governança Digital\\n        </a>\\n\\n        \\n    \\n</li>\\n\\n<li>\\n\\n    \\n\\n        <a href=\"https://www.gov.br/planalto/pt-br/acesso-a-informacao/institucional/presidencia\" class=\"state-published\">\\n            \\n            Agendas do Gabinete Pessoal do Presidente da República\\n        </a>\\n\\n        \\n    \\n</li>\\n\\n<li>\\n\\n    \\n\\n        <a href=\"https://www.gov.br/planalto/pt-br/acesso-a-informacao/institucional/agendas-da-secretaria-especial-de-assuntos-estrategicos\" class=\"state-published\">\\n            \\n            Agendas da Secretaria Especial de Assuntos Estratégicos\\n        </a>\\n\\n        \\n    \\n</li>\\n\\n<li>\\n\\n    \\n\\n        <a href=\"http://etica.planalto.gov.br\" class=\"state-published\">\\n            \\n            Comissão de Ética Pública\\n        </a>\\n\\n        \\n    \\n</li>\\n\\n<li>\\n\\n    \\n\\n        <a href=\"https://www.gov.br/planalto/pt-br/acesso-a-informacao/institucional/horarios-de-atendimento-do-orgao\" class=\"state-published\">\\n            \\n            Horários de atendimento do órgão\\n        </a>\\n\\n        \\n    \\n</li>\\n\\n\\n\\n\\n        </ul>\\n    \\n</li>\\n\\n<li>\\n\\n    \\n\\n        <a href=\"https://www.gov.br/planalto/pt-br/acesso-a-informacao/acoes-e-programas\" class=\"state-published\">\\n            \\n            Ações e Programas\\n        </a>\\n\\n        \\n    \\n</li>\\n\\n<li>\\n\\n    \\n\\n        <a href=\"https://www.gov.br/planalto/pt-br/acesso-a-informacao/auditorias\" class=\"state-published\">\\n            \\n            Auditorias\\n        </a>\\n\\n        \\n    \\n</li>\\n\\n<li>\\n\\n    \\n\\n        <a href=\"https://www.gov.br/planalto/pt-br/acesso-a-informacao/convenios\" class=\"state-published\">\\n            \\n            Convênios e Transferências\\n        </a>\\n\\n        \\n    \\n</li>\\n\\n<li>\\n\\n    \\n\\n        <a href=\"https://www.gov.br/planalto/pt-br/acesso-a-informacao/receitasedespesas\" class=\"state-published\">\\n            \\n            Receitas e Despesas\\n        </a>\\n\\n        \\n    \\n</li>\\n\\n<li>\\n\\n    \\n\\n        <a href=\"https://www.gov.br/planalto/pt-br/acesso-a-informacao/licitacoes-e-contratos\" class=\"state-published\">\\n            \\n            Licitações e contratos\\n        </a>\\n\\n        \\n    \\n</li>\\n\\n<li>\\n\\n    \\n\\n        <a href=\"https://www.gov.br/planalto/pt-br/acesso-a-informacao/servidores\" class=\"state-published\">\\n            \\n            Servidores\\n        </a>\\n\\n        \\n    \\n</li>\\n\\n<li>\\n\\n    \\n\\n        <a href=\"https://www.gov.br/planalto/pt-br/acesso-a-informacao/informacoes-classificadas\" class=\"state-published\">\\n            \\n            Informações Classificadas\\n        </a>\\n\\n        \\n    \\n</li>\\n\\n<li>\\n\\n    \\n\\n        <a href=\"https://www.gov.br/planalto/pt-br/acesso-a-informacao/servico-de-informacao-ao-cidadao\" class=\"state-published\">\\n            \\n            Serviço de Informação ao Cidadão\\n        </a>\\n\\n        \\n    \\n</li>\\n\\n<li>\\n\\n    \\n\\n        <a href=\"https://www.gov.br/planalto/pt-br/acesso-a-informacao/perguntas-frequentes\" class=\"state-published\">\\n            \\n            Perguntas Frequentes\\n        </a>\\n\\n        \\n    \\n</li>\\n\\n<li>\\n\\n    \\n\\n        <a href=\"http://dadosabertos.presidencia.gov.br/\" class=\"state-published\">\\n            \\n            Dados abertos\\n        </a>\\n\\n        \\n    \\n</li>\\n                </ul>\\n            </li><li class=\"plain dropdown-submenu\"><a href=\"https://www.gov.br/planalto/pt-br/credenciamento-de-imprensa\" class=\"plain\">Credenciamento de Imprensa</a>\\n                <ul class=\"submenu\">\\n                    <li class=\"dropdown-submenu\">\\n\\n    \\n\\n        <a href=\"https://www.gov.br/planalto/pt-br/credenciamento-de-imprensa/avisos-de-credenciamento\" class=\"state-published hasDropDown\">\\n            \\n            Avisos de Credenciamento\\n        </a>\\n\\n        <ul class=\"submenu navTree navTreeLevel1\">\\n            \\n\\n\\n\\n\\n<li>\\n\\n    \\n\\n        <a href=\"https://www.gov.br/planalto/pt-br/credenciamento-de-imprensa/avisos-de-credenciamento/credenciamento-de-imprensa-para-posse-presidencial-2019-2013-itamaraty\" class=\"state-published\">\\n            \\n            Credenciamento de Imprensa para Posse Presidencial 2019 – Itamaraty\\n        </a>\\n\\n        \\n    \\n</li>\\n\\n<li>\\n\\n    \\n\\n        <a href=\"https://www.gov.br/planalto/pt-br/credenciamento-de-imprensa/avisos-de-credenciamento/nota-a-imprensa\" class=\"state-published\">\\n            \\n            Nota à imprensa\\n        </a>\\n\\n        \\n    \\n</li>\\n\\n<li>\\n\\n    \\n\\n        <a href=\"https://www.gov.br/planalto/pt-br/credenciamento-de-imprensa/avisos-de-credenciamento/sessao-solene-de-cargos-presidente-e-vice-presidente-do-superior-tribunal-militar\" class=\"state-published\">\\n            \\n            Sessão Solene de Cargos, Presidente e vice-Presidente, do Superior Tribunal Militar\\n        </a>\\n\\n        \\n    \\n</li>\\n\\n<li>\\n\\n    \\n\\n        <a href=\"https://www.gov.br/planalto/pt-br/credenciamento-de-imprensa/avisos-de-credenciamento/credenciamento-para-o-almoco-palestra-lide-grupo-de-lideres-empresariais\" class=\"state-published\">\\n            \\n            Credenciamento para o Almoço / Palestra LIDE (Grupo de Líderes Empresariais)\\n        </a>\\n\\n        \\n    \\n</li>\\n\\n<li>\\n\\n    \\n\\n        <a href=\"https://www.gov.br/planalto/pt-br/credenciamento-de-imprensa/avisos-de-credenciamento/credenciamento-da-viagem-presidencial-a-cidade-de-porto-alegre-rs\" class=\"state-published\">\\n            \\n            Credenciamento da viagem Presidencial à cidade de Porto Alegre - RS\\n        </a>\\n\\n        \\n    \\n</li>\\n\\n<li>\\n\\n    \\n\\n        <a href=\"https://www.gov.br/planalto/pt-br/credenciamento-de-imprensa/avisos-de-credenciamento/credenciamento-da-viagem-presidencial-a-cidade-de-porto-alegre-rs-1\" class=\"state-published\">\\n            \\n            Credenciamento da viagem Presidencial à cidade de Porto Alegre - RS\\n        </a>\\n\\n        \\n    \\n</li>\\n\\n<li>\\n\\n    \\n\\n        <a href=\"https://www.gov.br/planalto/pt-br/credenciamento-de-imprensa/avisos-de-credenciamento/viagem-do-vice-presidente-da-republica-hamilton-mourao-a-cidade-do-rio-de-janeiro-rj\" class=\"state-published\">\\n            \\n            Viagem do Vice-Presidente da República, Hamilton Mourão, à cidade do Rio de Janeiro/RJ\\n        </a>\\n\\n        \\n    \\n</li>\\n\\n<li>\\n\\n    \\n\\n        <a href=\"https://www.gov.br/planalto/pt-br/credenciamento-de-imprensa/avisos-de-credenciamento/viagem-presidencial-a-cidade-de-sao-paulo-sp-4\" class=\"state-published\">\\n            \\n            Viagem Presidencial à cidade de São Paulo/SP\\n        </a>\\n\\n        \\n    \\n</li>\\n\\n<li>\\n\\n    \\n\\n        <a href=\"https://www.gov.br/planalto/pt-br/credenciamento-de-imprensa/avisos-de-credenciamento/viagem-presidencial-a-cidade-de-itapira-sp\" class=\"state-published\">\\n            \\n            Viagem Presidencial à cidade de Itapira/SP\\n        </a>\\n\\n        \\n    \\n</li>\\n\\n<li>\\n\\n    \\n\\n        <a href=\"https://www.gov.br/planalto/pt-br/credenciamento-de-imprensa/avisos-de-credenciamento/viagem-do-vice-presidente-da-republica-hamilton-mourao-a-cidade-de-palmas-to\" class=\"state-published\">\\n            \\n            Viagem do Vice-Presidente da República Hamilton Mourão, à cidade de Palmas/TO\\n        </a>\\n\\n        \\n    \\n</li>\\n\\n<li>\\n\\n    \\n\\n        <a href=\"https://www.gov.br/planalto/pt-br/credenciamento-de-imprensa/avisos-de-credenciamento/assinatura-do-decreto-de-gratuidade-de-publicacao-no-diario-oficial-da-uniao-para-orgaos-federais-e-medidas-de-modernizacao-da-imprensa-nacional\" class=\"state-published\">\\n            \\n            Assinatura do Decreto de Gratuidade de Publicação no Diário Oficial da União para Órgãos Federais e Medidas de Modernização da Imprensa Nacional\\n        </a>\\n\\n        \\n    \\n</li>\\n\\n<li>\\n\\n    \\n\\n        <a href=\"https://www.gov.br/planalto/pt-br/credenciamento-de-imprensa/avisos-de-credenciamento/local-de-entrega-das-credenciais-da-viagem-presidencial-a-cidade-de-bento-goncalves-2013-rs-cupula-do-vale-dos-vinhedos\" class=\"state-published\">\\n            \\n            Local de Entrega das Credenciais da Viagem Presidencial à cidade de Bento Gonçalves – RS (CÚPULA DO VALE DOS VINHEDOS)\\n        </a>\\n\\n        \\n    \\n</li>\\n\\n<li>\\n\\n    \\n\\n        <a href=\"https://www.gov.br/planalto/pt-br/credenciamento-de-imprensa/avisos-de-credenciamento/viagem-presidencial-a-cidade-rio-de-janeiro-rj\" class=\"state-published\">\\n            \\n            Viagem Presidencial à cidade do Rio de Janeiro/RJ\\n        </a>\\n\\n        \\n    \\n</li>\\n\\n<li>\\n\\n    \\n\\n        <a href=\"https://www.gov.br/planalto/pt-br/credenciamento-de-imprensa/avisos-de-credenciamento/local-de-entrega-das-credenciais-da-viagem-presidencial-a-cidade-de-sao-paulo-2013-sp\" class=\"state-published\">\\n            \\n            Local de Entrega das Credenciais da Viagem Presidencial à cidade de São Paulo – SP\\n        </a>\\n\\n        \\n    \\n</li>\\n\\n<li>\\n\\n    \\n\\n        <a href=\"https://www.gov.br/planalto/pt-br/credenciamento-de-imprensa/avisos-de-credenciamento/cerimonia-de-inauguracao-do-centro-de-operacoes-espaciais-principal-do-satelite-geoestacionario-de-defesa-e-comunicacoes-estrategicas-cope-p-sgdc\" class=\"state-published\">\\n            \\n            Cerimônia de Inauguração do Centro de Operações Espaciais Principal do Satélite Geoestacionário de Defesa e Comunicações Estratégicas  (COPE-P-SGDC)\\n        </a>\\n\\n        \\n    \\n</li>\\n\\n<li>\\n\\n    \\n\\n        <a href=\"https://www.gov.br/planalto/pt-br/credenciamento-de-imprensa/avisos-de-credenciamento/credenciamento-de-imprensa-para-coletiva-do-senhor-vice-presidente-da-republica-hamilton-mourao-na-divulgacao-dos-dados-do-projeto-prodes-em-sao-jose-dos-campos-sp\" class=\"state-published\">\\n            \\n            Credenciamento de Imprensa para Coletiva do Senhor Vice-Presidente da República, Hamilton Mourão, na divulgação dos dados do Projeto (PRODES), em São José dos Campos/SP\\n        </a>\\n\\n        \\n    \\n</li>\\n\\n<li>\\n\\n    \\n\\n        <a href=\"https://www.gov.br/planalto/pt-br/credenciamento-de-imprensa/avisos-de-credenciamento/local-de-entrega-das-credenciais-da-viagem-presidencial-a-cidade-de-foz-do-iguacu-pr201d\" class=\"state-published\">\\n            \\n            Local de Entrega das Credenciais da Viagem Presidencial à cidade de Foz do Iguaçu - PR”.\\n        </a>\\n\\n        \\n    \\n</li>\\n\\n<li>\\n\\n    \\n\\n        <a href=\"https://www.gov.br/planalto/pt-br/credenciamento-de-imprensa/avisos-de-credenciamento/credenciamento-de-imprensa-para-o-lancamento-da-colecao-de-livros-201cpensadores-do-brasil201d-pelo-instituto-general-villas-boas-com-a-participacao-do-senhor-vice-presidente-da-republica-hamilton-mourao-em-brasilia-df\" class=\"state-published\">\\n            \\n            Credenciamento de Imprensa para o lançamento da coleção de livros “Pensadores do Brasil”, pelo Instituto General Villas Bôas, com a participação do Senhor Vice-Presidente da República, Hamilton Mourão, em Brasília/DF\\n        </a>\\n\\n        \\n    \\n</li>\\n\\n<li>\\n\\n    \\n\\n        <a href=\"https://www.gov.br/planalto/pt-br/credenciamento-de-imprensa/avisos-de-credenciamento/local-de-entrega-das-credenciais-da-viagem-presidencial-a-cidade-de-sertaniape\" class=\"state-published\">\\n            \\n            Local de Entrega das Credenciais da Viagem Presidencial à cidade de  SertâniaPE\\n        </a>\\n\\n        \\n    \\n</li>\\n\\n\\n\\n\\n        </ul>\\n    \\n</li>\\n\\n<li>\\n\\n    \\n\\n        <a href=\"https://www.gov.br/planalto/pt-br/credenciamento-de-imprensa/credenciamento-anual\" class=\"state-published\">\\n            \\n            Credenciamento Anual\\n        </a>\\n\\n        \\n    \\n</li>\\n\\n<li>\\n\\n    \\n\\n        <a href=\"https://www.gov.br/planalto/pt-br/credenciamento-de-imprensa/cobertura-diaria\" class=\"state-published\">\\n            \\n            Cobertura Diária\\n        </a>\\n\\n        \\n    \\n</li>\\n\\n<li>\\n\\n    \\n\\n        <a href=\"https://www.gov.br/planalto/pt-br/credenciamento-de-imprensa/cobertura-de-eventos-viagens\" class=\"state-published\">\\n            \\n            Cobertura de Eventos &amp; Viagens\\n        </a>\\n\\n        \\n    \\n</li>\\n                </ul>\\n            </li><li class=\"plain dropdown-submenu\"><a href=\"https://www.gov.br/planalto/pt-br/centrais-de-conteudo\" class=\"plain\">Centrais de Conteúdo</a>\\n                <ul class=\"submenu\">\\n                    <li>\\n\\n    \\n\\n        <a href=\"https://flickr.com/photos/palaciodoplanalto/albums\" class=\"state-published\">\\n            \\n            Imagens\\n        </a>\\n\\n        \\n    \\n</li>\\n\\n<li>\\n\\n    \\n\\n        <a href=\"https://www.youtube.com/user/PalaciodoPlanalto\" class=\"state-published\">\\n            \\n            Vídeos\\n        </a>\\n\\n        \\n    \\n</li>\\n\\n<li>\\n\\n    \\n\\n        <a href=\"/planalto/pt-br/acompanhe-o-planalto/audios\" class=\"state-published\">\\n            \\n            Áudios\\n        </a>\\n\\n        \\n    \\n</li>\\n                </ul>\\n            </li><li class=\"plain dropdown-submenu\"><a href=\"https://www.gov.br/planalto/pt-br/fale-conosco\" class=\"plain\">Fale Conosco</a>\\n                <ul class=\"submenu\">\\n                    <li>\\n\\n    \\n\\n        <a href=\"https://www.gov.br/planalto/pt-br/fale-conosco/fale-com-o-presidente\" class=\"state-published\">\\n            \\n            Fale com o Presidente\\n        </a>\\n\\n        \\n    \\n</li>\\n\\n<li>\\n\\n    \\n\\n        <a href=\"https://www.gov.br/planalto/pt-br/fale-conosco/ouvidoriadapresidencia\" class=\"state-published\">\\n            \\n            Ouvidoria\\n        </a>\\n\\n        \\n    \\n</li>\\n                </ul>\\n            </li><li class=\"plain dropdown-submenu\"><a href=\"https://www.gov.br/planalto/pt-br/assuntos\" class=\"plain\">Assuntos</a>\\n                <ul class=\"submenu\">\\n                    <li class=\"dropdown-submenu\">\\n\\n    \\n\\n        <a href=\"https://www.gov.br/planalto/pt-br/assuntos/etica-publica\" class=\"state-published hasDropDown\">\\n            \\n            Ética Pública\\n        </a>\\n\\n        <ul class=\"submenu navTree navTreeLevel1\">\\n            \\n\\n\\n\\n\\n<li>\\n\\n    \\n\\n        <a href=\"https://www.gov.br/planalto/pt-br/assuntos/etica-publica/institucional\" class=\"state-published\">\\n            \\n            Institucional\\n        </a>\\n\\n        \\n    \\n</li>\\n\\n<li>\\n\\n    \\n\\n        <a href=\"https://www.gov.br/planalto/pt-br/assuntos/etica-publica/reunioes-de-colegiado\" class=\"state-published\">\\n            \\n            Reuniões do Colegiado\\n        </a>\\n\\n        \\n    \\n</li>\\n\\n<li>\\n\\n    \\n\\n        <a href=\"https://www.gov.br/planalto/pt-br/assuntos/etica-publica/informacoes-de-interesse-de-autoridades\" class=\"state-published\">\\n            \\n            Informações de Interesse de Autoridades\\n        </a>\\n\\n        \\n    \\n</li>\\n\\n<li>\\n\\n    \\n\\n        <a href=\"https://www.gov.br/planalto/pt-br/assuntos/etica-publica/sistema-de-gestao-da-etica\" class=\"state-published\">\\n            \\n            Sistema de Gestão da Ética\\n        </a>\\n\\n        \\n    \\n</li>\\n\\n<li>\\n\\n    \\n\\n        <a href=\"https://www.gov.br/planalto/pt-br/assuntos/etica-publica/eventos-e-cursos\" class=\"state-published\">\\n            \\n            Eventos e Cursos\\n        </a>\\n\\n        \\n    \\n</li>\\n\\n<li>\\n\\n    \\n\\n        <a href=\"https://www.gov.br/planalto/pt-br/assuntos/etica-publica/legislacao\" class=\"state-published\">\\n            \\n            Legislação\\n        </a>\\n\\n        \\n    \\n</li>\\n\\n<li>\\n\\n    \\n\\n        <a href=\"https://www.gov.br/planalto/pt-br/assuntos/etica-publica/promocao-da-etica-1\" class=\"state-published\">\\n            \\n            Canais de Atendimento\\n        </a>\\n\\n        \\n    \\n</li>\\n\\n<li>\\n\\n    \\n\\n        <a href=\"https://www.gov.br/planalto/pt-br/assuntos/etica-publica/noticias\" class=\"state-published\">\\n            \\n            Not´ícias\\n        </a>\\n\\n        \\n    \\n</li>\\n\\n\\n\\n\\n        </ul>\\n    \\n</li>\\n                </ul>\\n            </li><li id=\"portaltab-govbr-root\" class=\"plain dropdown-submenu menu-govbr-root\">\\n            <a class=\"plain\" href=\"https://www.gov.br/planalto/pt-br/acompanhe-o-planalto/pronunciamentos/pronunciamentos-do-presidente-da-republica\">\\n                <span>GOV.BR</span>\\n            </a>\\n            <!-- Menu nivel1 -->\\n            <ul class=\"submenu navTree\">\\n                \\n                    <li class=\"dropdown-submenu\">\\n                        <a href=\"https://www.gov.br/pt-br/servicos\" class=\"hasDropDown\">Serviços</a>\\n                        \\n                            \\n    <ul class=\"submenu navTree\">\\n        \\n            <li class=\"dropdown-submenu\">\\n                <a href=\"https://www.gov.br/pt-br/servicos/buscar-servicos-por\">Buscar serviços por</a>\\n                \\n                    \\n    <ul class=\"submenu navTree\">\\n        \\n            <li class=\"plain\">\\n                <a href=\"https://www.gov.br/pt-br/servicos/buscar-servicos-por/categorias\">Categorias</a>\\n                \\n            </li>\\n        \\n            <li class=\"plain\">\\n                <a href=\"https://www.gov.br/pt-br/servicos/buscar-servicos-por/orgaos\">Órgãos</a>\\n                \\n            </li>\\n        \\n            <li class=\"plain\">\\n                <a href=\"https://www.gov.br/pt-br/servicos/buscar-servicos-por/estados\">Estados</a>\\n                \\n            </li>\\n        \\n    </ul>\\n\\n                \\n            </li>\\n        \\n            <li class=\"dropdown-submenu\">\\n                <a href=\"https://www.gov.br/pt-br/servicos/servicos-por-publico-alvo\">Serviços por público alvo</a>\\n                \\n                    \\n    <ul class=\"submenu navTree\">\\n        \\n            <li class=\"plain\">\\n                <a href=\"https://www.gov.br/pt-br/servicos/servicos-por-publico-alvo/cidadaos\">Cidadãos</a>\\n                \\n            </li>\\n        \\n            <li class=\"plain\">\\n                <a href=\"https://www.gov.br/pt-br/servicos/servicos-por-publico-alvo/empresas\">Empresas</a>\\n                \\n            </li>\\n        \\n            <li class=\"plain\">\\n                <a href=\"https://www.gov.br/pt-br/servicos/servicos-por-publico-alvo/orgaos-e-entidades-publicas\">Órgãos e Entidades Públicas</a>\\n                \\n            </li>\\n        \\n            <li class=\"plain\">\\n                <a href=\"https://www.gov.br/pt-br/servicos/servicos-por-publico-alvo/demais-segmentos-ongs-organizacoes-sociais-etc\">Demais segmentos (ONGs, organizações sociais, etc)</a>\\n                \\n            </li>\\n        \\n    </ul>\\n\\n                \\n            </li>\\n        \\n    </ul>\\n\\n                        \\n                    </li>\\n                \\n                    <li class=\"plain\">\\n                        <a href=\"https://www.gov.br/pt-br/galeria-de-aplicativos\" class=\"hasDropDown\">Galeria de Aplicativos</a>\\n                        \\n                    </li>\\n                \\n                    <li class=\"dropdown-submenu\">\\n                        <a href=\"https://www.gov.br/pt-br/noticias\" class=\"hasDropDown\">Notícias</a>\\n                        \\n                            \\n    <ul class=\"submenu navTree\">\\n        \\n            <li class=\"plain\">\\n                <a href=\"https://www.gov.br/pt-br/noticias/ultimas-noticias\">Últimas notícias</a>\\n                \\n            </li>\\n        \\n            <li class=\"plain\">\\n                <a href=\"https://www.gov.br/pt-br/noticias/servicos-para-o-cidadao\">Serviços para o cidadão</a>\\n                \\n            </li>\\n        \\n            <li class=\"plain\">\\n                <a href=\"https://www.gov.br/pt-br/noticias/saude-e-vigilancia-sanitaria\">Saúde</a>\\n                \\n            </li>\\n        \\n            <li class=\"plain\">\\n                <a href=\"https://www.gov.br/pt-br/noticias/agricultura-e-pecuaria\">Agricultura e Pecuária</a>\\n                \\n            </li>\\n        \\n            <li class=\"dropdown-submenu\">\\n                <a href=\"https://www.gov.br/pt-br/noticias/assistencia-social\">Cidadania e Assistência Social</a>\\n                \\n                    \\n    <ul class=\"submenu navTree\">\\n        \\n            <li class=\"plain\">\\n                <a href=\"https://www.gov.br/pt-br/noticias/assistencia-social/patria-voluntaria\">Pátria Voluntária</a>\\n                \\n            </li>\\n        \\n    </ul>\\n\\n                \\n            </li>\\n        \\n            <li class=\"plain\">\\n                <a href=\"https://www.gov.br/pt-br/noticias/cultura-artes-historia-e-esportes\">Cultura e Esporte</a>\\n                \\n            </li>\\n        \\n            <li class=\"dropdown-submenu\">\\n                <a href=\"https://www.gov.br/pt-br/noticias/financas-impostos-e-gestao-publica\">Economia e Gestão Pública</a>\\n                \\n                    \\n    <ul class=\"submenu navTree\">\\n        \\n            <li class=\"plain\">\\n                <a href=\"https://www.gov.br/pt-br/noticias/financas-impostos-e-gestao-publica/400-dias\">400 dias</a>\\n                \\n            </li>\\n        \\n            <li class=\"plain\">\\n                <a href=\"https://www.gov.br/pt-br/noticias/financas-impostos-e-gestao-publica/500-dias\">500 dias</a>\\n                \\n            </li>\\n        \\n            <li class=\"plain\">\\n                <a href=\"https://www.gov.br/pt-br/noticias/financas-impostos-e-gestao-publica/600-dias\">600 dias</a>\\n                \\n            </li>\\n        \\n            <li class=\"plain\">\\n                <a href=\"https://www.gov.br/pt-br/noticias/financas-impostos-e-gestao-publica/700-dias\">700 Dias</a>\\n                \\n            </li>\\n        \\n            <li class=\"plain\">\\n                <a href=\"https://www.gov.br/pt-br/noticias/financas-impostos-e-gestao-publica/2-anos\">2 Anos</a>\\n                \\n            </li>\\n        \\n            <li class=\"plain\">\\n                <a href=\"https://www.gov.br/pt-br/noticias/financas-impostos-e-gestao-publica/800-dias\">800 Dias</a>\\n                \\n            </li>\\n        \\n    </ul>\\n\\n                \\n            </li>\\n        \\n            <li class=\"plain\">\\n                <a href=\"https://www.gov.br/pt-br/noticias/educacao-e-pesquisa\">Educação e Pesquisa</a>\\n                \\n            </li>\\n        \\n            <li class=\"plain\">\\n                <a href=\"https://www.gov.br/pt-br/noticias/energia-minerais-e-combustiveis\">Energia</a>\\n                \\n            </li>\\n        \\n            <li class=\"plain\">\\n                <a href=\"https://www.gov.br/pt-br/noticias/transito-e-transportes\">Infraestrutura</a>\\n                \\n            </li>\\n        \\n            <li class=\"plain\">\\n                <a href=\"https://www.gov.br/pt-br/noticias/justica-e-seguranca\">Justiça e Segurança</a>\\n                \\n            </li>\\n        \\n            <li class=\"dropdown-submenu\">\\n                <a href=\"https://www.gov.br/pt-br/noticias/meio-ambiente-e-clima\">Meio Ambiente</a>\\n                \\n                    \\n    <ul class=\"submenu navTree\">\\n        \\n            <li class=\"plain\">\\n                <a href=\"https://www.gov.br/pt-br/noticias/meio-ambiente-e-clima/operacao-verde-brasil\">Operação Verde Brasil</a>\\n                \\n            </li>\\n        \\n    </ul>\\n\\n                \\n            </li>\\n        \\n            <li class=\"plain\">\\n                <a href=\"https://www.gov.br/pt-br/noticias/trabalho-e-previdencia\">Trabalho e Previdência</a>\\n                \\n            </li>\\n        \\n            <li class=\"plain\">\\n                <a href=\"https://www.gov.br/pt-br/noticias/viagens-e-turismo\">Turismo</a>\\n                \\n            </li>\\n        \\n    </ul>\\n\\n                        \\n                    </li>\\n                \\n                    <li class=\"plain\">\\n                        <a href=\"https://www.gov.br/pt-br/planalto\" class=\"hasDropDown\">Acompanhe o Planalto</a>\\n                        \\n                    </li>\\n                \\n                    <li class=\"plain\">\\n                        <a href=\"https://www.gov.br/pt-br/canais-do-executivo-federal\" class=\"hasDropDown\">Canais do Poder Executivo Federal</a>\\n                        \\n                    </li>\\n                \\n                    <li class=\"dropdown-submenu\">\\n                        <a href=\"https://www.gov.br/pt-br/navegacao\" class=\"hasDropDown\">Navegação</a>\\n                        \\n                            \\n    <ul class=\"submenu navTree\">\\n        \\n            <li class=\"plain\">\\n                <a href=\"https://www.gov.br/pt-br/navegacao/acessibilidade\">Acessibilidade</a>\\n                \\n            </li>\\n        \\n            <li class=\"plain\">\\n                <a href=\"https://www.gov.br/pt-br/navegacao/mapa-do-site\">Mapa do Site</a>\\n                \\n            </li>\\n        \\n            <li class=\"plain\">\\n                <a href=\"https://www.gov.br/pt-br/navegacao/termo-de-uso\">Termos de Uso</a>\\n                \\n            </li>\\n        \\n            <li class=\"plain\">\\n                <a href=\"https://www.gov.br/pt-br/navegacao/sobre-o-gov.br\">Sobre o gov.br</a>\\n                \\n            </li>\\n        \\n    </ul>\\n\\n                        \\n                    </li>\\n                \\n                    <li class=\"plain\">\\n                        <a href=\"https://www.gov.br/pt-br/acesse-sua-conta-gov.br\" class=\"hasDropDown\">Acesse sua conta gov.br</a>\\n                        \\n                    </li>\\n                \\n                    <li class=\"plain\">\\n                        <a href=\"https://www.gov.br/pt-br/guia-de-edicao-de-servicos-do-gov.br\" class=\"hasDropDown\">Guia de Edição de Serviços do Gov.br</a>\\n                        \\n                    </li>\\n                \\n                    <li class=\"plain\">\\n                        <a href=\"https://www.gov.br/pt-br/orgaos-do-governo\" class=\"hasDropDown\">Órgãos do Governo</a>\\n                        \\n                    </li>\\n                \\n                    <li class=\"plain\">\\n                        <a href=\"https://www.gov.br/pt-br/todosportodos\" class=\"hasDropDown\">Todos por todos</a>\\n                        \\n                    </li>\\n                \\n            </ul>\\n        </li></ul>\\n          </div>\\n        </div>\\n\\n        <div class=\"navigation-content-extra\">\\n          <div class=\"links-redes-wrap\">\\n            <div class=\"links-uteis links-uteis-mobile\">\\n              <ul>\\n                <li>\\n                  <a href=\"#\">Acessibilidade</a>\\n                </li>\\n                <!-- <li class=\"language-selection\">\\n                  <a href=\"\" class=\"currentLanguage language-pt-br\">\\n                    Português\\n                  </a>\\n                  <ul>\\n                    <li class=\"title\">Idioma/Language</li>\\n                    <li class=\"currentLanguage language-pt-br\">\\n                      <a href=\"\" title=\"Português (Brasil)\">Português (Brasil)</a>\\n                    </li>\\n                    <li class=\"language-en\">\\n                      <a href=\"\" title=\"English\">English</a>\\n                    </li>\\n                    <li class=\"language-es\">\\n                      <a href=\"\" title=\"Español\">Español</a>\\n                    </li>\\n                  </ul>\\n                </li> -->\\n                <li>\\n                  <a href=\"#\" class=\"link-contraste\">\\n                    <span class=\"fas fa-adjust\" aria-hidden=\"true\"></span>\\n                    <span class=\"sr-only\">Mudar para o modo de alto contraste</span>\\n                  </a>\\n                </li>\\n              </ul>\\n            </div>\\n            <div class=\"links-uteis\">\\n              <div class=\"titulo\">Links Úteis</div>\\n              <ul>\\n                <!-- <li>\\n                  <a href=\"#\">Órgãos do Governo</a>\\n                </li> -->\\n                <li>\\n                  <a href=\"https://www.gov.br/pt-br/apps/@@galeria-de-aplicativos\">Galeria de Aplicativos</a>\\n                </li>\\n                <li>\\n                  <a href=\"https://www.gov.br/pt-br/participacao-social\">Participe</a>\\n                </li>\\n              </ul>\\n            </div>\\n            <div class=\"header-accessibility\">\\n              <ul>\\n                <li>\\n                  <a href=\"https://www.gov.br/pt-br/orgaos-do-governo\" class=\"orgaos-de-governo\">Órgãos do Governo</a>\\n                </li>\\n                <li>\\n                  <a href=\"https://www.gov.br/pt-br/apps/@@galeria-de-aplicativos\">Galeria de Aplicativos</a>\\n                </li>\\n                <li>\\n                  <a href=\"http://www4.planalto.gov.br/legislacao\">Legislação</a>\\n                </li>\\n                <li>\\n                  <a href=\"http://www.acessoainformacao.gov.br\">Acesso à Informação</a>\\n                </li>\\n                <li>\\n                  <a href=\"https://www.gov.br/pt-br/participacao-social\">Participe</a>\\n                </li>\\n              </ul>\\n            </div>\\n          \\n            <div class=\"redes-sociais\">\\n              <div class=\"titulo\">Redes sociais</div>\\n            <ul class=\"portal-redes\">\\n            \\n                <li class=\"portalredes-twitter portalredes-item\">\\n                    <a href=\"https://www.twitter.com/planalto\">Twitter</a>\\n                </li>\\n            \\n                <li class=\"portalredes-youtube portalredes-item\">\\n                    <a href=\"https://www.youtube.com/user/PalaciodoPlanalto\">YouTube</a>\\n                </li>\\n            \\n                <li class=\"portalredes-facebook portalredes-item\">\\n                    <a href=\"https://www.facebook.com/palaciodoplanalto\">Facebook</a>\\n                </li>\\n            \\n                <li class=\"portalredes-flickr portalredes-item\">\\n                    <a href=\"https://www.flickr.com/photos/palaciodoplanalto\">Flickr</a>\\n                </li>\\n            \\n        </ul></div> \\n          </div>\\n        </div>\\n\\n\\n      </nav>\\n\\n      <!-- Main Menu -->\\n      \\n      \\n    </header><div id=\"portal-breadcrumbs-wrapper\">\\n      <nav id=\"breadcrumbs\" aria-label=\"Histórico de navegação (Breadcrumbs)\">\\n        <div class=\"content\">\\n          <span class=\"sr-only\">Você está aqui:</span>\\n          <span class=\"home\">\\n            <a href=\"https://www.gov.br/planalto/pt-br\">\\n              <span class=\"fas fa-home\" aria-hidden=\"true\"></span>\\n              <span class=\"sr-only\">Página Inicial</span>\\n            </a>\\n          </span>\\n        \\n\\n    \\n    \\n    <span dir=\"ltr\" id=\"breadcrumbs-1\">\\n        \\n            <a href=\"https://www.gov.br/planalto/pt-br/acompanhe-o-planalto\">Acompanhe o Planalto</a>\\n            \\n            \\n         \\n    </span>\\n    <span dir=\"ltr\" id=\"breadcrumbs-2\">\\n        \\n            <a href=\"https://www.gov.br/planalto/pt-br/acompanhe-o-planalto/pronunciamentos\">Pronunciamentos</a>\\n            \\n            \\n         \\n    </span>\\n    <span dir=\"ltr\" id=\"breadcrumbs-3\">\\n        \\n            \\n            \\n            <span id=\"breadcrumbs-current\">Pronunciamentos do Presidente da República</span>\\n         \\n    </span>\\n\\n</div>\\n      </nav>\\n    </div><!-- <div class=\"video\"></div> --><div id=\"wrapper\">\\n      <!-- Columns -->\\n\\n      <div id=\"main\">\\n        \\n\\n        <main id=\"main-content\">\\n\\n            <div id=\"viewlet-above-content\">\\n\\n\\n    \\n</div>\\n\\n            \\n                <div class=\"\">\\n\\n                    \\n\\n                    \\n\\n    <dl class=\"portalMessage info\" id=\"kssPortalMessage\" style=\"display:none\">\\n        <dt>Info</dt>\\n        <dd></dd>\\n    </dl>\\n\\n    \\n\\n\\n                    \\n                        <div id=\"content\">\\n\\n                            \\n\\n                            \\n\\n                             <div id=\"viewlet-above-content-title\"></div>\\n                             \\n                                 \\n                                 \\n            \\n            <h1 class=\"documentFirstHeading\">Pronunciamentos do Presidente da República</h1>\\n        \\n                             \\n                             <div id=\"viewlet-below-content-title\"></div>\\n\\n                             \\n                                 \\n                                 \\n            \\n            \\n        \\n                             \\n\\n                             <div id=\"viewlet-above-content-body\">\\n    \\n    \\n        <div class=\"social-links\">\\n            <label>Compartilhe: </label>\\n            \\n                \\n                    <a href=\"http://www.facebook.com/sharer.php?u=https://www.gov.br/planalto/pt-br/acompanhe-o-planalto/pronunciamentos/pronunciamentos-do-presidente-da-republica\" title=\"Facebook\" class=\"\">\\n                        <span class=\"fab fa-facebook-f\"></span>\\n                    </a>\\n                \\n                    <a href=\"https://twitter.com/share?text=Pronunciamentos do Presidente da República&amp;url=https://www.gov.br/planalto/resolveuid/01965570395b4d6c9b1f2bdc93bf6180\" title=\"Twitter\" class=\"\">\\n                        <span class=\"fab fa-twitter\"></span>\\n                    </a>\\n                \\n            \\n            <a class=\"link-clipboard\" onclick=\"event.preventDefault()\" title=\"Copiar para área de transferência\" href=\"https://www.gov.br/planalto/pt-br/acompanhe-o-planalto/pronunciamentos/pronunciamentos-do-presidente-da-republica\">\\n                <span class=\"fas fa-link\"></span>\\n            </a>\\n            <a class=\"toggle-social-links\">\\n                <span class=\"fas fa-share-alt\"></span>\\n                <span class=\"fas fa-times\"></span>\\n            </a>\\n        </div>\\n        <script>\\n            new ClipboardJS(\\'.link-clipboard\\', {\\n                text: function(trigger) {\\n                    return trigger.getAttribute(\\'href\\');\\n                }\\n            });\\n        </script>\\n    \\n\\n<div class=\"documentByLine\" id=\"plone-document-byline\">\\n  \\n\\n  \\n\\n  \\n      <span class=\"documentPublished\">\\n        <span>Publicado em</span>\\n        <!-- TODO: Criar no arquivo de tradução uma máscara para a data aparecer no seguinte formato:\\n             PT_BR: 15/10/2019 às 14:01\\n             EN   : 10/15/2019 at 14:01\\n        -->\\n        <span class=\"value\">17/04/2020 12h31</span>\\n      </span>\\n      <!-- TODO: Fazer esta comparação de uma forma melhor -->\\n      <span class=\"documentModified\">\\n        <span>Atualizado em</span>\\n        <span class=\"value\">23/03/2021 20h41</span>\\n      </span>\\n  \\n\\n  \\n\\n  \\n\\n  \\n\\n  \\n</div></div>\\n                             <div id=\"content-core\">\\n                                 \\n\\n\\n  \\n\\n  \\n    \\n      \\n        \\n    \\n            \\n              \\n\\n      <article class=\"tileItem visualIEFloatFix tile-document\">\\n\\n        <div class=\"tileContent\">\\n          \\n          \\n\\n          \\n          <h2 class=\"tileHeadline\">\\n            <a class=\"summary url\" href=\"https://www.gov.br/planalto/pt-br/acompanhe-o-planalto/pronunciamentos/pronunciamentos-do-presidente-da-republica/pronunciamento-do-presidente-da-republica-jair-bolsonaro-em-cadeia-de-radio-e-televisao-brasilia-df\" title=\"Document\">Pronunciamento do Senhor Presidente da República, Jair Bolsonaro, em cadeia de rádio e televisão</a>\\n          </h2>\\n\\n          \\n\\n          <div class=\"keywords\">\\n              tags:\\n              <span>\\n                  <a href=\"https://www.gov.br/planalto/@@search?Subject:list=Pronunciamento\" class=\"link-category\" rel=\"nofollow tag\">Pronunciamento</a>\\n              </span>\\n              <span>\\n                  <a href=\"https://www.gov.br/planalto/@@search?Subject:list=Presidente\" class=\"link-category\" rel=\"nofollow tag\">Presidente</a>\\n              </span>\\n              <span>\\n                  <a href=\"https://www.gov.br/planalto/@@search?Subject:list=Nova Previdência\" class=\"link-category\" rel=\"nofollow tag\">Nova Previdência</a>\\n              </span>\\n          </div>\\n\\n        </div>\\n\\n        \\n        <span class=\"documentByLine\">\\n            \\n            \\n            \\n            \\n            \\n                \\n                \\n                    <span class=\"hiddenStructure\">\\n                        publicado\\n                    </span>\\n                    <span class=\"summary-view-icon\">\\n                        <i class=\"icon-day\"></i>\\n                        20/02/2019\\n                    </span>\\n                    <span class=\"summary-view-icon\">\\n                        <i class=\"icon-hour\"></i>\\n                        20h53\\n                    </span>\\n                    <span class=\"summary-view-icon\">\\n                        <i class=\"icon-page\"></i>\\n                        Página\\n                    </span>\\n                \\n                <div class=\"visualClear\"><!-- --></div>\\n            \\n        </span>\\n\\n      </article>\\n\\n      \\n            \\n          \\n            \\n              \\n\\n      <article class=\"tileItem visualIEFloatFix tile-document\">\\n\\n        <div class=\"tileContent\">\\n          \\n          \\n\\n          \\n          <h2 class=\"tileHeadline\">\\n            <a class=\"summary url\" href=\"https://www.gov.br/planalto/pt-br/acompanhe-o-planalto/pronunciamentos/pronunciamentos-do-presidente-da-republica/pronunciamento-do-senhor-presidente-da-republica-jair-bolsonaro-em-cadeia-de-radio-e-televisao\" title=\"Document\">Pronunciamento do Senhor Presidente da República, Jair Bolsonaro, em cadeia de rádio e televisão</a>\\n          </h2>\\n\\n          \\n\\n          \\n\\n        </div>\\n\\n        \\n        <span class=\"documentByLine\">\\n            \\n            \\n            \\n            \\n            \\n                \\n                \\n                    <span class=\"hiddenStructure\">\\n                        publicado\\n                    </span>\\n                    <span class=\"summary-view-icon\">\\n                        <i class=\"icon-day\"></i>\\n                        24/04/2019\\n                    </span>\\n                    <span class=\"summary-view-icon\">\\n                        <i class=\"icon-hour\"></i>\\n                        21h35\\n                    </span>\\n                    <span class=\"summary-view-icon\">\\n                        <i class=\"icon-page\"></i>\\n                        Página\\n                    </span>\\n                \\n                <div class=\"visualClear\"><!-- --></div>\\n            \\n        </span>\\n\\n      </article>\\n\\n      \\n            \\n          \\n            \\n              \\n\\n      <article class=\"tileItem visualIEFloatFix tile-document\">\\n\\n        <div class=\"tileContent\">\\n          \\n          \\n\\n          \\n          <h2 class=\"tileHeadline\">\\n            <a class=\"summary url\" href=\"https://www.gov.br/planalto/pt-br/acompanhe-o-planalto/pronunciamentos/pronunciamentos-do-presidente-da-republica/pronunciamento-do-senhor-presidente-da-republica-jair-bolsonaro-em-cadeia-de-radio-e-televisao-1\" title=\"Document\">Pronunciamento do Senhor Presidente da República, Jair Bolsonaro, em cadeia de rádio e televisão</a>\\n          </h2>\\n\\n          \\n\\n          <div class=\"keywords\">\\n              tags:\\n              <span>\\n                  <a href=\"https://www.gov.br/planalto/@@search?Subject:list=Pronunciamento\" class=\"link-category\" rel=\"nofollow tag\">Pronunciamento</a>\\n              </span>\\n              <span>\\n                  <a href=\"https://www.gov.br/planalto/@@search?Subject:list=Presidente\" class=\"link-category\" rel=\"nofollow tag\">Presidente</a>\\n              </span>\\n              <span>\\n                  <a href=\"https://www.gov.br/planalto/@@search?Subject:list=Dia do Trabalho\" class=\"link-category\" rel=\"nofollow tag\">Dia do Trabalho</a>\\n              </span>\\n          </div>\\n\\n        </div>\\n\\n        \\n        <span class=\"documentByLine\">\\n            \\n            \\n            \\n            \\n            \\n                \\n                \\n                    <span class=\"hiddenStructure\">\\n                        publicado\\n                    </span>\\n                    <span class=\"summary-view-icon\">\\n                        <i class=\"icon-day\"></i>\\n                        01/05/2019\\n                    </span>\\n                    <span class=\"summary-view-icon\">\\n                        <i class=\"icon-hour\"></i>\\n                        21h45\\n                    </span>\\n                    <span class=\"summary-view-icon\">\\n                        <i class=\"icon-page\"></i>\\n                        Página\\n                    </span>\\n                \\n                <div class=\"visualClear\"><!-- --></div>\\n            \\n        </span>\\n\\n      </article>\\n\\n      \\n            \\n          \\n            \\n              \\n\\n      <article class=\"tileItem visualIEFloatFix tile-document\">\\n\\n        <div class=\"tileContent\">\\n          \\n          \\n\\n          \\n          <h2 class=\"tileHeadline\">\\n            <a class=\"summary url\" href=\"https://www.gov.br/planalto/pt-br/acompanhe-o-planalto/pronunciamentos/pronunciamentos-do-presidente-da-republica/pronunciamento-do-senhor-do-presidente-da-republica-jair-bolsonaro-em-cadeia-de-radio-e-televisao-brasilia-df\" title=\"Document\">Pronunciamento do Senhor Presidente da República, Jair Bolsonaro, em cadeia de rádio e televisão</a>\\n          </h2>\\n\\n          \\n\\n          <div class=\"keywords\">\\n              tags:\\n              <span>\\n                  <a href=\"https://www.gov.br/planalto/@@search?Subject:list=Pronunciamento\" class=\"link-category\" rel=\"nofollow tag\">Pronunciamento</a>\\n              </span>\\n              <span>\\n                  <a href=\"https://www.gov.br/planalto/@@search?Subject:list=Presidente\" class=\"link-category\" rel=\"nofollow tag\">Presidente</a>\\n              </span>\\n              <span>\\n                  <a href=\"https://www.gov.br/planalto/@@search?Subject:list=Amazônia\" class=\"link-category\" rel=\"nofollow tag\">Amazônia</a>\\n              </span>\\n              <span>\\n                  <a href=\"https://www.gov.br/planalto/@@search?Subject:list=Floresta Amazônica\" class=\"link-category\" rel=\"nofollow tag\">Floresta Amazônica</a>\\n              </span>\\n          </div>\\n\\n        </div>\\n\\n        \\n        <span class=\"documentByLine\">\\n            \\n            \\n            \\n            \\n            \\n                \\n                \\n                    <span class=\"hiddenStructure\">\\n                        publicado\\n                    </span>\\n                    <span class=\"summary-view-icon\">\\n                        <i class=\"icon-day\"></i>\\n                        23/08/2019\\n                    </span>\\n                    <span class=\"summary-view-icon\">\\n                        <i class=\"icon-hour\"></i>\\n                        21h21\\n                    </span>\\n                    <span class=\"summary-view-icon\">\\n                        <i class=\"icon-page\"></i>\\n                        Página\\n                    </span>\\n                \\n                <div class=\"visualClear\"><!-- --></div>\\n            \\n        </span>\\n\\n      </article>\\n\\n      \\n            \\n          \\n            \\n              \\n\\n      <article class=\"tileItem visualIEFloatFix tile-document\">\\n\\n        <div class=\"tileContent\">\\n          \\n          \\n\\n          \\n          <h2 class=\"tileHeadline\">\\n            <a class=\"summary url\" href=\"https://www.gov.br/planalto/pt-br/acompanhe-o-planalto/pronunciamentos/pronunciamentos-do-presidente-da-republica/pronunciamento-do-senhor-presidente-da-republica-jair-bolsonaro-em-cadeia-de-radio-e-televisao-2\" title=\"Document\">Pronunciamento do Senhor Presidente da República, Jair Bolsonaro, em cadeia de rádio e televisão</a>\\n          </h2>\\n\\n          \\n\\n          \\n\\n        </div>\\n\\n        \\n        <span class=\"documentByLine\">\\n            \\n            \\n            \\n            \\n            \\n                \\n                \\n                    <span class=\"hiddenStructure\">\\n                        publicado\\n                    </span>\\n                    <span class=\"summary-view-icon\">\\n                        <i class=\"icon-day\"></i>\\n                        24/12/2019\\n                    </span>\\n                    <span class=\"summary-view-icon\">\\n                        <i class=\"icon-hour\"></i>\\n                        21h43\\n                    </span>\\n                    <span class=\"summary-view-icon\">\\n                        <i class=\"icon-page\"></i>\\n                        Página\\n                    </span>\\n                \\n                <div class=\"visualClear\"><!-- --></div>\\n            \\n        </span>\\n\\n      </article>\\n\\n      \\n            \\n          \\n            \\n              \\n\\n      <article class=\"tileItem visualIEFloatFix tile-collective-nitf-content\">\\n\\n        <div class=\"tileContent\">\\n          \\n          \\n\\n          \\n          <h2 class=\"tileHeadline\">\\n            <a class=\"summary url\" href=\"https://www.gov.br/planalto/pt-br/acompanhe-o-planalto/pronunciamentos/pronunciamentos-do-presidente-da-republica/pronunciamento-do-senhor-presidente-da-republica-jair-bolsonaro-em-cadeia-de-radio-e-televisao-3\" title=\"collective.nitf.content\">Pronunciamento do Senhor Presidente da República, Jair Bolsonaro, em cadeia de rádio e televisão</a>\\n          </h2>\\n\\n          \\n\\n          \\n\\n        </div>\\n\\n        \\n        <span class=\"documentByLine\">\\n            \\n            \\n            \\n            \\n            \\n                \\n                \\n                    <span class=\"hiddenStructure\">\\n                        publicado\\n                    </span>\\n                    <span class=\"summary-view-icon\">\\n                        <i class=\"icon-day\"></i>\\n                        06/03/2020\\n                    </span>\\n                    <span class=\"summary-view-icon\">\\n                        <i class=\"icon-hour\"></i>\\n                        21h00\\n                    </span>\\n                    <span class=\"summary-view-icon\">\\n                        <i class=\"icon-news\"></i>\\n                        Notícias\\n                    </span>\\n                \\n                <div class=\"visualClear\"><!-- --></div>\\n            \\n        </span>\\n\\n      </article>\\n\\n      \\n            \\n          \\n            \\n              \\n\\n      <article class=\"tileItem visualIEFloatFix tile-document\">\\n\\n        <div class=\"tileContent\">\\n          \\n          \\n\\n          \\n          <h2 class=\"tileHeadline\">\\n            <a class=\"summary url\" href=\"https://www.gov.br/planalto/pt-br/acompanhe-o-planalto/pronunciamentos/pronunciamentos-do-presidente-da-republica/pronunciamento-do-senhor-presidente-da-republica-jair-bolsonaro-em-cadeia-de-radio-e-televisao-5\" title=\"Document\">Pronunciamento do Senhor Presidente da República, Jair Bolsonaro, em cadeia de rádio e televisão</a>\\n          </h2>\\n\\n          \\n\\n          <div class=\"keywords\">\\n              tags:\\n              <span>\\n                  <a href=\"https://www.gov.br/planalto/@@search?Subject:list=Pronunciamento \" class=\"link-category\" rel=\"nofollow tag\">Pronunciamento </a>\\n              </span>\\n          </div>\\n\\n        </div>\\n\\n        \\n        <span class=\"documentByLine\">\\n            \\n            \\n            \\n            \\n            \\n                \\n                \\n                    <span class=\"hiddenStructure\">\\n                        publicado\\n                    </span>\\n                    <span class=\"summary-view-icon\">\\n                        <i class=\"icon-day\"></i>\\n                        12/03/2020\\n                    </span>\\n                    <span class=\"summary-view-icon\">\\n                        <i class=\"icon-hour\"></i>\\n                        22h48\\n                    </span>\\n                    <span class=\"summary-view-icon\">\\n                        <i class=\"icon-page\"></i>\\n                        Página\\n                    </span>\\n                \\n                <div class=\"visualClear\"><!-- --></div>\\n            \\n        </span>\\n\\n      </article>\\n\\n      \\n            \\n          \\n            \\n              \\n\\n      <article class=\"tileItem visualIEFloatFix tile-document\">\\n\\n        <div class=\"tileContent\">\\n          \\n          \\n\\n          \\n          <h2 class=\"tileHeadline\">\\n            <a class=\"summary url\" href=\"https://www.gov.br/planalto/pt-br/acompanhe-o-planalto/pronunciamentos/pronunciamentos-do-presidente-da-republica/pronunciamento-em-cadeia-de-radio-e-televisao-do-senhor-presidente-da-republica-jair-bolsonaro\" title=\"Document\">Pronunciamento do Senhor Presidente da República, Jair Bolsonaro, em cadeia de rádio e televisão</a>\\n          </h2>\\n\\n          \\n\\n          <div class=\"keywords\">\\n              tags:\\n              <span>\\n                  <a href=\"https://www.gov.br/planalto/@@search?Subject:list=Pronunciamento\" class=\"link-category\" rel=\"nofollow tag\">Pronunciamento</a>\\n              </span>\\n              <span>\\n                  <a href=\"https://www.gov.br/planalto/@@search?Subject:list=Presidente\" class=\"link-category\" rel=\"nofollow tag\">Presidente</a>\\n              </span>\\n          </div>\\n\\n        </div>\\n\\n        \\n        <span class=\"documentByLine\">\\n            \\n            \\n            \\n            \\n            \\n                \\n                \\n                    <span class=\"hiddenStructure\">\\n                        publicado\\n                    </span>\\n                    <span class=\"summary-view-icon\">\\n                        <i class=\"icon-day\"></i>\\n                        24/03/2020\\n                    </span>\\n                    <span class=\"summary-view-icon\">\\n                        <i class=\"icon-hour\"></i>\\n                        21h25\\n                    </span>\\n                    <span class=\"summary-view-icon\">\\n                        <i class=\"icon-page\"></i>\\n                        Página\\n                    </span>\\n                \\n                <div class=\"visualClear\"><!-- --></div>\\n            \\n        </span>\\n\\n      </article>\\n\\n      \\n            \\n          \\n            \\n              \\n\\n      <article class=\"tileItem visualIEFloatFix tile-document\">\\n\\n        <div class=\"tileContent\">\\n          \\n          \\n\\n          \\n          <h2 class=\"tileHeadline\">\\n            <a class=\"summary url\" href=\"https://www.gov.br/planalto/pt-br/acompanhe-o-planalto/pronunciamentos/pronunciamentos-do-presidente-da-republica/pronunciamento-em-cadeia-de-radio-e-televisao-do-senhor-presidente-da-republica-jair-bolsonaro-1\" title=\"Document\">Pronunciamento do Senhor Presidente da República, Jair Bolsonaro, em cadeia de rádio e televisão</a>\\n          </h2>\\n\\n          \\n\\n          <div class=\"keywords\">\\n              tags:\\n              <span>\\n                  <a href=\"https://www.gov.br/planalto/@@search?Subject:list=pronunciamento\" class=\"link-category\" rel=\"nofollow tag\">pronunciamento</a>\\n              </span>\\n              <span>\\n                  <a href=\"https://www.gov.br/planalto/@@search?Subject:list=Jair Bolsonaro\" class=\"link-category\" rel=\"nofollow tag\">Jair Bolsonaro</a>\\n              </span>\\n          </div>\\n\\n        </div>\\n\\n        \\n        <span class=\"documentByLine\">\\n            \\n            \\n            \\n            \\n            \\n                \\n                \\n                    <span class=\"hiddenStructure\">\\n                        publicado\\n                    </span>\\n                    <span class=\"summary-view-icon\">\\n                        <i class=\"icon-day\"></i>\\n                        31/03/2020\\n                    </span>\\n                    <span class=\"summary-view-icon\">\\n                        <i class=\"icon-hour\"></i>\\n                        21h07\\n                    </span>\\n                    <span class=\"summary-view-icon\">\\n                        <i class=\"icon-page\"></i>\\n                        Página\\n                    </span>\\n                \\n                <div class=\"visualClear\"><!-- --></div>\\n            \\n        </span>\\n\\n      </article>\\n\\n      \\n            \\n          \\n            \\n              \\n\\n      <article class=\"tileItem visualIEFloatFix tile-document\">\\n\\n        <div class=\"tileContent\">\\n          \\n          \\n\\n          \\n          <h2 class=\"tileHeadline\">\\n            <a class=\"summary url\" href=\"https://www.gov.br/planalto/pt-br/acompanhe-o-planalto/pronunciamentos/pronunciamentos-do-presidente-da-republica/pronunciamento-do-senhor-presidente-da-republica-jair-bolsonaro-em-cadeia-de-radio-e-televisao-4\" title=\"Document\">Pronunciamento do Senhor Presidente da República, Jair Bolsonaro, em cadeia de rádio e televisão</a>\\n          </h2>\\n\\n          \\n\\n          <div class=\"keywords\">\\n              tags:\\n              <span>\\n                  <a href=\"https://www.gov.br/planalto/@@search?Subject:list=Pronunciamento \" class=\"link-category\" rel=\"nofollow tag\">Pronunciamento </a>\\n              </span>\\n              <span>\\n                  <a href=\"https://www.gov.br/planalto/@@search?Subject:list=Coronavírus\" class=\"link-category\" rel=\"nofollow tag\">Coronavírus</a>\\n              </span>\\n          </div>\\n\\n        </div>\\n\\n        \\n        <span class=\"documentByLine\">\\n            \\n            \\n            \\n            \\n            \\n                \\n                \\n                    <span class=\"hiddenStructure\">\\n                        publicado\\n                    </span>\\n                    <span class=\"summary-view-icon\">\\n                        <i class=\"icon-day\"></i>\\n                        08/04/2020\\n                    </span>\\n                    <span class=\"summary-view-icon\">\\n                        <i class=\"icon-hour\"></i>\\n                        20h35\\n                    </span>\\n                    <span class=\"summary-view-icon\">\\n                        <i class=\"icon-page\"></i>\\n                        Página\\n                    </span>\\n                \\n                <div class=\"visualClear\"><!-- --></div>\\n            \\n        </span>\\n\\n      </article>\\n\\n      \\n            \\n          \\n            \\n              \\n\\n      <article class=\"tileItem visualIEFloatFix tile-document\">\\n\\n        <div class=\"tileContent\">\\n          \\n          \\n\\n          \\n          <h2 class=\"tileHeadline\">\\n            <a class=\"summary url\" href=\"https://www.gov.br/planalto/pt-br/acompanhe-o-planalto/pronunciamentos/pronunciamentos-do-presidente-da-republica/pronunciamento-do-senhor-presidente-da-republica-jair-bolsonaro-para-anuncio-do-novo-ministro-da-saude-palacio-do-planalto\" title=\"Document\">Pronunciamento do Senhor Presidente da República, Jair Bolsonaro, para anúncio do novo Ministro da Saúde - Palácio do Planalto</a>\\n          </h2>\\n\\n          \\n\\n          <div class=\"keywords\">\\n              tags:\\n              <span>\\n                  <a href=\"https://www.gov.br/planalto/@@search?Subject:list=Pronunciamento\" class=\"link-category\" rel=\"nofollow tag\">Pronunciamento</a>\\n              </span>\\n              <span>\\n                  <a href=\"https://www.gov.br/planalto/@@search?Subject:list=Presidente\" class=\"link-category\" rel=\"nofollow tag\">Presidente</a>\\n              </span>\\n              <span>\\n                  <a href=\"https://www.gov.br/planalto/@@search?Subject:list=Ministro da Saúde\" class=\"link-category\" rel=\"nofollow tag\">Ministro da Saúde</a>\\n              </span>\\n          </div>\\n\\n        </div>\\n\\n        \\n        <span class=\"documentByLine\">\\n            \\n            \\n            \\n            \\n            \\n                \\n                \\n                    <span class=\"hiddenStructure\">\\n                        publicado\\n                    </span>\\n                    <span class=\"summary-view-icon\">\\n                        <i class=\"icon-day\"></i>\\n                        16/04/2020\\n                    </span>\\n                    <span class=\"summary-view-icon\">\\n                        <i class=\"icon-hour\"></i>\\n                        20h03\\n                    </span>\\n                    <span class=\"summary-view-icon\">\\n                        <i class=\"icon-page\"></i>\\n                        Página\\n                    </span>\\n                \\n                <div class=\"visualClear\"><!-- --></div>\\n            \\n        </span>\\n\\n      </article>\\n\\n      \\n            \\n          \\n            \\n              \\n\\n      <article class=\"tileItem visualIEFloatFix tile-document\">\\n\\n        <div class=\"tileContent\">\\n          \\n          \\n\\n          \\n          <h2 class=\"tileHeadline\">\\n            <a class=\"summary url\" href=\"https://www.gov.br/planalto/pt-br/acompanhe-o-planalto/pronunciamentos/pronunciamentos-do-presidente-da-republica/declaracao-a-imprensa-do-presidente-da-republica-jair-bolsonaro-palacio-da-alvorada\" title=\"Document\">Declaração à imprensa do Presidente da República, Jair Bolsonaro - Palácio da Alvorada</a>\\n          </h2>\\n\\n          \\n\\n          <div class=\"keywords\">\\n              tags:\\n              <span>\\n                  <a href=\"https://www.gov.br/planalto/@@search?Subject:list=Declaração à imprensa\" class=\"link-category\" rel=\"nofollow tag\">Declaração à imprensa</a>\\n              </span>\\n              <span>\\n                  <a href=\"https://www.gov.br/planalto/@@search?Subject:list=Presidente\" class=\"link-category\" rel=\"nofollow tag\">Presidente</a>\\n              </span>\\n          </div>\\n\\n        </div>\\n\\n        \\n        <span class=\"documentByLine\">\\n            \\n            \\n            \\n            \\n            \\n                \\n                \\n                    <span class=\"hiddenStructure\">\\n                        publicado\\n                    </span>\\n                    <span class=\"summary-view-icon\">\\n                        <i class=\"icon-day\"></i>\\n                        12/08/2020\\n                    </span>\\n                    <span class=\"summary-view-icon\">\\n                        <i class=\"icon-hour\"></i>\\n                        20h00\\n                    </span>\\n                    <span class=\"summary-view-icon\">\\n                        <i class=\"icon-page\"></i>\\n                        Página\\n                    </span>\\n                \\n                <div class=\"visualClear\"><!-- --></div>\\n            \\n        </span>\\n\\n      </article>\\n\\n      \\n            \\n          \\n            \\n              \\n\\n      <article class=\"tileItem visualIEFloatFix tile-document\">\\n\\n        <div class=\"tileContent\">\\n          \\n          \\n\\n          \\n          <h2 class=\"tileHeadline\">\\n            <a class=\"summary url\" href=\"https://www.gov.br/planalto/pt-br/acompanhe-o-planalto/pronunciamentos/pronunciamentos-do-presidente-da-republica/declaracao-a-imprensa-do-presidente-da-republica-jair-bolsonaro-palacio-da-alvorada-1\" title=\"Document\">Declaração à Imprensa do Presidente da República, Jair Bolsonaro - Palácio da Alvorada</a>\\n          </h2>\\n\\n          \\n\\n          \\n\\n        </div>\\n\\n        \\n        <span class=\"documentByLine\">\\n            \\n            \\n            \\n            \\n            \\n                \\n                \\n                    <span class=\"hiddenStructure\">\\n                        publicado\\n                    </span>\\n                    <span class=\"summary-view-icon\">\\n                        <i class=\"icon-day\"></i>\\n                        01/09/2020\\n                    </span>\\n                    <span class=\"summary-view-icon\">\\n                        <i class=\"icon-hour\"></i>\\n                        11h33\\n                    </span>\\n                    <span class=\"summary-view-icon\">\\n                        <i class=\"icon-page\"></i>\\n                        Página\\n                    </span>\\n                \\n                <div class=\"visualClear\"><!-- --></div>\\n            \\n        </span>\\n\\n      </article>\\n\\n      \\n            \\n          \\n            \\n              \\n\\n      <article class=\"tileItem visualIEFloatFix tile-document\">\\n\\n        <div class=\"tileContent\">\\n          \\n          \\n\\n          \\n          <h2 class=\"tileHeadline\">\\n            <a class=\"summary url\" href=\"https://www.gov.br/planalto/pt-br/acompanhe-o-planalto/pronunciamentos/pronunciamentos-do-presidente-da-republica/pronunciamento-do-senhor-presidente-da-republica-jair-bolsonaro\" title=\"Document\">Pronunciamento do senhor Presidente da República, Jair Bolsonaro</a>\\n          </h2>\\n\\n          \\n\\n          \\n\\n        </div>\\n\\n        \\n        <span class=\"documentByLine\">\\n            \\n            \\n            \\n            \\n            \\n                \\n                \\n                    <span class=\"hiddenStructure\">\\n                        publicado\\n                    </span>\\n                    <span class=\"summary-view-icon\">\\n                        <i class=\"icon-day\"></i>\\n                        05/02/2021\\n                    </span>\\n                    <span class=\"summary-view-icon\">\\n                        <i class=\"icon-hour\"></i>\\n                        14h58\\n                    </span>\\n                    <span class=\"summary-view-icon\">\\n                        <i class=\"icon-page\"></i>\\n                        Página\\n                    </span>\\n                \\n                <div class=\"visualClear\"><!-- --></div>\\n            \\n        </span>\\n\\n      </article>\\n\\n      \\n            \\n          \\n            \\n              \\n\\n      <article class=\"tileItem visualIEFloatFix tile-collective-nitf-content\">\\n\\n        <div class=\"tileContent\">\\n          \\n          \\n\\n          \\n          <h2 class=\"tileHeadline\">\\n            <a class=\"summary url\" href=\"https://www.gov.br/planalto/pt-br/acompanhe-o-planalto/pronunciamentos/pronunciamentos-do-presidente-da-republica/pronunciamento-do-ppresidente-jair-bolsonaro-2013-07-09-2020\" title=\"collective.nitf.content\">Pronunciamento do Senhor Presidente da República, Jair Bolsonaro, em cadeia nacional de rádio e televisão  - 07/09/2020</a>\\n          </h2>\\n\\n          \\n\\n          <div class=\"keywords\">\\n              tags:\\n              <span>\\n                  <a href=\"https://www.gov.br/planalto/@@search?Subject:list=Pronunciamento \" class=\"link-category\" rel=\"nofollow tag\">Pronunciamento </a>\\n              </span>\\n              <span>\\n                  <a href=\"https://www.gov.br/planalto/@@search?Subject:list=Independência do Brasil \" class=\"link-category\" rel=\"nofollow tag\">Independência do Brasil </a>\\n              </span>\\n              <span>\\n                  <a href=\"https://www.gov.br/planalto/@@search?Subject:list=Presidente Jair Bolsonaro \" class=\"link-category\" rel=\"nofollow tag\">Presidente Jair Bolsonaro </a>\\n              </span>\\n          </div>\\n\\n        </div>\\n\\n        \\n        <span class=\"documentByLine\">\\n            \\n            \\n            \\n            \\n            \\n                \\n                \\n                    <span class=\"hiddenStructure\">\\n                        publicado\\n                    </span>\\n                    <span class=\"summary-view-icon\">\\n                        <i class=\"icon-day\"></i>\\n                        07/09/2020\\n                    </span>\\n                    <span class=\"summary-view-icon\">\\n                        <i class=\"icon-hour\"></i>\\n                        20h07\\n                    </span>\\n                    <span class=\"summary-view-icon\">\\n                        <i class=\"icon-news\"></i>\\n                        Notícias\\n                    </span>\\n                \\n                <div class=\"visualClear\"><!-- --></div>\\n            \\n        </span>\\n\\n      </article>\\n\\n      \\n            \\n          \\n            \\n              \\n\\n      <article class=\"tileItem visualIEFloatFix tile-document\">\\n\\n        <div class=\"tileContent\">\\n          \\n          \\n\\n          \\n          <h2 class=\"tileHeadline\">\\n            <a class=\"summary url\" href=\"https://www.gov.br/planalto/pt-br/acompanhe-o-planalto/pronunciamentos/pronunciamentos-do-presidente-da-republica/pronunciamento-do-senhor-presidente-da-republica-jair-bolsonaro-em-cadeia-nacional-de-radio-e-televisao-24-12-2020\" title=\"Document\">Pronunciamento do Senhor Presidente da República, Jair Bolsonaro, em cadeia nacional de rádio e televisão - 24/12/2020</a>\\n          </h2>\\n\\n          \\n\\n          \\n\\n        </div>\\n\\n        \\n        <span class=\"documentByLine\">\\n            \\n            \\n            \\n            \\n            \\n                \\n                \\n                    <span class=\"hiddenStructure\">\\n                        publicado\\n                    </span>\\n                    <span class=\"summary-view-icon\">\\n                        <i class=\"icon-day\"></i>\\n                        24/12/2020\\n                    </span>\\n                    <span class=\"summary-view-icon\">\\n                        <i class=\"icon-hour\"></i>\\n                        20h30\\n                    </span>\\n                    <span class=\"summary-view-icon\">\\n                        <i class=\"icon-page\"></i>\\n                        Página\\n                    </span>\\n                \\n                <div class=\"visualClear\"><!-- --></div>\\n            \\n        </span>\\n\\n      </article>\\n\\n      \\n            \\n          \\n            \\n              \\n\\n      <article class=\"tileItem visualIEFloatFix tile-document\">\\n\\n        <div class=\"tileContent\">\\n          \\n          \\n\\n          \\n          <h2 class=\"tileHeadline\">\\n            <a class=\"summary url\" href=\"https://www.gov.br/planalto/pt-br/acompanhe-o-planalto/pronunciamentos/pronunciamentos-do-presidente-da-republica/pronunciamento-do-senhor-presidente-da-republica-jair-bolsonaro-em-cadeia-nacional-de-radio-e-televisao-23-03-2021\" title=\"Document\">Pronunciamento do Senhor Presidente da República, Jair Bolsonaro, em cadeia nacional de rádio e televisão - 23/03/2021</a>\\n          </h2>\\n\\n          \\n\\n          \\n\\n        </div>\\n\\n        \\n        <span class=\"documentByLine\">\\n            \\n            \\n            \\n            \\n            \\n                \\n                \\n                    <span class=\"hiddenStructure\">\\n                        publicado\\n                    </span>\\n                    <span class=\"summary-view-icon\">\\n                        <i class=\"icon-day\"></i>\\n                        23/03/2021\\n                    </span>\\n                    <span class=\"summary-view-icon\">\\n                        <i class=\"icon-hour\"></i>\\n                        20h34\\n                    </span>\\n                    <span class=\"summary-view-icon\">\\n                        <i class=\"icon-page\"></i>\\n                        Página\\n                    </span>\\n                \\n                <div class=\"visualClear\"><!-- --></div>\\n            \\n        </span>\\n\\n      </article>\\n\\n      \\n            \\n          \\n  \\n\\n        \\n\\n    <!-- Navigation -->\\n\\n    \\n\\n\\n\\n\\n\\n      \\n\\n      \\n        \\n      \\n\\n    \\n  \\n\\n\\n\\n                             </div>\\n                             <div id=\"viewlet-below-content-body\">\\n\\n\\n\\n\\n\\n\\n    <div class=\"visualClear\"><!-- --></div>\\n\\n    <div class=\"documentActions\">\\n        \\n\\n        \\n\\n    </div>\\n\\n</div>\\n\\n                            \\n                        </div>\\n                    \\n\\n                    \\n                </div>\\n            \\n\\n            <div id=\"viewlet-below-content\">\\n\\n\\n\\n\\n\\n\\n    \\n    \\n        <div class=\"social-links\">\\n            <label>Compartilhe: </label>\\n            \\n                \\n                    <a href=\"http://www.facebook.com/sharer.php?u=https://www.gov.br/planalto/pt-br/acompanhe-o-planalto/pronunciamentos/pronunciamentos-do-presidente-da-republica\" title=\"Facebook\" class=\"\">\\n                        <span class=\"fab fa-facebook-f\"></span>\\n                    </a>\\n                \\n                    <a href=\"https://twitter.com/share?text=Pronunciamentos do Presidente da República&amp;url=https://www.gov.br/planalto/resolveuid/01965570395b4d6c9b1f2bdc93bf6180\" title=\"Twitter\" class=\"\">\\n                        <span class=\"fab fa-twitter\"></span>\\n                    </a>\\n                \\n            \\n            <a class=\"link-clipboard\" onclick=\"event.preventDefault()\" title=\"Copiar para área de transferência\" href=\"https://www.gov.br/planalto/pt-br/acompanhe-o-planalto/pronunciamentos/pronunciamentos-do-presidente-da-republica\">\\n                <span class=\"fas fa-link\"></span>\\n            </a>\\n            <a class=\"toggle-social-links\">\\n                <span class=\"fas fa-share-alt\"></span>\\n                <span class=\"fas fa-times\"></span>\\n            </a>\\n        </div>\\n        <script>\\n            new ClipboardJS(\\'.link-clipboard\\', {\\n                text: function(trigger) {\\n                    return trigger.getAttribute(\\'href\\');\\n                }\\n            });\\n        </script>\\n    \\n\\n\\n  \\n\\n\\n\\n\\n\\n\\n</div>\\n        </main>\\n\\n        \\n      </div>\\n\\n      <div class=\"conteudo-relacionado\"></div>\\n\\n      <footer id=\"portal-footer\" class=\"portal-footer\">\\n        <div class=\"footer-wrapper\">\\n          <div class=\"govbr-logo\"></div>\\n          <!--<div class=\"colunas-rodape\">\\n              <div class=\"coluna-menu\">-->\\n          <ul class=\"list-navigation\"><li class=\"selected dropdown-submenu\"><a href=\"https://www.gov.br/planalto/pt-br/acompanhe-o-planalto\" class=\"plain\">Acompanhe o Planalto</a>\\n                <ul class=\"submenu\">\\n                    <li>\\n\\n    \\n\\n        <a href=\"https://www.gov.br/planalto/pt-br/acompanhe-o-planalto/noticias\" class=\"state-published\">\\n            \\n            Notícias\\n        </a>\\n\\n        \\n    \\n</li>\\n\\n<li>\\n\\n    \\n\\n        <a href=\"https://www.gov.br/planalto/pt-br/acompanhe-o-planalto/discursos\" class=\"state-published\">\\n            \\n            Discursos\\n        </a>\\n\\n        \\n    \\n</li>\\n\\n<li>\\n\\n    \\n\\n        <a href=\"https://www.gov.br/planalto/pt-br/acompanhe-o-planalto/pronunciamentos\" class=\"state-published\">\\n            \\n            Pronunciamentos\\n        </a>\\n\\n        \\n    \\n</li>\\n\\n<li>\\n\\n    \\n\\n        <a href=\"https://www.gov.br/planalto/pt-br/acompanhe-o-planalto/notas-oficiais\" class=\"state-published\">\\n            \\n            Notas Oficiais\\n        </a>\\n\\n        \\n    \\n</li>\\n\\n<li>\\n\\n    \\n\\n        <a href=\"https://www.gov.br/planalto/pt-br/acompanhe-o-planalto/notas-comunicados\" class=\"state-published\">\\n            \\n            Comunicados Interministeriais\\n        </a>\\n\\n        \\n    \\n</li>\\n\\n<li>\\n\\n    \\n\\n        <a href=\"https://www.gov.br/planalto/pt-br/acompanhe-o-planalto/entrevistas\" class=\"state-published\">\\n            \\n            Entrevistas\\n        </a>\\n\\n        \\n    \\n</li>\\n\\n<li class=\"dropdown-submenu\">\\n\\n    \\n\\n        <a href=\"https://www.gov.br/planalto/pt-br/acompanhe-o-planalto/foto-oficial\" class=\"state-published hasDropDown\">\\n            \\n            Foto Oficial\\n        </a>\\n\\n        <ul class=\"submenu navTree navTreeLevel1\">\\n            \\n\\n\\n\\n\\n<li>\\n\\n    \\n\\n        <a href=\"https://www.gov.br/planalto/pt-br/acompanhe-o-planalto/foto-oficial/fotos\" class=\"state-published\">\\n            \\n            Fotos\\n        </a>\\n\\n        \\n    \\n</li>\\n\\n\\n\\n\\n        </ul>\\n    \\n</li>\\n\\n<li class=\"dropdown-submenu\">\\n\\n    \\n\\n        <a href=\"https://www.gov.br/planalto/pt-br/acompanhe-o-planalto/area-de-imprensa\" class=\"state-published hasDropDown\">\\n            \\n            Área de Imprensa\\n        </a>\\n\\n        <ul class=\"submenu navTree navTreeLevel1\">\\n            \\n\\n\\n\\n\\n<li>\\n\\n    \\n\\n        <a href=\"https://www.gov.br/planalto/pt-br/acompanhe-o-planalto/area-de-imprensa/contatos-dos-assessores-de-imprensa-e-comunicacao-do-governo\" class=\"state-published\">\\n            \\n            Contatos dos Assessores de Imprensa e Comunicação do Governo\\n        </a>\\n\\n        \\n    \\n</li>\\n\\n<li>\\n\\n    \\n\\n        <a href=\"https://www.gov.br/planalto/pt-br/acompanhe-o-planalto/area-de-imprensa/sobre-a-secretaria-de-imprensa\" class=\"state-published\">\\n            \\n            Sobre a Secretaria de Imprensa\\n        </a>\\n\\n        \\n    \\n</li>\\n\\n\\n\\n\\n        </ul>\\n    \\n</li>\\n                </ul>\\n            </li><li class=\"plain dropdown-submenu\"><a href=\"https://www.gov.br/planalto/pt-br/conheca-a-presidencia\" class=\"plain\">Conheça a Presidência</a>\\n                <ul class=\"submenu\">\\n                    <li>\\n\\n    \\n\\n        <a href=\"https://www.gov.br/planalto/pt-br/conheca-a-presidencia/biografia-do-presidente\" class=\"state-published\">\\n            \\n            Biografia do Presidente\\n        </a>\\n\\n        \\n    \\n</li>\\n\\n<li>\\n\\n    \\n\\n        <a href=\"https://www.gov.br/planalto/pt-br/conheca-a-vice-presidencia/biografia-1\" class=\"state-published\">\\n            \\n            Biografia do Vice Presidente\\n        </a>\\n\\n        \\n    \\n</li>\\n\\n<li>\\n\\n    \\n\\n        <a href=\"https://www.gov.br/planalto/pt-br/acompanhe-o-planalto/agenda-do-presidente-da-republica\" class=\"state-published\">\\n            \\n            Agenda do Presidente da República\\n        </a>\\n\\n        \\n    \\n</li>\\n\\n<li class=\"dropdown-submenu\">\\n\\n    \\n\\n        <a href=\"https://www.gov.br/planalto/pt-br/conheca-a-presidencia/orgaos-da-presidencia-da-republica\" class=\"state-published hasDropDown\">\\n            \\n            Órgãos da Presidência da República\\n        </a>\\n\\n        <ul class=\"submenu navTree navTreeLevel1\">\\n            \\n\\n\\n\\n\\n<li>\\n\\n    \\n\\n        <a href=\"https://www.gov.br/planalto/pt-br/conheca-a-presidencia/orgaos-da-presidencia-da-republica/orgaos-essenciais\" class=\"state-published\">\\n            \\n            Orgãos Essenciais\\n        </a>\\n\\n        \\n    \\n</li>\\n\\n<li>\\n\\n    \\n\\n        <a href=\"https://www.gov.br/planalto/pt-br/conheca-a-presidencia/orgaos-da-presidencia-da-republica/orgaos-de-assessoramento-imediato\" class=\"state-published\">\\n            \\n            Órgãos de Assessoramento Imediato\\n        </a>\\n\\n        \\n    \\n</li>\\n\\n<li>\\n\\n    \\n\\n        <a href=\"https://www.gov.br/planalto/pt-br/conheca-a-presidencia/orgaos-da-presidencia-da-republica/orgaos-de-consulta\" class=\"state-published\">\\n            \\n            Órgãos de Consulta\\n        </a>\\n\\n        \\n    \\n</li>\\n\\n<li>\\n\\n    \\n\\n        <a href=\"https://www.gov.br/planalto/pt-br/conheca-a-presidencia/orgaos-da-presidencia-da-republica/conselhos\" class=\"state-published\">\\n            \\n            Conselhos\\n        </a>\\n\\n        \\n    \\n</li>\\n\\n<li>\\n\\n    \\n\\n        <a href=\"https://www.gov.br/planalto/pt-br/conheca-a-presidencia/orgaos-da-presidencia-da-republica/orgao-vinculado\" class=\"state-published\">\\n            \\n            Órgão Vinculado\\n        </a>\\n\\n        \\n    \\n</li>\\n\\n\\n\\n\\n        </ul>\\n    \\n</li>\\n\\n<li class=\"dropdown-submenu\">\\n\\n    \\n\\n        <a href=\"https://www.gov.br/planalto/pt-br/conheca-a-presidencia/ministros\" class=\"state-published hasDropDown\">\\n            \\n            Ministros\\n        </a>\\n\\n        <ul class=\"submenu navTree navTreeLevel1\">\\n            \\n\\n\\n\\n\\n<li>\\n\\n    \\n\\n        <a href=\"https://www.gov.br/planalto/pt-br/conheca-a-presidencia/ministros/casa-civil-da-presidencia-da-republica\" class=\"state-published\">\\n            \\n            Casa Civil da Presidência da República\\n        </a>\\n\\n        \\n    \\n</li>\\n\\n<li>\\n\\n    \\n\\n        <a href=\"https://www.gov.br/planalto/pt-br/conheca-a-presidencia/ministros/secretaria-de-governo-da-presidencia-da-republica\" class=\"state-published\">\\n            \\n            Secretaria de Governo da Presidência da República\\n        </a>\\n\\n        \\n    \\n</li>\\n\\n<li>\\n\\n    \\n\\n        <a href=\"https://www.gov.br/planalto/pt-br/conheca-a-presidencia/ministros/secretaria-geral-da-presidencia-da-republica\" class=\"state-published\">\\n            \\n            Secretaria-Geral da Presidência da República\\n        </a>\\n\\n        \\n    \\n</li>\\n\\n<li>\\n\\n    \\n\\n        <a href=\"https://www.gov.br/planalto/pt-br/conheca-a-presidencia/ministros/gabinete-de-seguranca-institucional\" class=\"state-published\">\\n            \\n            Gabinete de Segurança Institucional\\n        </a>\\n\\n        \\n    \\n</li>\\n\\n<li>\\n\\n    \\n\\n        <a href=\"https://www.gov.br/planalto/pt-br/conheca-a-presidencia/ministros/ministerio-da-justica-e-seguranca-publica\" class=\"state-published\">\\n            \\n            Ministério da Justiça e Segurança Pública\\n        </a>\\n\\n        \\n    \\n</li>\\n\\n<li>\\n\\n    \\n\\n        <a href=\"https://www.gov.br/planalto/pt-br/conheca-a-presidencia/ministros/ministerio-da-defesa\" class=\"state-published\">\\n            \\n            Ministério da Defesa\\n        </a>\\n\\n        \\n    \\n</li>\\n\\n<li>\\n\\n    \\n\\n        <a href=\"https://www.gov.br/planalto/pt-br/conheca-a-presidencia/ministros/ministerio-das-relacoes-exteriores\" class=\"state-published\">\\n            \\n            Ministério das Relações Exteriores\\n        </a>\\n\\n        \\n    \\n</li>\\n\\n<li>\\n\\n    \\n\\n        <a href=\"https://www.gov.br/planalto/pt-br/conheca-a-presidencia/ministros/ministerio-da-economia\" class=\"state-published\">\\n            \\n            Ministério da Economia\\n        </a>\\n\\n        \\n    \\n</li>\\n\\n<li>\\n\\n    \\n\\n        <a href=\"https://www.gov.br/planalto/pt-br/conheca-a-presidencia/ministros/ministerio-da-infraestrutura\" class=\"state-published\">\\n            \\n            Ministério da Infraestrutura\\n        </a>\\n\\n        \\n    \\n</li>\\n\\n<li>\\n\\n    \\n\\n        <a href=\"https://www.gov.br/planalto/pt-br/conheca-a-presidencia/ministros/ministerio-da-agricultura\" class=\"state-published\">\\n            \\n            Ministério da Agricultura\\n        </a>\\n\\n        \\n    \\n</li>\\n\\n<li>\\n\\n    \\n\\n        <a href=\"https://www.gov.br/planalto/pt-br/conheca-a-presidencia/ministros/ministerio-da-educacao\" class=\"state-published\">\\n            \\n            Ministério da Educação\\n        </a>\\n\\n        \\n    \\n</li>\\n\\n<li>\\n\\n    \\n\\n        <a href=\"https://www.gov.br/planalto/pt-br/conheca-a-presidencia/ministros/ministerio-da-mulher-familia-e-direitos-humanos\" class=\"state-published\">\\n            \\n            Ministério da Mulher, Família e Direitos Humanos\\n        </a>\\n\\n        \\n    \\n</li>\\n\\n<li>\\n\\n    \\n\\n        <a href=\"https://www.gov.br/planalto/pt-br/conheca-a-presidencia/ministros/ministerio-da-cidadania\" class=\"state-published\">\\n            \\n            Ministério da Cidadania\\n        </a>\\n\\n        \\n    \\n</li>\\n\\n<li>\\n\\n    \\n\\n        <a href=\"https://www.gov.br/planalto/pt-br/conheca-a-presidencia/ministros/ministerio-da-saude\" class=\"state-published\">\\n            \\n            Ministério da Saúde\\n        </a>\\n\\n        \\n    \\n</li>\\n\\n<li>\\n\\n    \\n\\n        <a href=\"https://www.gov.br/planalto/pt-br/conheca-a-presidencia/ministros/ministerio-de-minas-e-energia\" class=\"state-published\">\\n            \\n            Ministério de Minas e Energia\\n        </a>\\n\\n        \\n    \\n</li>\\n\\n<li>\\n\\n    \\n\\n        <a href=\"https://www.gov.br/planalto/pt-br/conheca-a-presidencia/ministros/ministerio-da-ciencia-tecnologia-inovacoes-e-comunicacoes\" class=\"state-published\">\\n            \\n            Ministério da Ciência, Tecnologia e Inovações\\n        </a>\\n\\n        \\n    \\n</li>\\n\\n<li>\\n\\n    \\n\\n        <a href=\"https://www.gov.br/planalto/pt-br/conheca-a-presidencia/ministros/ministerio-do-meio-ambiente\" class=\"state-published\">\\n            \\n            Ministério do Meio Ambiente\\n        </a>\\n\\n        \\n    \\n</li>\\n\\n<li>\\n\\n    \\n\\n        <a href=\"https://www.gov.br/planalto/pt-br/conheca-a-presidencia/ministros/ministerio-do-turismo\" class=\"state-published\">\\n            \\n            Ministério do Turismo\\n        </a>\\n\\n        \\n    \\n</li>\\n\\n<li>\\n\\n    \\n\\n        <a href=\"https://www.gov.br/planalto/pt-br/conheca-a-presidencia/ministros/ministerio-do-desenvolvimento-regional\" class=\"state-published\">\\n            \\n            Ministério do Desenvolvimento Regional\\n        </a>\\n\\n        \\n    \\n</li>\\n\\n<li>\\n\\n    \\n\\n        <a href=\"https://www.gov.br/planalto/pt-br/conheca-a-presidencia/ministros/controladoria-geral-da-uniao-cgu\" class=\"state-published\">\\n            \\n            Controladoria-Geral da União (CGU)\\n        </a>\\n\\n        \\n    \\n</li>\\n\\n<li>\\n\\n    \\n\\n        <a href=\"https://www.gov.br/planalto/pt-br/conheca-a-presidencia/ministros/advocacia-geral-da-uniao-agu\" class=\"state-published\">\\n            \\n            Advocacia-Geral da União (AGU)\\n        </a>\\n\\n        \\n    \\n</li>\\n\\n<li>\\n\\n    \\n\\n        <a href=\"https://www.gov.br/planalto/pt-br/conheca-a-presidencia/ministros/banco-central\" class=\"state-published\">\\n            \\n            Banco Central\\n        </a>\\n\\n        \\n    \\n</li>\\n\\n<li>\\n\\n    \\n\\n        <a href=\"https://www.gov.br/planalto/pt-br/conheca-a-presidencia/ministros/ministerio-das-comunicacoes\" class=\"state-published\">\\n            \\n            Ministério das Comunicações\\n        </a>\\n\\n        \\n    \\n</li>\\n\\n\\n\\n\\n        </ul>\\n    \\n</li>\\n\\n<li>\\n\\n    \\n\\n        <a href=\"https://www.gov.br/planalto/pt-br/conheca-a-presidencia/orgaos-da-presidencia-da-republica/conselhos\" class=\"state-published\">\\n            \\n            Conselhos\\n        </a>\\n\\n        \\n    \\n</li>\\n\\n<li>\\n\\n    \\n\\n        <a href=\"https://www.gov.br/planalto/pt-br/conheca-a-presidencia/principais-tropas\" class=\"state-published\">\\n            \\n            Principais Tropas\\n        </a>\\n\\n        \\n    \\n</li>\\n\\n<li>\\n\\n    \\n\\n        <a href=\"https://www.gov.br/planalto/pt-br/conheca-a-presidencia/ritos-e-solenidades\" class=\"state-published\">\\n            \\n            Ritos e Solenidades\\n        </a>\\n\\n        \\n    \\n</li>\\n\\n<li class=\"dropdown-submenu\">\\n\\n    \\n\\n        <a href=\"https://www.gov.br/planalto/pt-br/conheca-a-presidencia/palacios-e-residencias\" class=\"state-published hasDropDown\">\\n            \\n            Palácios e Residências\\n        </a>\\n\\n        <ul class=\"submenu navTree navTreeLevel1\">\\n            \\n\\n\\n\\n\\n<li>\\n\\n    \\n\\n        <a href=\"https://www.gov.br/planalto/pt-br/conheca-a-presidencia/palacios-e-residencias/palacio-do-planalto\" class=\"state-published\">\\n            \\n            Palácio do Planalto\\n        </a>\\n\\n        \\n    \\n</li>\\n\\n<li>\\n\\n    \\n\\n        <a href=\"https://www.gov.br/planalto/pt-br/conheca-a-presidencia/palacios-e-residencias/palacio-da-alvorada\" class=\"state-published\">\\n            \\n            Palácio da Alvorada\\n        </a>\\n\\n        \\n    \\n</li>\\n\\n<li>\\n\\n    \\n\\n        <a href=\"https://www.gov.br/planalto/pt-br/conheca-a-presidencia/palacios-e-residencias/palacio-jaburu\" class=\"state-published\">\\n            \\n            Palácio do Jaburu\\n        </a>\\n\\n        \\n    \\n</li>\\n\\n<li>\\n\\n    \\n\\n        <a href=\"https://www.gov.br/planalto/pt-br/conheca-a-presidencia/palacios-e-residencias/granja-do-torto\" class=\"state-published\">\\n            \\n            Granja do Torto\\n        </a>\\n\\n        \\n    \\n</li>\\n\\n<li>\\n\\n    \\n\\n        <a href=\"https://visitapr.presidencia.gov.br/\" class=\"state-published\">\\n            \\n            Agende sua visita ao Palácio do Planalto\\n        </a>\\n\\n        \\n    \\n</li>\\n\\n<li>\\n\\n    \\n\\n        <a href=\"https://www.gov.br/planalto/pt-br/conheca-a-presidencia/palacios-e-residencias/visitas\" class=\"state-published\">\\n            \\n            Programas de visitação\\n        </a>\\n\\n        \\n    \\n</li>\\n\\n\\n\\n\\n        </ul>\\n    \\n</li>\\n\\n<li class=\"dropdown-submenu\">\\n\\n    \\n\\n        <a href=\"https://www.gov.br/planalto/pt-br/conheca-a-presidencia/acervo\" class=\"state-published hasDropDown\">\\n            \\n            Acervo\\n        </a>\\n\\n        <ul class=\"submenu navTree navTreeLevel1\">\\n            \\n\\n\\n\\n\\n<li>\\n\\n    \\n\\n        <a href=\"https://www.gov.br/planalto/pt-br/conheca-a-presidencia/acervo/simbolos-nacionais\" class=\"state-published\">\\n            \\n            Símbolos Nacionais\\n        </a>\\n\\n        \\n    \\n</li>\\n\\n<li>\\n\\n    \\n\\n        <a href=\"https://www.gov.br/planalto/pt-br/conheca-a-presidencia/acervo/constituicao-federal\" class=\"state-published\">\\n            \\n            Constituição Federal\\n        </a>\\n\\n        \\n    \\n</li>\\n\\n<li>\\n\\n    \\n\\n        <a href=\"https://www.gov.br/planalto/pt-br/conheca-a-presidencia/acervo/legislacao\" class=\"state-published\">\\n            \\n            Legislação\\n        </a>\\n\\n        \\n    \\n</li>\\n\\n<li>\\n\\n    \\n\\n        <a href=\"https://www.gov.br/planalto/pt-br/conheca-a-presidencia/acervo/galeria-de-presidentes\" class=\"state-published\">\\n            \\n            Galeria de Presidentes\\n        </a>\\n\\n        \\n    \\n</li>\\n\\n<li>\\n\\n    \\n\\n        <a href=\"https://www.gov.br/planalto/pt-br/conheca-a-presidencia/acervo/biblioteca-da-presidencia\" class=\"state-published\">\\n            \\n            Biblioteca da Presidência\\n        </a>\\n\\n        \\n    \\n</li>\\n\\n\\n\\n\\n        </ul>\\n    \\n</li>\\n\\n<li>\\n\\n    \\n\\n        <a href=\"https://www.gov.br/planalto/pt-br/conheca-a-presidencia/presentes-recebidos-pelo-presidente-da-republica\" class=\"state-published\">\\n            \\n            Presentes recebidos pelo Presidente da República\\n        </a>\\n\\n        \\n    \\n</li>\\n                </ul>\\n            </li><li class=\"plain dropdown-submenu\"><a href=\"https://www.gov.br/planalto/pt-br/mensagempresidencial\" class=\"plain\">Mensagem presidencial</a>\\n                <ul class=\"submenu\">\\n                    <li>\\n\\n    \\n\\n        <a href=\"https://www.gov.br/planalto/pt-br/mensagempresidencial/2020\" class=\"state-published\">\\n            \\n            2020\\n        </a>\\n\\n        \\n    \\n</li>\\n\\n<li>\\n\\n    \\n\\n        <a href=\"https://www.gov.br/planalto/pt-br/mensagempresidencial/2021\" class=\"state-published\">\\n            \\n            2021\\n        </a>\\n\\n        \\n    \\n</li>\\n                </ul>\\n            </li><li class=\"plain dropdown-submenu\"><a href=\"https://www.gov.br/planalto/pt-br/conheca-a-vice-presidencia\" class=\"plain\">Vice-Presidência</a>\\n                <ul class=\"submenu\">\\n                    <li>\\n\\n    \\n\\n        <a href=\"https://www.gov.br/planalto/pt-br/conheca-a-vice-presidencia/nota-a-imprensa\" class=\"state-published\">\\n            \\n            Comunicados à Imprensa\\n        </a>\\n\\n        \\n    \\n</li>\\n\\n<li>\\n\\n    \\n\\n        <a href=\"https://www.gov.br/planalto/pt-br/conheca-a-vice-presidencia/agenda-do-vice-presidente\" class=\"state-published\">\\n            \\n            Agenda do Vice-Presidente\\n        </a>\\n\\n        \\n    \\n</li>\\n\\n<li>\\n\\n    \\n\\n        <a href=\"https://www.gov.br/planalto/pt-br/conheca-a-vice-presidencia/agendas-do-gabinete-pessoal-da-vice-presidencia\" class=\"state-published\">\\n            \\n            Agendas de Autoridades\\n        </a>\\n\\n        \\n    \\n</li>\\n\\n<li>\\n\\n    \\n\\n        <a href=\"https://www.gov.br/planalto/pt-br/conheca-a-vice-presidencia/discursos-pronunciamentos-artigos\" class=\"state-published\">\\n            \\n            Discursos e Artigos\\n        </a>\\n\\n        \\n    \\n</li>\\n\\n<li>\\n\\n    \\n\\n        <a href=\"https://www.gov.br/planalto/pt-br/conheca-a-vice-presidencia/institucional\" class=\"state-published\">\\n            \\n            Institucional\\n        </a>\\n\\n        \\n    \\n</li>\\n\\n<li class=\"dropdown-submenu\">\\n\\n    \\n\\n        <a href=\"https://www.gov.br/planalto/pt-br/conheca-a-vice-presidencia/conselho-da-amazonia\" class=\"state-published hasDropDown\">\\n            \\n            Conselho Nacional da Amazônia Legal\\n        </a>\\n\\n        <ul class=\"submenu navTree navTreeLevel1\">\\n            \\n\\n\\n\\n\\n<li>\\n\\n    \\n\\n        <a href=\"https://www.gov.br/planalto/pt-br/conheca-a-vice-presidencia/conselho-da-amazonia/campanha-diga-sim-a-vida-e-nao-a-queimada\" class=\"state-published\">\\n            \\n            Campanha diga Sim à Vida e Não à Queimada\\n        </a>\\n\\n        \\n    \\n</li>\\n\\n<li>\\n\\n    \\n\\n        <a href=\"https://www.gov.br/planalto/pt-br/conheca-a-vice-presidencia/conselho-da-amazonia/cnal-lanca-campanha-diga-sim-a-vida-e-nao-a-queimada201d\" class=\"state-published\">\\n            \\n            CNAL lança campanha \"Diga Sim à Vida e Não à Queimada”\\n        </a>\\n\\n        \\n    \\n</li>\\n\\n<li>\\n\\n    \\n\\n        <a href=\"https://www.gov.br/planalto/pt-br/conheca-a-vice-presidencia/conselho-da-amazonia/plano-de-comunicacao-do-cnal-2020-2022\" class=\"state-published\">\\n            \\n            Plano de Comunicação do CNAL 2020 - 2022\\n        </a>\\n\\n        \\n    \\n</li>\\n\\n\\n\\n\\n        </ul>\\n    \\n</li>\\n\\n<li class=\"dropdown-submenu\">\\n\\n    \\n\\n        <a href=\"https://www.gov.br/planalto/pt-br/conheca-a-vice-presidencia/acesso-a-informacao-1\" class=\"state-published hasDropDown\">\\n            \\n            Acesso à Informação\\n        </a>\\n\\n        <ul class=\"submenu navTree navTreeLevel1\">\\n            \\n\\n\\n\\n\\n<li>\\n\\n    \\n\\n        <a href=\"https://www.gov.br/planalto/pt-br/conheca-a-vice-presidencia/acesso-a-informacao-1/acoes-e-programas\" class=\"state-published\">\\n            \\n            Ações e Programas\\n        </a>\\n\\n        \\n    \\n</li>\\n\\n<li>\\n\\n    \\n\\n        <a href=\"https://www.gov.br/planalto/pt-br/conheca-a-vice-presidencia/acesso-a-informacao-1/auditorias\" class=\"state-published\">\\n            \\n            Auditorias\\n        </a>\\n\\n        \\n    \\n</li>\\n\\n<li>\\n\\n    \\n\\n        <a href=\"https://www.gov.br/planalto/pt-br/conheca-a-vice-presidencia/acesso-a-informacao-1/convenios-e-transferencias-1\" class=\"state-published\">\\n            \\n            Convênios e Transferências\\n        </a>\\n\\n        \\n    \\n</li>\\n\\n<li>\\n\\n    \\n\\n        <a href=\"https://www.gov.br/planalto/pt-br/conheca-a-vice-presidencia/acesso-a-informacao-1/dados-abertos\" class=\"state-published\">\\n            \\n            Dados Abertos\\n        </a>\\n\\n        \\n    \\n</li>\\n\\n<li>\\n\\n    \\n\\n        <a href=\"https://www.gov.br/planalto/pt-br/conheca-a-vice-presidencia/acesso-a-informacao-1/demonstracoes-contabeis-1\" class=\"state-published\">\\n            \\n            Demonstrações Contábeis\\n        </a>\\n\\n        \\n    \\n</li>\\n\\n<li>\\n\\n    \\n\\n        <a href=\"https://www.gov.br/planalto/pt-br/conheca-a-vice-presidencia/acesso-a-informacao-1/diarias-e-passagem\" class=\"state-published\">\\n            \\n            Diárias e Passagem\\n        </a>\\n\\n        \\n    \\n</li>\\n\\n<li>\\n\\n    \\n\\n        <a href=\"https://www.gov.br/planalto/pt-br/conheca-a-vice-presidencia/acesso-a-informacao-1/informacoes-classificadas-1\" class=\"state-published\">\\n            \\n            Informações Classificadas\\n        </a>\\n\\n        \\n    \\n</li>\\n\\n<li>\\n\\n    \\n\\n        <a href=\"https://www.gov.br/planalto/pt-br/conheca-a-vice-presidencia/acesso-a-informacao-1/contratos-firmados\" class=\"state-published\">\\n            \\n            Licitações e Contratos\\n        </a>\\n\\n        \\n    \\n</li>\\n\\n<li>\\n\\n    \\n\\n        <a href=\"https://www.gov.br/planalto/pt-br/conheca-a-vice-presidencia/acesso-a-informacao-1/participacao-social-1\" class=\"state-published\">\\n            \\n            Participação Social\\n        </a>\\n\\n        \\n    \\n</li>\\n\\n<li>\\n\\n    \\n\\n        <a href=\"https://www.gov.br/planalto/pt-br/conheca-a-vice-presidencia/acesso-a-informacao-1/perguntas-frequentes\" class=\"state-published\">\\n            \\n            Perguntas Frequentes\\n        </a>\\n\\n        \\n    \\n</li>\\n\\n<li>\\n\\n    \\n\\n        <a href=\"https://www.gov.br/planalto/pt-br/conheca-a-vice-presidencia/acesso-a-informacao-1/pregao-eletronico\" class=\"state-published\">\\n            \\n            Pregão Eletrônico\\n        </a>\\n\\n        \\n    \\n</li>\\n\\n<li>\\n\\n    \\n\\n        <a href=\"https://www.gov.br/planalto/pt-br/conheca-a-vice-presidencia/acesso-a-informacao-1/quem-e-quem\" class=\"state-published\">\\n            \\n            Quem é Quem?\\n        </a>\\n\\n        \\n    \\n</li>\\n\\n<li>\\n\\n    \\n\\n        <a href=\"https://www.gov.br/planalto/pt-br/conheca-a-vice-presidencia/acesso-a-informacao-1/curriculos-vpr-2020\" class=\"state-published\">\\n            \\n            Quem é Quem - Currículos\\n        </a>\\n\\n        \\n    \\n</li>\\n\\n<li>\\n\\n    \\n\\n        <a href=\"https://www.gov.br/planalto/pt-br/conheca-a-vice-presidencia/acesso-a-informacao-1/Receitas%20e%20Despesas\" class=\"state-published\">\\n            \\n            Receitas e Despesas\\n        </a>\\n\\n        \\n    \\n</li>\\n\\n<li>\\n\\n    \\n\\n        <a href=\"https://www.gov.br/planalto/pt-br/conheca-a-vice-presidencia/acesso-a-informacao-1/servico-de-informacoes-ao-cidadao-sic-pagina\" class=\"state-published\">\\n            \\n            Serviço de Informações ao Cidadão - SIC\\n        </a>\\n\\n        \\n    \\n</li>\\n\\n\\n\\n\\n        </ul>\\n    \\n</li>\\n\\n<li>\\n\\n    \\n\\n        <a href=\"https://www.gov.br/planalto/pt-br/conheca-a-vice-presidencia/biografia-1\" class=\"state-published\">\\n            \\n            Biografia\\n        </a>\\n\\n        \\n    \\n</li>\\n                </ul>\\n            </li><li class=\"plain dropdown-submenu\"><a href=\"https://www.gov.br/planalto/pt-br/acesso-a-informacao\" class=\"plain\">Acesso à Informação</a>\\n                <ul class=\"submenu\">\\n                    <li class=\"dropdown-submenu\">\\n\\n    \\n\\n        <a href=\"https://www.gov.br/planalto/pt-br/acesso-a-informacao/institucional\" class=\"state-published hasDropDown\">\\n            \\n            Institucional\\n        </a>\\n\\n        <ul class=\"submenu navTree navTreeLevel1\">\\n            \\n\\n\\n\\n\\n<li>\\n\\n    \\n\\n        <a href=\"https://www.gov.br/planalto/pt-br/acesso-a-informacao/institucional/estrutura-da-presidencia\" class=\"state-published\">\\n            \\n            Estrutura da Presidência\\n        </a>\\n\\n        \\n    \\n</li>\\n\\n<li>\\n\\n    \\n\\n        <a href=\"https://www.gov.br/planalto/pt-br/acesso-a-informacao/institucional/atribuicoes-do-gabinete-pessoal\" class=\"state-published\">\\n            \\n            Atribuições do Gabinete Pessoal do Presidente da República\\n        </a>\\n\\n        \\n    \\n</li>\\n\\n<li>\\n\\n    \\n\\n        <a href=\"https://www.gov.br/planalto/pt-br/acesso-a-informacao/institucional/atribuicoes-da-assessoria-especial-do-presidente-da-republica\" class=\"state-published\">\\n            \\n            Atribuições da Assessoria Especial do Presidente da República\\n        </a>\\n\\n        \\n    \\n</li>\\n\\n<li>\\n\\n    \\n\\n        <a href=\"https://www.gov.br/planalto/pt-br/acesso-a-informacao/institucional/atribuicoes-da-secretaria-especial-de-assuntos-estrategicos\" class=\"state-published\">\\n            \\n            Atribuições da Secretaria Especial de Assuntos Estratégicos\\n        </a>\\n\\n        \\n    \\n</li>\\n\\n<li>\\n\\n    \\n\\n        <a href=\"http://www4.planalto.gov.br/cgd/\" class=\"state-published\">\\n            \\n            Comitê de Governança Digital\\n        </a>\\n\\n        \\n    \\n</li>\\n\\n<li>\\n\\n    \\n\\n        <a href=\"https://www.gov.br/planalto/pt-br/acesso-a-informacao/institucional/presidencia\" class=\"state-published\">\\n            \\n            Agendas do Gabinete Pessoal do Presidente da República\\n        </a>\\n\\n        \\n    \\n</li>\\n\\n<li>\\n\\n    \\n\\n        <a href=\"https://www.gov.br/planalto/pt-br/acesso-a-informacao/institucional/agendas-da-secretaria-especial-de-assuntos-estrategicos\" class=\"state-published\">\\n            \\n            Agendas da Secretaria Especial de Assuntos Estratégicos\\n        </a>\\n\\n        \\n    \\n</li>\\n\\n<li>\\n\\n    \\n\\n        <a href=\"http://etica.planalto.gov.br\" class=\"state-published\">\\n            \\n            Comissão de Ética Pública\\n        </a>\\n\\n        \\n    \\n</li>\\n\\n<li>\\n\\n    \\n\\n        <a href=\"https://www.gov.br/planalto/pt-br/acesso-a-informacao/institucional/horarios-de-atendimento-do-orgao\" class=\"state-published\">\\n            \\n            Horários de atendimento do órgão\\n        </a>\\n\\n        \\n    \\n</li>\\n\\n\\n\\n\\n        </ul>\\n    \\n</li>\\n\\n<li>\\n\\n    \\n\\n        <a href=\"https://www.gov.br/planalto/pt-br/acesso-a-informacao/acoes-e-programas\" class=\"state-published\">\\n            \\n            Ações e Programas\\n        </a>\\n\\n        \\n    \\n</li>\\n\\n<li>\\n\\n    \\n\\n        <a href=\"https://www.gov.br/planalto/pt-br/acesso-a-informacao/auditorias\" class=\"state-published\">\\n            \\n            Auditorias\\n        </a>\\n\\n        \\n    \\n</li>\\n\\n<li>\\n\\n    \\n\\n        <a href=\"https://www.gov.br/planalto/pt-br/acesso-a-informacao/convenios\" class=\"state-published\">\\n            \\n            Convênios e Transferências\\n        </a>\\n\\n        \\n    \\n</li>\\n\\n<li>\\n\\n    \\n\\n        <a href=\"https://www.gov.br/planalto/pt-br/acesso-a-informacao/receitasedespesas\" class=\"state-published\">\\n            \\n            Receitas e Despesas\\n        </a>\\n\\n        \\n    \\n</li>\\n\\n<li>\\n\\n    \\n\\n        <a href=\"https://www.gov.br/planalto/pt-br/acesso-a-informacao/licitacoes-e-contratos\" class=\"state-published\">\\n            \\n            Licitações e contratos\\n        </a>\\n\\n        \\n    \\n</li>\\n\\n<li>\\n\\n    \\n\\n        <a href=\"https://www.gov.br/planalto/pt-br/acesso-a-informacao/servidores\" class=\"state-published\">\\n            \\n            Servidores\\n        </a>\\n\\n        \\n    \\n</li>\\n\\n<li>\\n\\n    \\n\\n        <a href=\"https://www.gov.br/planalto/pt-br/acesso-a-informacao/informacoes-classificadas\" class=\"state-published\">\\n            \\n            Informações Classificadas\\n        </a>\\n\\n        \\n    \\n</li>\\n\\n<li>\\n\\n    \\n\\n        <a href=\"https://www.gov.br/planalto/pt-br/acesso-a-informacao/servico-de-informacao-ao-cidadao\" class=\"state-published\">\\n            \\n            Serviço de Informação ao Cidadão\\n        </a>\\n\\n        \\n    \\n</li>\\n\\n<li>\\n\\n    \\n\\n        <a href=\"https://www.gov.br/planalto/pt-br/acesso-a-informacao/perguntas-frequentes\" class=\"state-published\">\\n            \\n            Perguntas Frequentes\\n        </a>\\n\\n        \\n    \\n</li>\\n\\n<li>\\n\\n    \\n\\n        <a href=\"http://dadosabertos.presidencia.gov.br/\" class=\"state-published\">\\n            \\n            Dados abertos\\n        </a>\\n\\n        \\n    \\n</li>\\n                </ul>\\n            </li><li class=\"plain dropdown-submenu\"><a href=\"https://www.gov.br/planalto/pt-br/credenciamento-de-imprensa\" class=\"plain\">Credenciamento de Imprensa</a>\\n                <ul class=\"submenu\">\\n                    <li class=\"dropdown-submenu\">\\n\\n    \\n\\n        <a href=\"https://www.gov.br/planalto/pt-br/credenciamento-de-imprensa/avisos-de-credenciamento\" class=\"state-published hasDropDown\">\\n            \\n            Avisos de Credenciamento\\n        </a>\\n\\n        <ul class=\"submenu navTree navTreeLevel1\">\\n            \\n\\n\\n\\n\\n<li>\\n\\n    \\n\\n        <a href=\"https://www.gov.br/planalto/pt-br/credenciamento-de-imprensa/avisos-de-credenciamento/credenciamento-de-imprensa-para-posse-presidencial-2019-2013-itamaraty\" class=\"state-published\">\\n            \\n            Credenciamento de Imprensa para Posse Presidencial 2019 – Itamaraty\\n        </a>\\n\\n        \\n    \\n</li>\\n\\n<li>\\n\\n    \\n\\n        <a href=\"https://www.gov.br/planalto/pt-br/credenciamento-de-imprensa/avisos-de-credenciamento/nota-a-imprensa\" class=\"state-published\">\\n            \\n            Nota à imprensa\\n        </a>\\n\\n        \\n    \\n</li>\\n\\n<li>\\n\\n    \\n\\n        <a href=\"https://www.gov.br/planalto/pt-br/credenciamento-de-imprensa/avisos-de-credenciamento/sessao-solene-de-cargos-presidente-e-vice-presidente-do-superior-tribunal-militar\" class=\"state-published\">\\n            \\n            Sessão Solene de Cargos, Presidente e vice-Presidente, do Superior Tribunal Militar\\n        </a>\\n\\n        \\n    \\n</li>\\n\\n<li>\\n\\n    \\n\\n        <a href=\"https://www.gov.br/planalto/pt-br/credenciamento-de-imprensa/avisos-de-credenciamento/credenciamento-para-o-almoco-palestra-lide-grupo-de-lideres-empresariais\" class=\"state-published\">\\n            \\n            Credenciamento para o Almoço / Palestra LIDE (Grupo de Líderes Empresariais)\\n        </a>\\n\\n        \\n    \\n</li>\\n\\n<li>\\n\\n    \\n\\n        <a href=\"https://www.gov.br/planalto/pt-br/credenciamento-de-imprensa/avisos-de-credenciamento/credenciamento-da-viagem-presidencial-a-cidade-de-porto-alegre-rs\" class=\"state-published\">\\n            \\n            Credenciamento da viagem Presidencial à cidade de Porto Alegre - RS\\n        </a>\\n\\n        \\n    \\n</li>\\n\\n<li>\\n\\n    \\n\\n        <a href=\"https://www.gov.br/planalto/pt-br/credenciamento-de-imprensa/avisos-de-credenciamento/credenciamento-da-viagem-presidencial-a-cidade-de-porto-alegre-rs-1\" class=\"state-published\">\\n            \\n            Credenciamento da viagem Presidencial à cidade de Porto Alegre - RS\\n        </a>\\n\\n        \\n    \\n</li>\\n\\n<li>\\n\\n    \\n\\n        <a href=\"https://www.gov.br/planalto/pt-br/credenciamento-de-imprensa/avisos-de-credenciamento/viagem-do-vice-presidente-da-republica-hamilton-mourao-a-cidade-do-rio-de-janeiro-rj\" class=\"state-published\">\\n            \\n            Viagem do Vice-Presidente da República, Hamilton Mourão, à cidade do Rio de Janeiro/RJ\\n        </a>\\n\\n        \\n    \\n</li>\\n\\n<li>\\n\\n    \\n\\n        <a href=\"https://www.gov.br/planalto/pt-br/credenciamento-de-imprensa/avisos-de-credenciamento/viagem-presidencial-a-cidade-de-sao-paulo-sp-4\" class=\"state-published\">\\n            \\n            Viagem Presidencial à cidade de São Paulo/SP\\n        </a>\\n\\n        \\n    \\n</li>\\n\\n<li>\\n\\n    \\n\\n        <a href=\"https://www.gov.br/planalto/pt-br/credenciamento-de-imprensa/avisos-de-credenciamento/viagem-presidencial-a-cidade-de-itapira-sp\" class=\"state-published\">\\n            \\n            Viagem Presidencial à cidade de Itapira/SP\\n        </a>\\n\\n        \\n    \\n</li>\\n\\n<li>\\n\\n    \\n\\n        <a href=\"https://www.gov.br/planalto/pt-br/credenciamento-de-imprensa/avisos-de-credenciamento/viagem-do-vice-presidente-da-republica-hamilton-mourao-a-cidade-de-palmas-to\" class=\"state-published\">\\n            \\n            Viagem do Vice-Presidente da República Hamilton Mourão, à cidade de Palmas/TO\\n        </a>\\n\\n        \\n    \\n</li>\\n\\n<li>\\n\\n    \\n\\n        <a href=\"https://www.gov.br/planalto/pt-br/credenciamento-de-imprensa/avisos-de-credenciamento/assinatura-do-decreto-de-gratuidade-de-publicacao-no-diario-oficial-da-uniao-para-orgaos-federais-e-medidas-de-modernizacao-da-imprensa-nacional\" class=\"state-published\">\\n            \\n            Assinatura do Decreto de Gratuidade de Publicação no Diário Oficial da União para Órgãos Federais e Medidas de Modernização da Imprensa Nacional\\n        </a>\\n\\n        \\n    \\n</li>\\n\\n<li>\\n\\n    \\n\\n        <a href=\"https://www.gov.br/planalto/pt-br/credenciamento-de-imprensa/avisos-de-credenciamento/local-de-entrega-das-credenciais-da-viagem-presidencial-a-cidade-de-bento-goncalves-2013-rs-cupula-do-vale-dos-vinhedos\" class=\"state-published\">\\n            \\n            Local de Entrega das Credenciais da Viagem Presidencial à cidade de Bento Gonçalves – RS (CÚPULA DO VALE DOS VINHEDOS)\\n        </a>\\n\\n        \\n    \\n</li>\\n\\n<li>\\n\\n    \\n\\n        <a href=\"https://www.gov.br/planalto/pt-br/credenciamento-de-imprensa/avisos-de-credenciamento/viagem-presidencial-a-cidade-rio-de-janeiro-rj\" class=\"state-published\">\\n            \\n            Viagem Presidencial à cidade do Rio de Janeiro/RJ\\n        </a>\\n\\n        \\n    \\n</li>\\n\\n<li>\\n\\n    \\n\\n        <a href=\"https://www.gov.br/planalto/pt-br/credenciamento-de-imprensa/avisos-de-credenciamento/local-de-entrega-das-credenciais-da-viagem-presidencial-a-cidade-de-sao-paulo-2013-sp\" class=\"state-published\">\\n            \\n            Local de Entrega das Credenciais da Viagem Presidencial à cidade de São Paulo – SP\\n        </a>\\n\\n        \\n    \\n</li>\\n\\n<li>\\n\\n    \\n\\n        <a href=\"https://www.gov.br/planalto/pt-br/credenciamento-de-imprensa/avisos-de-credenciamento/cerimonia-de-inauguracao-do-centro-de-operacoes-espaciais-principal-do-satelite-geoestacionario-de-defesa-e-comunicacoes-estrategicas-cope-p-sgdc\" class=\"state-published\">\\n            \\n            Cerimônia de Inauguração do Centro de Operações Espaciais Principal do Satélite Geoestacionário de Defesa e Comunicações Estratégicas  (COPE-P-SGDC)\\n        </a>\\n\\n        \\n    \\n</li>\\n\\n<li>\\n\\n    \\n\\n        <a href=\"https://www.gov.br/planalto/pt-br/credenciamento-de-imprensa/avisos-de-credenciamento/credenciamento-de-imprensa-para-coletiva-do-senhor-vice-presidente-da-republica-hamilton-mourao-na-divulgacao-dos-dados-do-projeto-prodes-em-sao-jose-dos-campos-sp\" class=\"state-published\">\\n            \\n            Credenciamento de Imprensa para Coletiva do Senhor Vice-Presidente da República, Hamilton Mourão, na divulgação dos dados do Projeto (PRODES), em São José dos Campos/SP\\n        </a>\\n\\n        \\n    \\n</li>\\n\\n<li>\\n\\n    \\n\\n        <a href=\"https://www.gov.br/planalto/pt-br/credenciamento-de-imprensa/avisos-de-credenciamento/local-de-entrega-das-credenciais-da-viagem-presidencial-a-cidade-de-foz-do-iguacu-pr201d\" class=\"state-published\">\\n            \\n            Local de Entrega das Credenciais da Viagem Presidencial à cidade de Foz do Iguaçu - PR”.\\n        </a>\\n\\n        \\n    \\n</li>\\n\\n<li>\\n\\n    \\n\\n        <a href=\"https://www.gov.br/planalto/pt-br/credenciamento-de-imprensa/avisos-de-credenciamento/credenciamento-de-imprensa-para-o-lancamento-da-colecao-de-livros-201cpensadores-do-brasil201d-pelo-instituto-general-villas-boas-com-a-participacao-do-senhor-vice-presidente-da-republica-hamilton-mourao-em-brasilia-df\" class=\"state-published\">\\n            \\n            Credenciamento de Imprensa para o lançamento da coleção de livros “Pensadores do Brasil”, pelo Instituto General Villas Bôas, com a participação do Senhor Vice-Presidente da República, Hamilton Mourão, em Brasília/DF\\n        </a>\\n\\n        \\n    \\n</li>\\n\\n<li>\\n\\n    \\n\\n        <a href=\"https://www.gov.br/planalto/pt-br/credenciamento-de-imprensa/avisos-de-credenciamento/local-de-entrega-das-credenciais-da-viagem-presidencial-a-cidade-de-sertaniape\" class=\"state-published\">\\n            \\n            Local de Entrega das Credenciais da Viagem Presidencial à cidade de  SertâniaPE\\n        </a>\\n\\n        \\n    \\n</li>\\n\\n\\n\\n\\n        </ul>\\n    \\n</li>\\n\\n<li>\\n\\n    \\n\\n        <a href=\"https://www.gov.br/planalto/pt-br/credenciamento-de-imprensa/credenciamento-anual\" class=\"state-published\">\\n            \\n            Credenciamento Anual\\n        </a>\\n\\n        \\n    \\n</li>\\n\\n<li>\\n\\n    \\n\\n        <a href=\"https://www.gov.br/planalto/pt-br/credenciamento-de-imprensa/cobertura-diaria\" class=\"state-published\">\\n            \\n            Cobertura Diária\\n        </a>\\n\\n        \\n    \\n</li>\\n\\n<li>\\n\\n    \\n\\n        <a href=\"https://www.gov.br/planalto/pt-br/credenciamento-de-imprensa/cobertura-de-eventos-viagens\" class=\"state-published\">\\n            \\n            Cobertura de Eventos &amp; Viagens\\n        </a>\\n\\n        \\n    \\n</li>\\n                </ul>\\n            </li><li class=\"plain dropdown-submenu\"><a href=\"https://www.gov.br/planalto/pt-br/centrais-de-conteudo\" class=\"plain\">Centrais de Conteúdo</a>\\n                <ul class=\"submenu\">\\n                    <li>\\n\\n    \\n\\n        <a href=\"https://flickr.com/photos/palaciodoplanalto/albums\" class=\"state-published\">\\n            \\n            Imagens\\n        </a>\\n\\n        \\n    \\n</li>\\n\\n<li>\\n\\n    \\n\\n        <a href=\"https://www.youtube.com/user/PalaciodoPlanalto\" class=\"state-published\">\\n            \\n            Vídeos\\n        </a>\\n\\n        \\n    \\n</li>\\n\\n<li>\\n\\n    \\n\\n        <a href=\"/planalto/pt-br/acompanhe-o-planalto/audios\" class=\"state-published\">\\n            \\n            Áudios\\n        </a>\\n\\n        \\n    \\n</li>\\n                </ul>\\n            </li><li class=\"plain dropdown-submenu\"><a href=\"https://www.gov.br/planalto/pt-br/fale-conosco\" class=\"plain\">Fale Conosco</a>\\n                <ul class=\"submenu\">\\n                    <li>\\n\\n    \\n\\n        <a href=\"https://www.gov.br/planalto/pt-br/fale-conosco/fale-com-o-presidente\" class=\"state-published\">\\n            \\n            Fale com o Presidente\\n        </a>\\n\\n        \\n    \\n</li>\\n\\n<li>\\n\\n    \\n\\n        <a href=\"https://www.gov.br/planalto/pt-br/fale-conosco/ouvidoriadapresidencia\" class=\"state-published\">\\n            \\n            Ouvidoria\\n        </a>\\n\\n        \\n    \\n</li>\\n                </ul>\\n            </li><li class=\"plain dropdown-submenu\"><a href=\"https://www.gov.br/planalto/pt-br/assuntos\" class=\"plain\">Assuntos</a>\\n                <ul class=\"submenu\">\\n                    <li class=\"dropdown-submenu\">\\n\\n    \\n\\n        <a href=\"https://www.gov.br/planalto/pt-br/assuntos/etica-publica\" class=\"state-published hasDropDown\">\\n            \\n            Ética Pública\\n        </a>\\n\\n        <ul class=\"submenu navTree navTreeLevel1\">\\n            \\n\\n\\n\\n\\n<li>\\n\\n    \\n\\n        <a href=\"https://www.gov.br/planalto/pt-br/assuntos/etica-publica/institucional\" class=\"state-published\">\\n            \\n            Institucional\\n        </a>\\n\\n        \\n    \\n</li>\\n\\n<li>\\n\\n    \\n\\n        <a href=\"https://www.gov.br/planalto/pt-br/assuntos/etica-publica/reunioes-de-colegiado\" class=\"state-published\">\\n            \\n            Reuniões do Colegiado\\n        </a>\\n\\n        \\n    \\n</li>\\n\\n<li>\\n\\n    \\n\\n        <a href=\"https://www.gov.br/planalto/pt-br/assuntos/etica-publica/informacoes-de-interesse-de-autoridades\" class=\"state-published\">\\n            \\n            Informações de Interesse de Autoridades\\n        </a>\\n\\n        \\n    \\n</li>\\n\\n<li>\\n\\n    \\n\\n        <a href=\"https://www.gov.br/planalto/pt-br/assuntos/etica-publica/sistema-de-gestao-da-etica\" class=\"state-published\">\\n            \\n            Sistema de Gestão da Ética\\n        </a>\\n\\n        \\n    \\n</li>\\n\\n<li>\\n\\n    \\n\\n        <a href=\"https://www.gov.br/planalto/pt-br/assuntos/etica-publica/eventos-e-cursos\" class=\"state-published\">\\n            \\n            Eventos e Cursos\\n        </a>\\n\\n        \\n    \\n</li>\\n\\n<li>\\n\\n    \\n\\n        <a href=\"https://www.gov.br/planalto/pt-br/assuntos/etica-publica/legislacao\" class=\"state-published\">\\n            \\n            Legislação\\n        </a>\\n\\n        \\n    \\n</li>\\n\\n<li>\\n\\n    \\n\\n        <a href=\"https://www.gov.br/planalto/pt-br/assuntos/etica-publica/promocao-da-etica-1\" class=\"state-published\">\\n            \\n            Canais de Atendimento\\n        </a>\\n\\n        \\n    \\n</li>\\n\\n<li>\\n\\n    \\n\\n        <a href=\"https://www.gov.br/planalto/pt-br/assuntos/etica-publica/noticias\" class=\"state-published\">\\n            \\n            Not´ícias\\n        </a>\\n\\n        \\n    \\n</li>\\n\\n\\n\\n\\n        </ul>\\n    \\n</li>\\n                </ul>\\n            </li></ul>\\n          <!--</div>\\n            </div>-->\\n\\n          <div class=\"redes-e-logos\">\\n            <div class=\"redes-sociais\">\\n              <div class=\"titulo\">Redes sociais</div>\\n            <ul class=\"portal-redes\">\\n            \\n                <li class=\"portalredes-twitter portalredes-item\">\\n                    <a href=\"https://www.twitter.com/planalto\">Twitter</a>\\n                </li>\\n            \\n                <li class=\"portalredes-youtube portalredes-item\">\\n                    <a href=\"https://www.youtube.com/user/PalaciodoPlanalto\">YouTube</a>\\n                </li>\\n            \\n                <li class=\"portalredes-facebook portalredes-item\">\\n                    <a href=\"https://www.facebook.com/palaciodoplanalto\">Facebook</a>\\n                </li>\\n            \\n                <li class=\"portalredes-flickr portalredes-item\">\\n                    <a href=\"https://www.flickr.com/photos/palaciodoplanalto\">Flickr</a>\\n                </li>\\n            \\n        </ul></div>\\n            <div id=\"footer-brasil\"></div>\\n          </div>\\n        </div>\\n\\n        <div class=\"texto-copyright\">\\n    <span omit-tag=\"\">Todo o conteúdo deste site está publicado sob a licença</span> <a rel=\"license\" href=\"https://creativecommons.org/licenses/by-nd/3.0/deed.pt_BR\">Creative Commons Atribuição-SemDerivações 3.0 Não Adaptada</a>.\\n  </div>\\n      </footer>\\n\\n      <nav class=\"back-to-top\" aria-label=\"Voltar ao topo da página\">\\n        <a href=\"#wrapper\">\\n          <span class=\"fa fa-chevron-up\"></span>\\n          <span class=\"sr-only\">Voltar ao topo da página</span>\\n        </a>\\n      </nav>\\n    </div>\\n    \\n    \\n      <script defer=\"defer\" src=\"//barra.brasil.gov.br/barra_2.0.js\"></script>\\n    \\n<script type=\"text/javascript\" src=\"/planalto/++theme++padrao_govbr/govbrtheme-27275d3.js\"></script><div id=\"plone-analytics\"><!-- Global site tag (gtag.js) - Google Analytics -->\\n<script async=\"\" src=\"https://www.googletagmanager.com/gtag/js?id=UA-80181585-36\"></script>\\n<script>\\n  window.dataLayer = window.dataLayer || [];\\n  function gtag(){dataLayer.push(arguments);}\\n  gtag(\\'js\\', new Date());\\n\\n  gtag(\\'config\\', \\'UA-80181585-36\\', {\\n  \\'linker\\': {\\n    \\'domains\\': [\\'www.gov.br\\', \\'vlibras.gov.br\\'],\\n    \\'accept_incoming\\': true\\n  }\\n});\\n</script>\\n</div></body>\\n</html>'"
            ]
          },
          "metadata": {
            "tags": []
          },
          "execution_count": 37
        }
      ]
    },
    {
      "cell_type": "code",
      "metadata": {
        "id": "-JUuoqQv8811"
      },
      "source": [
        "bs = BeautifulSoup(response.text)"
      ],
      "execution_count": 38,
      "outputs": []
    },
    {
      "cell_type": "code",
      "metadata": {
        "id": "1_6qg_AF9E65"
      },
      "source": [
        "articles = bs.find_all(\"article\")"
      ],
      "execution_count": 39,
      "outputs": []
    },
    {
      "cell_type": "code",
      "metadata": {
        "colab": {
          "base_uri": "https://localhost:8080/"
        },
        "id": "WItT-Xhv95Ie",
        "outputId": "b2529316-5333-49d9-8c09-d1dc7e8fcda1"
      },
      "source": [
        "articles"
      ],
      "execution_count": 40,
      "outputs": [
        {
          "output_type": "execute_result",
          "data": {
            "text/plain": [
              "[<article class=\"tileItem visualIEFloatFix tile-document\">\n",
              " <div class=\"tileContent\">\n",
              " <h2 class=\"tileHeadline\">\n",
              " <a class=\"summary url\" href=\"https://www.gov.br/planalto/pt-br/acompanhe-o-planalto/pronunciamentos/pronunciamentos-do-presidente-da-republica/pronunciamento-do-presidente-da-republica-jair-bolsonaro-em-cadeia-de-radio-e-televisao-brasilia-df\" title=\"Document\">Pronunciamento do Senhor Presidente da República, Jair Bolsonaro, em cadeia de rádio e televisão</a>\n",
              " </h2>\n",
              " <div class=\"keywords\">\n",
              "               tags:\n",
              "               <span>\n",
              " <a class=\"link-category\" href=\"https://www.gov.br/planalto/@@search?Subject:list=Pronunciamento\" rel=\"nofollow tag\">Pronunciamento</a>\n",
              " </span>\n",
              " <span>\n",
              " <a class=\"link-category\" href=\"https://www.gov.br/planalto/@@search?Subject:list=Presidente\" rel=\"nofollow tag\">Presidente</a>\n",
              " </span>\n",
              " <span>\n",
              " <a class=\"link-category\" href=\"https://www.gov.br/planalto/@@search?Subject:list=Nova Previdência\" rel=\"nofollow tag\">Nova Previdência</a>\n",
              " </span>\n",
              " </div>\n",
              " </div>\n",
              " <span class=\"documentByLine\">\n",
              " <span class=\"hiddenStructure\">\n",
              "                         publicado\n",
              "                     </span>\n",
              " <span class=\"summary-view-icon\">\n",
              " <i class=\"icon-day\"></i>\n",
              "                         20/02/2019\n",
              "                     </span>\n",
              " <span class=\"summary-view-icon\">\n",
              " <i class=\"icon-hour\"></i>\n",
              "                         20h53\n",
              "                     </span>\n",
              " <span class=\"summary-view-icon\">\n",
              " <i class=\"icon-page\"></i>\n",
              "                         Página\n",
              "                     </span>\n",
              " <div class=\"visualClear\"><!-- --></div>\n",
              " </span>\n",
              " </article>, <article class=\"tileItem visualIEFloatFix tile-document\">\n",
              " <div class=\"tileContent\">\n",
              " <h2 class=\"tileHeadline\">\n",
              " <a class=\"summary url\" href=\"https://www.gov.br/planalto/pt-br/acompanhe-o-planalto/pronunciamentos/pronunciamentos-do-presidente-da-republica/pronunciamento-do-senhor-presidente-da-republica-jair-bolsonaro-em-cadeia-de-radio-e-televisao\" title=\"Document\">Pronunciamento do Senhor Presidente da República, Jair Bolsonaro, em cadeia de rádio e televisão</a>\n",
              " </h2>\n",
              " </div>\n",
              " <span class=\"documentByLine\">\n",
              " <span class=\"hiddenStructure\">\n",
              "                         publicado\n",
              "                     </span>\n",
              " <span class=\"summary-view-icon\">\n",
              " <i class=\"icon-day\"></i>\n",
              "                         24/04/2019\n",
              "                     </span>\n",
              " <span class=\"summary-view-icon\">\n",
              " <i class=\"icon-hour\"></i>\n",
              "                         21h35\n",
              "                     </span>\n",
              " <span class=\"summary-view-icon\">\n",
              " <i class=\"icon-page\"></i>\n",
              "                         Página\n",
              "                     </span>\n",
              " <div class=\"visualClear\"><!-- --></div>\n",
              " </span>\n",
              " </article>, <article class=\"tileItem visualIEFloatFix tile-document\">\n",
              " <div class=\"tileContent\">\n",
              " <h2 class=\"tileHeadline\">\n",
              " <a class=\"summary url\" href=\"https://www.gov.br/planalto/pt-br/acompanhe-o-planalto/pronunciamentos/pronunciamentos-do-presidente-da-republica/pronunciamento-do-senhor-presidente-da-republica-jair-bolsonaro-em-cadeia-de-radio-e-televisao-1\" title=\"Document\">Pronunciamento do Senhor Presidente da República, Jair Bolsonaro, em cadeia de rádio e televisão</a>\n",
              " </h2>\n",
              " <div class=\"keywords\">\n",
              "               tags:\n",
              "               <span>\n",
              " <a class=\"link-category\" href=\"https://www.gov.br/planalto/@@search?Subject:list=Pronunciamento\" rel=\"nofollow tag\">Pronunciamento</a>\n",
              " </span>\n",
              " <span>\n",
              " <a class=\"link-category\" href=\"https://www.gov.br/planalto/@@search?Subject:list=Presidente\" rel=\"nofollow tag\">Presidente</a>\n",
              " </span>\n",
              " <span>\n",
              " <a class=\"link-category\" href=\"https://www.gov.br/planalto/@@search?Subject:list=Dia do Trabalho\" rel=\"nofollow tag\">Dia do Trabalho</a>\n",
              " </span>\n",
              " </div>\n",
              " </div>\n",
              " <span class=\"documentByLine\">\n",
              " <span class=\"hiddenStructure\">\n",
              "                         publicado\n",
              "                     </span>\n",
              " <span class=\"summary-view-icon\">\n",
              " <i class=\"icon-day\"></i>\n",
              "                         01/05/2019\n",
              "                     </span>\n",
              " <span class=\"summary-view-icon\">\n",
              " <i class=\"icon-hour\"></i>\n",
              "                         21h45\n",
              "                     </span>\n",
              " <span class=\"summary-view-icon\">\n",
              " <i class=\"icon-page\"></i>\n",
              "                         Página\n",
              "                     </span>\n",
              " <div class=\"visualClear\"><!-- --></div>\n",
              " </span>\n",
              " </article>, <article class=\"tileItem visualIEFloatFix tile-document\">\n",
              " <div class=\"tileContent\">\n",
              " <h2 class=\"tileHeadline\">\n",
              " <a class=\"summary url\" href=\"https://www.gov.br/planalto/pt-br/acompanhe-o-planalto/pronunciamentos/pronunciamentos-do-presidente-da-republica/pronunciamento-do-senhor-do-presidente-da-republica-jair-bolsonaro-em-cadeia-de-radio-e-televisao-brasilia-df\" title=\"Document\">Pronunciamento do Senhor Presidente da República, Jair Bolsonaro, em cadeia de rádio e televisão</a>\n",
              " </h2>\n",
              " <div class=\"keywords\">\n",
              "               tags:\n",
              "               <span>\n",
              " <a class=\"link-category\" href=\"https://www.gov.br/planalto/@@search?Subject:list=Pronunciamento\" rel=\"nofollow tag\">Pronunciamento</a>\n",
              " </span>\n",
              " <span>\n",
              " <a class=\"link-category\" href=\"https://www.gov.br/planalto/@@search?Subject:list=Presidente\" rel=\"nofollow tag\">Presidente</a>\n",
              " </span>\n",
              " <span>\n",
              " <a class=\"link-category\" href=\"https://www.gov.br/planalto/@@search?Subject:list=Amazônia\" rel=\"nofollow tag\">Amazônia</a>\n",
              " </span>\n",
              " <span>\n",
              " <a class=\"link-category\" href=\"https://www.gov.br/planalto/@@search?Subject:list=Floresta Amazônica\" rel=\"nofollow tag\">Floresta Amazônica</a>\n",
              " </span>\n",
              " </div>\n",
              " </div>\n",
              " <span class=\"documentByLine\">\n",
              " <span class=\"hiddenStructure\">\n",
              "                         publicado\n",
              "                     </span>\n",
              " <span class=\"summary-view-icon\">\n",
              " <i class=\"icon-day\"></i>\n",
              "                         23/08/2019\n",
              "                     </span>\n",
              " <span class=\"summary-view-icon\">\n",
              " <i class=\"icon-hour\"></i>\n",
              "                         21h21\n",
              "                     </span>\n",
              " <span class=\"summary-view-icon\">\n",
              " <i class=\"icon-page\"></i>\n",
              "                         Página\n",
              "                     </span>\n",
              " <div class=\"visualClear\"><!-- --></div>\n",
              " </span>\n",
              " </article>, <article class=\"tileItem visualIEFloatFix tile-document\">\n",
              " <div class=\"tileContent\">\n",
              " <h2 class=\"tileHeadline\">\n",
              " <a class=\"summary url\" href=\"https://www.gov.br/planalto/pt-br/acompanhe-o-planalto/pronunciamentos/pronunciamentos-do-presidente-da-republica/pronunciamento-do-senhor-presidente-da-republica-jair-bolsonaro-em-cadeia-de-radio-e-televisao-2\" title=\"Document\">Pronunciamento do Senhor Presidente da República, Jair Bolsonaro, em cadeia de rádio e televisão</a>\n",
              " </h2>\n",
              " </div>\n",
              " <span class=\"documentByLine\">\n",
              " <span class=\"hiddenStructure\">\n",
              "                         publicado\n",
              "                     </span>\n",
              " <span class=\"summary-view-icon\">\n",
              " <i class=\"icon-day\"></i>\n",
              "                         24/12/2019\n",
              "                     </span>\n",
              " <span class=\"summary-view-icon\">\n",
              " <i class=\"icon-hour\"></i>\n",
              "                         21h43\n",
              "                     </span>\n",
              " <span class=\"summary-view-icon\">\n",
              " <i class=\"icon-page\"></i>\n",
              "                         Página\n",
              "                     </span>\n",
              " <div class=\"visualClear\"><!-- --></div>\n",
              " </span>\n",
              " </article>, <article class=\"tileItem visualIEFloatFix tile-collective-nitf-content\">\n",
              " <div class=\"tileContent\">\n",
              " <h2 class=\"tileHeadline\">\n",
              " <a class=\"summary url\" href=\"https://www.gov.br/planalto/pt-br/acompanhe-o-planalto/pronunciamentos/pronunciamentos-do-presidente-da-republica/pronunciamento-do-senhor-presidente-da-republica-jair-bolsonaro-em-cadeia-de-radio-e-televisao-3\" title=\"collective.nitf.content\">Pronunciamento do Senhor Presidente da República, Jair Bolsonaro, em cadeia de rádio e televisão</a>\n",
              " </h2>\n",
              " </div>\n",
              " <span class=\"documentByLine\">\n",
              " <span class=\"hiddenStructure\">\n",
              "                         publicado\n",
              "                     </span>\n",
              " <span class=\"summary-view-icon\">\n",
              " <i class=\"icon-day\"></i>\n",
              "                         06/03/2020\n",
              "                     </span>\n",
              " <span class=\"summary-view-icon\">\n",
              " <i class=\"icon-hour\"></i>\n",
              "                         21h00\n",
              "                     </span>\n",
              " <span class=\"summary-view-icon\">\n",
              " <i class=\"icon-news\"></i>\n",
              "                         Notícias\n",
              "                     </span>\n",
              " <div class=\"visualClear\"><!-- --></div>\n",
              " </span>\n",
              " </article>, <article class=\"tileItem visualIEFloatFix tile-document\">\n",
              " <div class=\"tileContent\">\n",
              " <h2 class=\"tileHeadline\">\n",
              " <a class=\"summary url\" href=\"https://www.gov.br/planalto/pt-br/acompanhe-o-planalto/pronunciamentos/pronunciamentos-do-presidente-da-republica/pronunciamento-do-senhor-presidente-da-republica-jair-bolsonaro-em-cadeia-de-radio-e-televisao-5\" title=\"Document\">Pronunciamento do Senhor Presidente da República, Jair Bolsonaro, em cadeia de rádio e televisão</a>\n",
              " </h2>\n",
              " <div class=\"keywords\">\n",
              "               tags:\n",
              "               <span>\n",
              " <a class=\"link-category\" href=\"https://www.gov.br/planalto/@@search?Subject:list=Pronunciamento \" rel=\"nofollow tag\">Pronunciamento </a>\n",
              " </span>\n",
              " </div>\n",
              " </div>\n",
              " <span class=\"documentByLine\">\n",
              " <span class=\"hiddenStructure\">\n",
              "                         publicado\n",
              "                     </span>\n",
              " <span class=\"summary-view-icon\">\n",
              " <i class=\"icon-day\"></i>\n",
              "                         12/03/2020\n",
              "                     </span>\n",
              " <span class=\"summary-view-icon\">\n",
              " <i class=\"icon-hour\"></i>\n",
              "                         22h48\n",
              "                     </span>\n",
              " <span class=\"summary-view-icon\">\n",
              " <i class=\"icon-page\"></i>\n",
              "                         Página\n",
              "                     </span>\n",
              " <div class=\"visualClear\"><!-- --></div>\n",
              " </span>\n",
              " </article>, <article class=\"tileItem visualIEFloatFix tile-document\">\n",
              " <div class=\"tileContent\">\n",
              " <h2 class=\"tileHeadline\">\n",
              " <a class=\"summary url\" href=\"https://www.gov.br/planalto/pt-br/acompanhe-o-planalto/pronunciamentos/pronunciamentos-do-presidente-da-republica/pronunciamento-em-cadeia-de-radio-e-televisao-do-senhor-presidente-da-republica-jair-bolsonaro\" title=\"Document\">Pronunciamento do Senhor Presidente da República, Jair Bolsonaro, em cadeia de rádio e televisão</a>\n",
              " </h2>\n",
              " <div class=\"keywords\">\n",
              "               tags:\n",
              "               <span>\n",
              " <a class=\"link-category\" href=\"https://www.gov.br/planalto/@@search?Subject:list=Pronunciamento\" rel=\"nofollow tag\">Pronunciamento</a>\n",
              " </span>\n",
              " <span>\n",
              " <a class=\"link-category\" href=\"https://www.gov.br/planalto/@@search?Subject:list=Presidente\" rel=\"nofollow tag\">Presidente</a>\n",
              " </span>\n",
              " </div>\n",
              " </div>\n",
              " <span class=\"documentByLine\">\n",
              " <span class=\"hiddenStructure\">\n",
              "                         publicado\n",
              "                     </span>\n",
              " <span class=\"summary-view-icon\">\n",
              " <i class=\"icon-day\"></i>\n",
              "                         24/03/2020\n",
              "                     </span>\n",
              " <span class=\"summary-view-icon\">\n",
              " <i class=\"icon-hour\"></i>\n",
              "                         21h25\n",
              "                     </span>\n",
              " <span class=\"summary-view-icon\">\n",
              " <i class=\"icon-page\"></i>\n",
              "                         Página\n",
              "                     </span>\n",
              " <div class=\"visualClear\"><!-- --></div>\n",
              " </span>\n",
              " </article>, <article class=\"tileItem visualIEFloatFix tile-document\">\n",
              " <div class=\"tileContent\">\n",
              " <h2 class=\"tileHeadline\">\n",
              " <a class=\"summary url\" href=\"https://www.gov.br/planalto/pt-br/acompanhe-o-planalto/pronunciamentos/pronunciamentos-do-presidente-da-republica/pronunciamento-em-cadeia-de-radio-e-televisao-do-senhor-presidente-da-republica-jair-bolsonaro-1\" title=\"Document\">Pronunciamento do Senhor Presidente da República, Jair Bolsonaro, em cadeia de rádio e televisão</a>\n",
              " </h2>\n",
              " <div class=\"keywords\">\n",
              "               tags:\n",
              "               <span>\n",
              " <a class=\"link-category\" href=\"https://www.gov.br/planalto/@@search?Subject:list=pronunciamento\" rel=\"nofollow tag\">pronunciamento</a>\n",
              " </span>\n",
              " <span>\n",
              " <a class=\"link-category\" href=\"https://www.gov.br/planalto/@@search?Subject:list=Jair Bolsonaro\" rel=\"nofollow tag\">Jair Bolsonaro</a>\n",
              " </span>\n",
              " </div>\n",
              " </div>\n",
              " <span class=\"documentByLine\">\n",
              " <span class=\"hiddenStructure\">\n",
              "                         publicado\n",
              "                     </span>\n",
              " <span class=\"summary-view-icon\">\n",
              " <i class=\"icon-day\"></i>\n",
              "                         31/03/2020\n",
              "                     </span>\n",
              " <span class=\"summary-view-icon\">\n",
              " <i class=\"icon-hour\"></i>\n",
              "                         21h07\n",
              "                     </span>\n",
              " <span class=\"summary-view-icon\">\n",
              " <i class=\"icon-page\"></i>\n",
              "                         Página\n",
              "                     </span>\n",
              " <div class=\"visualClear\"><!-- --></div>\n",
              " </span>\n",
              " </article>, <article class=\"tileItem visualIEFloatFix tile-document\">\n",
              " <div class=\"tileContent\">\n",
              " <h2 class=\"tileHeadline\">\n",
              " <a class=\"summary url\" href=\"https://www.gov.br/planalto/pt-br/acompanhe-o-planalto/pronunciamentos/pronunciamentos-do-presidente-da-republica/pronunciamento-do-senhor-presidente-da-republica-jair-bolsonaro-em-cadeia-de-radio-e-televisao-4\" title=\"Document\">Pronunciamento do Senhor Presidente da República, Jair Bolsonaro, em cadeia de rádio e televisão</a>\n",
              " </h2>\n",
              " <div class=\"keywords\">\n",
              "               tags:\n",
              "               <span>\n",
              " <a class=\"link-category\" href=\"https://www.gov.br/planalto/@@search?Subject:list=Pronunciamento \" rel=\"nofollow tag\">Pronunciamento </a>\n",
              " </span>\n",
              " <span>\n",
              " <a class=\"link-category\" href=\"https://www.gov.br/planalto/@@search?Subject:list=Coronavírus\" rel=\"nofollow tag\">Coronavírus</a>\n",
              " </span>\n",
              " </div>\n",
              " </div>\n",
              " <span class=\"documentByLine\">\n",
              " <span class=\"hiddenStructure\">\n",
              "                         publicado\n",
              "                     </span>\n",
              " <span class=\"summary-view-icon\">\n",
              " <i class=\"icon-day\"></i>\n",
              "                         08/04/2020\n",
              "                     </span>\n",
              " <span class=\"summary-view-icon\">\n",
              " <i class=\"icon-hour\"></i>\n",
              "                         20h35\n",
              "                     </span>\n",
              " <span class=\"summary-view-icon\">\n",
              " <i class=\"icon-page\"></i>\n",
              "                         Página\n",
              "                     </span>\n",
              " <div class=\"visualClear\"><!-- --></div>\n",
              " </span>\n",
              " </article>, <article class=\"tileItem visualIEFloatFix tile-document\">\n",
              " <div class=\"tileContent\">\n",
              " <h2 class=\"tileHeadline\">\n",
              " <a class=\"summary url\" href=\"https://www.gov.br/planalto/pt-br/acompanhe-o-planalto/pronunciamentos/pronunciamentos-do-presidente-da-republica/pronunciamento-do-senhor-presidente-da-republica-jair-bolsonaro-para-anuncio-do-novo-ministro-da-saude-palacio-do-planalto\" title=\"Document\">Pronunciamento do Senhor Presidente da República, Jair Bolsonaro, para anúncio do novo Ministro da Saúde - Palácio do Planalto</a>\n",
              " </h2>\n",
              " <div class=\"keywords\">\n",
              "               tags:\n",
              "               <span>\n",
              " <a class=\"link-category\" href=\"https://www.gov.br/planalto/@@search?Subject:list=Pronunciamento\" rel=\"nofollow tag\">Pronunciamento</a>\n",
              " </span>\n",
              " <span>\n",
              " <a class=\"link-category\" href=\"https://www.gov.br/planalto/@@search?Subject:list=Presidente\" rel=\"nofollow tag\">Presidente</a>\n",
              " </span>\n",
              " <span>\n",
              " <a class=\"link-category\" href=\"https://www.gov.br/planalto/@@search?Subject:list=Ministro da Saúde\" rel=\"nofollow tag\">Ministro da Saúde</a>\n",
              " </span>\n",
              " </div>\n",
              " </div>\n",
              " <span class=\"documentByLine\">\n",
              " <span class=\"hiddenStructure\">\n",
              "                         publicado\n",
              "                     </span>\n",
              " <span class=\"summary-view-icon\">\n",
              " <i class=\"icon-day\"></i>\n",
              "                         16/04/2020\n",
              "                     </span>\n",
              " <span class=\"summary-view-icon\">\n",
              " <i class=\"icon-hour\"></i>\n",
              "                         20h03\n",
              "                     </span>\n",
              " <span class=\"summary-view-icon\">\n",
              " <i class=\"icon-page\"></i>\n",
              "                         Página\n",
              "                     </span>\n",
              " <div class=\"visualClear\"><!-- --></div>\n",
              " </span>\n",
              " </article>, <article class=\"tileItem visualIEFloatFix tile-document\">\n",
              " <div class=\"tileContent\">\n",
              " <h2 class=\"tileHeadline\">\n",
              " <a class=\"summary url\" href=\"https://www.gov.br/planalto/pt-br/acompanhe-o-planalto/pronunciamentos/pronunciamentos-do-presidente-da-republica/declaracao-a-imprensa-do-presidente-da-republica-jair-bolsonaro-palacio-da-alvorada\" title=\"Document\">Declaração à imprensa do Presidente da República, Jair Bolsonaro - Palácio da Alvorada</a>\n",
              " </h2>\n",
              " <div class=\"keywords\">\n",
              "               tags:\n",
              "               <span>\n",
              " <a class=\"link-category\" href=\"https://www.gov.br/planalto/@@search?Subject:list=Declaração à imprensa\" rel=\"nofollow tag\">Declaração à imprensa</a>\n",
              " </span>\n",
              " <span>\n",
              " <a class=\"link-category\" href=\"https://www.gov.br/planalto/@@search?Subject:list=Presidente\" rel=\"nofollow tag\">Presidente</a>\n",
              " </span>\n",
              " </div>\n",
              " </div>\n",
              " <span class=\"documentByLine\">\n",
              " <span class=\"hiddenStructure\">\n",
              "                         publicado\n",
              "                     </span>\n",
              " <span class=\"summary-view-icon\">\n",
              " <i class=\"icon-day\"></i>\n",
              "                         12/08/2020\n",
              "                     </span>\n",
              " <span class=\"summary-view-icon\">\n",
              " <i class=\"icon-hour\"></i>\n",
              "                         20h00\n",
              "                     </span>\n",
              " <span class=\"summary-view-icon\">\n",
              " <i class=\"icon-page\"></i>\n",
              "                         Página\n",
              "                     </span>\n",
              " <div class=\"visualClear\"><!-- --></div>\n",
              " </span>\n",
              " </article>, <article class=\"tileItem visualIEFloatFix tile-document\">\n",
              " <div class=\"tileContent\">\n",
              " <h2 class=\"tileHeadline\">\n",
              " <a class=\"summary url\" href=\"https://www.gov.br/planalto/pt-br/acompanhe-o-planalto/pronunciamentos/pronunciamentos-do-presidente-da-republica/declaracao-a-imprensa-do-presidente-da-republica-jair-bolsonaro-palacio-da-alvorada-1\" title=\"Document\">Declaração à Imprensa do Presidente da República, Jair Bolsonaro - Palácio da Alvorada</a>\n",
              " </h2>\n",
              " </div>\n",
              " <span class=\"documentByLine\">\n",
              " <span class=\"hiddenStructure\">\n",
              "                         publicado\n",
              "                     </span>\n",
              " <span class=\"summary-view-icon\">\n",
              " <i class=\"icon-day\"></i>\n",
              "                         01/09/2020\n",
              "                     </span>\n",
              " <span class=\"summary-view-icon\">\n",
              " <i class=\"icon-hour\"></i>\n",
              "                         11h33\n",
              "                     </span>\n",
              " <span class=\"summary-view-icon\">\n",
              " <i class=\"icon-page\"></i>\n",
              "                         Página\n",
              "                     </span>\n",
              " <div class=\"visualClear\"><!-- --></div>\n",
              " </span>\n",
              " </article>, <article class=\"tileItem visualIEFloatFix tile-document\">\n",
              " <div class=\"tileContent\">\n",
              " <h2 class=\"tileHeadline\">\n",
              " <a class=\"summary url\" href=\"https://www.gov.br/planalto/pt-br/acompanhe-o-planalto/pronunciamentos/pronunciamentos-do-presidente-da-republica/pronunciamento-do-senhor-presidente-da-republica-jair-bolsonaro\" title=\"Document\">Pronunciamento do senhor Presidente da República, Jair Bolsonaro</a>\n",
              " </h2>\n",
              " </div>\n",
              " <span class=\"documentByLine\">\n",
              " <span class=\"hiddenStructure\">\n",
              "                         publicado\n",
              "                     </span>\n",
              " <span class=\"summary-view-icon\">\n",
              " <i class=\"icon-day\"></i>\n",
              "                         05/02/2021\n",
              "                     </span>\n",
              " <span class=\"summary-view-icon\">\n",
              " <i class=\"icon-hour\"></i>\n",
              "                         14h58\n",
              "                     </span>\n",
              " <span class=\"summary-view-icon\">\n",
              " <i class=\"icon-page\"></i>\n",
              "                         Página\n",
              "                     </span>\n",
              " <div class=\"visualClear\"><!-- --></div>\n",
              " </span>\n",
              " </article>, <article class=\"tileItem visualIEFloatFix tile-collective-nitf-content\">\n",
              " <div class=\"tileContent\">\n",
              " <h2 class=\"tileHeadline\">\n",
              " <a class=\"summary url\" href=\"https://www.gov.br/planalto/pt-br/acompanhe-o-planalto/pronunciamentos/pronunciamentos-do-presidente-da-republica/pronunciamento-do-ppresidente-jair-bolsonaro-2013-07-09-2020\" title=\"collective.nitf.content\">Pronunciamento do Senhor Presidente da República, Jair Bolsonaro, em cadeia nacional de rádio e televisão  - 07/09/2020</a>\n",
              " </h2>\n",
              " <div class=\"keywords\">\n",
              "               tags:\n",
              "               <span>\n",
              " <a class=\"link-category\" href=\"https://www.gov.br/planalto/@@search?Subject:list=Pronunciamento \" rel=\"nofollow tag\">Pronunciamento </a>\n",
              " </span>\n",
              " <span>\n",
              " <a class=\"link-category\" href=\"https://www.gov.br/planalto/@@search?Subject:list=Independência do Brasil \" rel=\"nofollow tag\">Independência do Brasil </a>\n",
              " </span>\n",
              " <span>\n",
              " <a class=\"link-category\" href=\"https://www.gov.br/planalto/@@search?Subject:list=Presidente Jair Bolsonaro \" rel=\"nofollow tag\">Presidente Jair Bolsonaro </a>\n",
              " </span>\n",
              " </div>\n",
              " </div>\n",
              " <span class=\"documentByLine\">\n",
              " <span class=\"hiddenStructure\">\n",
              "                         publicado\n",
              "                     </span>\n",
              " <span class=\"summary-view-icon\">\n",
              " <i class=\"icon-day\"></i>\n",
              "                         07/09/2020\n",
              "                     </span>\n",
              " <span class=\"summary-view-icon\">\n",
              " <i class=\"icon-hour\"></i>\n",
              "                         20h07\n",
              "                     </span>\n",
              " <span class=\"summary-view-icon\">\n",
              " <i class=\"icon-news\"></i>\n",
              "                         Notícias\n",
              "                     </span>\n",
              " <div class=\"visualClear\"><!-- --></div>\n",
              " </span>\n",
              " </article>, <article class=\"tileItem visualIEFloatFix tile-document\">\n",
              " <div class=\"tileContent\">\n",
              " <h2 class=\"tileHeadline\">\n",
              " <a class=\"summary url\" href=\"https://www.gov.br/planalto/pt-br/acompanhe-o-planalto/pronunciamentos/pronunciamentos-do-presidente-da-republica/pronunciamento-do-senhor-presidente-da-republica-jair-bolsonaro-em-cadeia-nacional-de-radio-e-televisao-24-12-2020\" title=\"Document\">Pronunciamento do Senhor Presidente da República, Jair Bolsonaro, em cadeia nacional de rádio e televisão - 24/12/2020</a>\n",
              " </h2>\n",
              " </div>\n",
              " <span class=\"documentByLine\">\n",
              " <span class=\"hiddenStructure\">\n",
              "                         publicado\n",
              "                     </span>\n",
              " <span class=\"summary-view-icon\">\n",
              " <i class=\"icon-day\"></i>\n",
              "                         24/12/2020\n",
              "                     </span>\n",
              " <span class=\"summary-view-icon\">\n",
              " <i class=\"icon-hour\"></i>\n",
              "                         20h30\n",
              "                     </span>\n",
              " <span class=\"summary-view-icon\">\n",
              " <i class=\"icon-page\"></i>\n",
              "                         Página\n",
              "                     </span>\n",
              " <div class=\"visualClear\"><!-- --></div>\n",
              " </span>\n",
              " </article>, <article class=\"tileItem visualIEFloatFix tile-document\">\n",
              " <div class=\"tileContent\">\n",
              " <h2 class=\"tileHeadline\">\n",
              " <a class=\"summary url\" href=\"https://www.gov.br/planalto/pt-br/acompanhe-o-planalto/pronunciamentos/pronunciamentos-do-presidente-da-republica/pronunciamento-do-senhor-presidente-da-republica-jair-bolsonaro-em-cadeia-nacional-de-radio-e-televisao-23-03-2021\" title=\"Document\">Pronunciamento do Senhor Presidente da República, Jair Bolsonaro, em cadeia nacional de rádio e televisão - 23/03/2021</a>\n",
              " </h2>\n",
              " </div>\n",
              " <span class=\"documentByLine\">\n",
              " <span class=\"hiddenStructure\">\n",
              "                         publicado\n",
              "                     </span>\n",
              " <span class=\"summary-view-icon\">\n",
              " <i class=\"icon-day\"></i>\n",
              "                         23/03/2021\n",
              "                     </span>\n",
              " <span class=\"summary-view-icon\">\n",
              " <i class=\"icon-hour\"></i>\n",
              "                         20h34\n",
              "                     </span>\n",
              " <span class=\"summary-view-icon\">\n",
              " <i class=\"icon-page\"></i>\n",
              "                         Página\n",
              "                     </span>\n",
              " <div class=\"visualClear\"><!-- --></div>\n",
              " </span>\n",
              " </article>]"
            ]
          },
          "metadata": {
            "tags": []
          },
          "execution_count": 40
        }
      ]
    },
    {
      "cell_type": "code",
      "metadata": {
        "colab": {
          "base_uri": "https://localhost:8080/"
        },
        "id": "Dq4nI1mO-Hcy",
        "outputId": "f652bb59-b92d-42f5-9440-738c0f63e438"
      },
      "source": [
        "len(articles)"
      ],
      "execution_count": 41,
      "outputs": [
        {
          "output_type": "execute_result",
          "data": {
            "text/plain": [
              "17"
            ]
          },
          "metadata": {
            "tags": []
          },
          "execution_count": 41
        }
      ]
    },
    {
      "cell_type": "code",
      "metadata": {
        "id": "XuA9UXGU-LB5"
      },
      "source": [
        "article = articles[0]"
      ],
      "execution_count": 42,
      "outputs": []
    },
    {
      "cell_type": "code",
      "metadata": {
        "colab": {
          "base_uri": "https://localhost:8080/"
        },
        "id": "PV1DEqx6-TLf",
        "outputId": "8042713f-48ee-42e2-9ee5-a020efeca734"
      },
      "source": [
        "article"
      ],
      "execution_count": 43,
      "outputs": [
        {
          "output_type": "execute_result",
          "data": {
            "text/plain": [
              "<article class=\"tileItem visualIEFloatFix tile-document\">\n",
              "<div class=\"tileContent\">\n",
              "<h2 class=\"tileHeadline\">\n",
              "<a class=\"summary url\" href=\"https://www.gov.br/planalto/pt-br/acompanhe-o-planalto/pronunciamentos/pronunciamentos-do-presidente-da-republica/pronunciamento-do-presidente-da-republica-jair-bolsonaro-em-cadeia-de-radio-e-televisao-brasilia-df\" title=\"Document\">Pronunciamento do Senhor Presidente da República, Jair Bolsonaro, em cadeia de rádio e televisão</a>\n",
              "</h2>\n",
              "<div class=\"keywords\">\n",
              "              tags:\n",
              "              <span>\n",
              "<a class=\"link-category\" href=\"https://www.gov.br/planalto/@@search?Subject:list=Pronunciamento\" rel=\"nofollow tag\">Pronunciamento</a>\n",
              "</span>\n",
              "<span>\n",
              "<a class=\"link-category\" href=\"https://www.gov.br/planalto/@@search?Subject:list=Presidente\" rel=\"nofollow tag\">Presidente</a>\n",
              "</span>\n",
              "<span>\n",
              "<a class=\"link-category\" href=\"https://www.gov.br/planalto/@@search?Subject:list=Nova Previdência\" rel=\"nofollow tag\">Nova Previdência</a>\n",
              "</span>\n",
              "</div>\n",
              "</div>\n",
              "<span class=\"documentByLine\">\n",
              "<span class=\"hiddenStructure\">\n",
              "                        publicado\n",
              "                    </span>\n",
              "<span class=\"summary-view-icon\">\n",
              "<i class=\"icon-day\"></i>\n",
              "                        20/02/2019\n",
              "                    </span>\n",
              "<span class=\"summary-view-icon\">\n",
              "<i class=\"icon-hour\"></i>\n",
              "                        20h53\n",
              "                    </span>\n",
              "<span class=\"summary-view-icon\">\n",
              "<i class=\"icon-page\"></i>\n",
              "                        Página\n",
              "                    </span>\n",
              "<div class=\"visualClear\"><!-- --></div>\n",
              "</span>\n",
              "</article>"
            ]
          },
          "metadata": {
            "tags": []
          },
          "execution_count": 43
        }
      ]
    },
    {
      "cell_type": "code",
      "metadata": {
        "id": "bElmlK8A-pka"
      },
      "source": [
        "article = articles[0]\n",
        "url = article.find(class_=\"summary url\")\n",
        "tags = article.find_all(rel=\"tag\")\n",
        "datetime = article.find_all(class_=\"summary-view-icon\")"
      ],
      "execution_count": 44,
      "outputs": []
    },
    {
      "cell_type": "code",
      "metadata": {
        "colab": {
          "base_uri": "https://localhost:8080/"
        },
        "id": "SVrYuhcZ-rJU",
        "outputId": "22cf9e38-a258-4127-8366-da6bb1f42021"
      },
      "source": [
        "url"
      ],
      "execution_count": 45,
      "outputs": [
        {
          "output_type": "execute_result",
          "data": {
            "text/plain": [
              "<a class=\"summary url\" href=\"https://www.gov.br/planalto/pt-br/acompanhe-o-planalto/pronunciamentos/pronunciamentos-do-presidente-da-republica/pronunciamento-do-presidente-da-republica-jair-bolsonaro-em-cadeia-de-radio-e-televisao-brasilia-df\" title=\"Document\">Pronunciamento do Senhor Presidente da República, Jair Bolsonaro, em cadeia de rádio e televisão</a>"
            ]
          },
          "metadata": {
            "tags": []
          },
          "execution_count": 45
        }
      ]
    },
    {
      "cell_type": "code",
      "metadata": {
        "colab": {
          "base_uri": "https://localhost:8080/",
          "height": 73
        },
        "id": "Z_lBL1A9_O5T",
        "outputId": "34881d46-f96c-4217-bbfe-0c05a8aa5d0c"
      },
      "source": [
        "url[\"href\"]"
      ],
      "execution_count": 46,
      "outputs": [
        {
          "output_type": "execute_result",
          "data": {
            "application/vnd.google.colaboratory.intrinsic+json": {
              "type": "string"
            },
            "text/plain": [
              "'https://www.gov.br/planalto/pt-br/acompanhe-o-planalto/pronunciamentos/pronunciamentos-do-presidente-da-republica/pronunciamento-do-presidente-da-republica-jair-bolsonaro-em-cadeia-de-radio-e-televisao-brasilia-df'"
            ]
          },
          "metadata": {
            "tags": []
          },
          "execution_count": 46
        }
      ]
    },
    {
      "cell_type": "code",
      "metadata": {
        "colab": {
          "base_uri": "https://localhost:8080/"
        },
        "id": "IbSVmPNy_WMM",
        "outputId": "4723107a-e2ae-42e9-c4c7-a9f0de4a6dde"
      },
      "source": [
        "tags"
      ],
      "execution_count": 47,
      "outputs": [
        {
          "output_type": "execute_result",
          "data": {
            "text/plain": [
              "[<a class=\"link-category\" href=\"https://www.gov.br/planalto/@@search?Subject:list=Pronunciamento\" rel=\"nofollow tag\">Pronunciamento</a>,\n",
              " <a class=\"link-category\" href=\"https://www.gov.br/planalto/@@search?Subject:list=Presidente\" rel=\"nofollow tag\">Presidente</a>,\n",
              " <a class=\"link-category\" href=\"https://www.gov.br/planalto/@@search?Subject:list=Nova Previdência\" rel=\"nofollow tag\">Nova Previdência</a>]"
            ]
          },
          "metadata": {
            "tags": []
          },
          "execution_count": 47
        }
      ]
    },
    {
      "cell_type": "code",
      "metadata": {
        "colab": {
          "base_uri": "https://localhost:8080/"
        },
        "id": "H-48VnJdBA9k",
        "outputId": "a5815c39-327b-464b-a4d3-0b102b44a401"
      },
      "source": [
        "tags = [t.text for t in tags]\n",
        "tags"
      ],
      "execution_count": 48,
      "outputs": [
        {
          "output_type": "execute_result",
          "data": {
            "text/plain": [
              "['Pronunciamento', 'Presidente', 'Nova Previdência']"
            ]
          },
          "metadata": {
            "tags": []
          },
          "execution_count": 48
        }
      ]
    },
    {
      "cell_type": "code",
      "metadata": {
        "colab": {
          "base_uri": "https://localhost:8080/"
        },
        "id": "BMg2YN6jBRjB",
        "outputId": "54091ea9-2146-4129-e427-48f921438715"
      },
      "source": [
        "datetime"
      ],
      "execution_count": 49,
      "outputs": [
        {
          "output_type": "execute_result",
          "data": {
            "text/plain": [
              "[<span class=\"summary-view-icon\">\n",
              " <i class=\"icon-day\"></i>\n",
              "                         20/02/2019\n",
              "                     </span>, <span class=\"summary-view-icon\">\n",
              " <i class=\"icon-hour\"></i>\n",
              "                         20h53\n",
              "                     </span>, <span class=\"summary-view-icon\">\n",
              " <i class=\"icon-page\"></i>\n",
              "                         Página\n",
              "                     </span>]"
            ]
          },
          "metadata": {
            "tags": []
          },
          "execution_count": 49
        }
      ]
    },
    {
      "cell_type": "code",
      "metadata": {
        "colab": {
          "base_uri": "https://localhost:8080/",
          "height": 36
        },
        "id": "IimbvMmXCzt1",
        "outputId": "22dee029-e83e-4754-be08-5bc641c1a236"
      },
      "source": [
        "datetime[0].text.strip()"
      ],
      "execution_count": 50,
      "outputs": [
        {
          "output_type": "execute_result",
          "data": {
            "application/vnd.google.colaboratory.intrinsic+json": {
              "type": "string"
            },
            "text/plain": [
              "'20/02/2019'"
            ]
          },
          "metadata": {
            "tags": []
          },
          "execution_count": 50
        }
      ]
    },
    {
      "cell_type": "code",
      "metadata": {
        "colab": {
          "base_uri": "https://localhost:8080/"
        },
        "id": "lG5lI6pOC6cs",
        "outputId": "05a61515-1822-4a08-f4ff-ee270f5f0bd1"
      },
      "source": [
        "date = datetime[0].text.strip()\n",
        "time = datetime[1].text.strip()\n",
        "(date, time)"
      ],
      "execution_count": 51,
      "outputs": [
        {
          "output_type": "execute_result",
          "data": {
            "text/plain": [
              "('20/02/2019', '20h53')"
            ]
          },
          "metadata": {
            "tags": []
          },
          "execution_count": 51
        }
      ]
    },
    {
      "cell_type": "code",
      "metadata": {
        "id": "_jxNsSZbDH0i"
      },
      "source": [
        "def canonical_date(datestr):\n",
        "  return \"\".join(reversed(datestr.split(\"/\")))"
      ],
      "execution_count": 52,
      "outputs": []
    },
    {
      "cell_type": "code",
      "metadata": {
        "colab": {
          "base_uri": "https://localhost:8080/",
          "height": 36
        },
        "id": "edg3se87DhQq",
        "outputId": "6397ad56-c6fa-4899-b4da-78381e5633ef"
      },
      "source": [
        "canonical_date(date)"
      ],
      "execution_count": 53,
      "outputs": [
        {
          "output_type": "execute_result",
          "data": {
            "application/vnd.google.colaboratory.intrinsic+json": {
              "type": "string"
            },
            "text/plain": [
              "'20190220'"
            ]
          },
          "metadata": {
            "tags": []
          },
          "execution_count": 53
        }
      ]
    },
    {
      "cell_type": "markdown",
      "metadata": {
        "id": "hiEMdZHBEfCj"
      },
      "source": [
        "Organizando o código até aqui em uma classe:"
      ]
    },
    {
      "cell_type": "code",
      "metadata": {
        "id": "48DCXYY4DrZ6"
      },
      "source": [
        "class Pronouncement:\n",
        "  def __init__(self, bs_article=None):\n",
        "\n",
        "    self.url = bs_article.find(class_=\"summary url\")[\"href\"]\n",
        "    self.tags = [t.text for t in bs_article.find_all(rel=\"tag\")]\n",
        "    \n",
        "    datetime = article.find_all(class_=\"summary-view-icon\")\n",
        "    self.date = canonical_date(datetime[0].text.strip())\n",
        "    self.time = time = datetime[1].text.strip()\n",
        "  \n",
        "    self.text = self._extract_text()\n",
        "\n",
        "  def _extract_text(self):\n",
        "    return \"Teste\""
      ],
      "execution_count": 56,
      "outputs": []
    },
    {
      "cell_type": "code",
      "metadata": {
        "id": "SvKqs9SoFSPk"
      },
      "source": [
        "p = Pronouncement(article)"
      ],
      "execution_count": 57,
      "outputs": []
    },
    {
      "cell_type": "code",
      "metadata": {
        "colab": {
          "base_uri": "https://localhost:8080/",
          "height": 73
        },
        "id": "1k6LtgA7FrB4",
        "outputId": "c7280dae-6246-4df5-e3cc-40b4109f9e93"
      },
      "source": [
        "p.url"
      ],
      "execution_count": 58,
      "outputs": [
        {
          "output_type": "execute_result",
          "data": {
            "application/vnd.google.colaboratory.intrinsic+json": {
              "type": "string"
            },
            "text/plain": [
              "'https://www.gov.br/planalto/pt-br/acompanhe-o-planalto/pronunciamentos/pronunciamentos-do-presidente-da-republica/pronunciamento-do-presidente-da-republica-jair-bolsonaro-em-cadeia-de-radio-e-televisao-brasilia-df'"
            ]
          },
          "metadata": {
            "tags": []
          },
          "execution_count": 58
        }
      ]
    },
    {
      "cell_type": "code",
      "metadata": {
        "colab": {
          "base_uri": "https://localhost:8080/",
          "height": 36
        },
        "id": "yii6IkjwFs_u",
        "outputId": "ecacf7c7-a158-493a-a471-a74da080bd61"
      },
      "source": [
        "p.date"
      ],
      "execution_count": 59,
      "outputs": [
        {
          "output_type": "execute_result",
          "data": {
            "application/vnd.google.colaboratory.intrinsic+json": {
              "type": "string"
            },
            "text/plain": [
              "'20190220'"
            ]
          },
          "metadata": {
            "tags": []
          },
          "execution_count": 59
        }
      ]
    },
    {
      "cell_type": "code",
      "metadata": {
        "colab": {
          "base_uri": "https://localhost:8080/",
          "height": 36
        },
        "id": "aaoSQFZiFuvc",
        "outputId": "595db17f-4f2c-4e91-a5f1-dee4f3f50dff"
      },
      "source": [
        "p.time"
      ],
      "execution_count": 61,
      "outputs": [
        {
          "output_type": "execute_result",
          "data": {
            "application/vnd.google.colaboratory.intrinsic+json": {
              "type": "string"
            },
            "text/plain": [
              "'20h53'"
            ]
          },
          "metadata": {
            "tags": []
          },
          "execution_count": 61
        }
      ]
    },
    {
      "cell_type": "code",
      "metadata": {
        "colab": {
          "base_uri": "https://localhost:8080/"
        },
        "id": "8eMR8daYFxix",
        "outputId": "a5fb729a-dd62-4f1b-a831-12fbc4427036"
      },
      "source": [
        "p.tags"
      ],
      "execution_count": 62,
      "outputs": [
        {
          "output_type": "execute_result",
          "data": {
            "text/plain": [
              "['Pronunciamento', 'Presidente', 'Nova Previdência']"
            ]
          },
          "metadata": {
            "tags": []
          },
          "execution_count": 62
        }
      ]
    },
    {
      "cell_type": "code",
      "metadata": {
        "colab": {
          "base_uri": "https://localhost:8080/",
          "height": 36
        },
        "id": "RAFGrp1cGtcx",
        "outputId": "b345bd2a-6ff5-4879-cb7e-f5626a9d424d"
      },
      "source": [
        "p.text"
      ],
      "execution_count": 65,
      "outputs": [
        {
          "output_type": "execute_result",
          "data": {
            "application/vnd.google.colaboratory.intrinsic+json": {
              "type": "string"
            },
            "text/plain": [
              "'Teste'"
            ]
          },
          "metadata": {
            "tags": []
          },
          "execution_count": 65
        }
      ]
    },
    {
      "cell_type": "code",
      "metadata": {
        "id": "8kKN2ySaF3sh"
      },
      "source": [
        "class Pronouncement:\n",
        "  def __init__(self, bs_article=None):\n",
        "\n",
        "    self.url = bs_article.find(class_=\"summary url\")[\"href\"]\n",
        "    self.tags = [t.text for t in bs_article.find_all(rel=\"tag\")]\n",
        "    \n",
        "    datetime = article.find_all(class_=\"summary-view-icon\")\n",
        "    self.date = canonical_date(datetime[0].text.strip())\n",
        "    self.time = time = datetime[1].text.strip()\n",
        "  \n",
        "    self.text = self._extract_text()\n",
        "\n",
        "  def _extract_text(self):\n",
        "    r = requests.get(self.url)\n",
        "    bs = BeautifulSoup(r.text)\n",
        "    return bs.find(id=\"parent-fieldname-text\").text.strip()"
      ],
      "execution_count": 67,
      "outputs": []
    },
    {
      "cell_type": "code",
      "metadata": {
        "id": "ItkuW4qdGh3n"
      },
      "source": [
        "p2 = Pronouncement(article)"
      ],
      "execution_count": 68,
      "outputs": []
    },
    {
      "cell_type": "code",
      "metadata": {
        "colab": {
          "base_uri": "https://localhost:8080/",
          "height": 204
        },
        "id": "G-Z6Ovc7G22j",
        "outputId": "1424b0a2-ca7b-4d56-ec88-a3793818bc57"
      },
      "source": [
        "p2.text"
      ],
      "execution_count": 69,
      "outputs": [
        {
          "output_type": "execute_result",
          "data": {
            "application/vnd.google.colaboratory.intrinsic+json": {
              "type": "string"
            },
            "text/plain": [
              "'Brasília/DF, 20 de fevereiro de 2019\\n\\xa0\\n\\xa0\\xa0\\xa0\\xa0\\xa0\\xa0\\xa0\\xa0\\xa0 Boa noite. Estamos determinados a mudar o rumo do nosso País. Nosso objetivos são claros: resgatar nossa segurança, fazer a economia crescer e servir a quem realmente manda no País: a população brasileira.\\n\\xa0\\xa0\\xa0\\xa0\\xa0\\xa0\\xa0\\xa0\\xa0 Sendo assim, ontem encaminhamos ao Congresso um pacote anticrime e hoje iniciamos o processo de criação de uma nova Previdência.\\n\\xa0\\xa0\\xa0\\xa0\\xa0\\xa0\\xa0\\xa0\\xa0 É fundamental equilibrarmos as contas do País para que o sistema não quebre, como já aconteceu com outros países e alguns estados brasileiros. Precisamos garantir que hoje e sempre todos receberão seus benefícios em dia e o governo tenha recursos para ampliar investimentos na melhoria de vida da população e na geração de empregos.\\n\\xa0\\xa0\\xa0\\xa0\\xa0\\xa0\\xa0\\xa0\\xa0 A nova Previdência será justa para todos, sem privilégios. Ricos e pobres, servidores públicos, políticos ou trabalhadores privados, todos seguirão as mesmas regras de idade e tempo de contribuição.\\n\\xa0\\xa0\\xa0\\xa0\\xa0\\xa0\\xa0\\xa0\\xa0 Também haverá a reforma do sistema de proteção social dos militares. Respeitaremos as diferenças, mas não excluiremos ninguém, e com justiça: quem ganha mais contribuirá com mais, quem ganha menos contribuirá com menos ainda.\\n\\xa0\\xa0\\xa0\\xa0\\xa0\\xa0\\xa0\\xa0\\xa0 Quero lembrar que hoje os homens mais pobres já se aposentam aos 65 anos e as mulheres aos 60. Enquanto isso, os mais ricos se aposentam sem idade mínima. Isso vai mudar. A nova Previdência fará a equiparação. As pessoas de todas as classes vão se aposentar com a mesma idade. Mas isso não ocorrerá do dia para a noite. Estão previstas regras de transição, para que todos possam se adaptar ao novo modelo.\\n\\xa0\\xa0\\xa0\\xa0\\xa0\\xa0\\xa0\\xa0\\xa0 No tocante aos direitos adquiridos, todos estão garantidos, seja para quem já está aposentado, ou para quem já completou os requisitos para se aposentar.\\n\\xa0\\xa0\\xa0\\xa0\\xa0\\xa0\\xa0\\xa0\\xa0 Também fazem parte da nova Previdência o combate às fraudes, e medidas de cobrança aos devedores da Previdência.\\n\\xa0\\xa0\\xa0\\xa0\\xa0\\xa0\\xa0\\xa0\\xa0 Os projetos seguiram hoje ao Congresso para um amplo debate, sob o comando dos presidentes da Câmara, Rodrigo Maia, e do Senado, Davi Alcolumbre.\\n\\xa0\\xa0\\xa0\\xa0\\xa0\\xa0\\xa0\\xa0\\xa0 Nós sabemos que a nova Previdência exigirá um pouco mais de cada um de nós. Porém é para uma causa comum: o futuro do nosso Brasil e das próximas gerações.\\n\\xa0\\xa0\\xa0\\xa0\\xa0\\xa0\\xa0\\xa0\\xa0 Estou convicto que nós temos um pacto pelo País e que, juntos, cada um com sua parcela de contribuição, mudaremos nossa história, com mais investimentos, desenvolvimento e mais emprego.\\n\\xa0\\xa0\\xa0\\xa0\\xa0\\xa0\\xa0\\xa0\\xa0 Meu muito obrigado a todos.\\n\\xa0\\n\\xa0Ouça a íntegra (3min35s) do pronunciamento do Presidente Jair Bolsonaro.'"
            ]
          },
          "metadata": {
            "tags": []
          },
          "execution_count": 69
        }
      ]
    },
    {
      "cell_type": "code",
      "metadata": {
        "colab": {
          "base_uri": "https://localhost:8080/"
        },
        "id": "dg-GOz8qG5mZ",
        "outputId": "842b1ed3-3f18-4a2e-eae4-e675889dc996"
      },
      "source": [
        "print(p2.text)"
      ],
      "execution_count": 70,
      "outputs": [
        {
          "output_type": "stream",
          "text": [
            "Brasília/DF, 20 de fevereiro de 2019\n",
            " \n",
            "          Boa noite. Estamos determinados a mudar o rumo do nosso País. Nosso objetivos são claros: resgatar nossa segurança, fazer a economia crescer e servir a quem realmente manda no País: a população brasileira.\n",
            "          Sendo assim, ontem encaminhamos ao Congresso um pacote anticrime e hoje iniciamos o processo de criação de uma nova Previdência.\n",
            "          É fundamental equilibrarmos as contas do País para que o sistema não quebre, como já aconteceu com outros países e alguns estados brasileiros. Precisamos garantir que hoje e sempre todos receberão seus benefícios em dia e o governo tenha recursos para ampliar investimentos na melhoria de vida da população e na geração de empregos.\n",
            "          A nova Previdência será justa para todos, sem privilégios. Ricos e pobres, servidores públicos, políticos ou trabalhadores privados, todos seguirão as mesmas regras de idade e tempo de contribuição.\n",
            "          Também haverá a reforma do sistema de proteção social dos militares. Respeitaremos as diferenças, mas não excluiremos ninguém, e com justiça: quem ganha mais contribuirá com mais, quem ganha menos contribuirá com menos ainda.\n",
            "          Quero lembrar que hoje os homens mais pobres já se aposentam aos 65 anos e as mulheres aos 60. Enquanto isso, os mais ricos se aposentam sem idade mínima. Isso vai mudar. A nova Previdência fará a equiparação. As pessoas de todas as classes vão se aposentar com a mesma idade. Mas isso não ocorrerá do dia para a noite. Estão previstas regras de transição, para que todos possam se adaptar ao novo modelo.\n",
            "          No tocante aos direitos adquiridos, todos estão garantidos, seja para quem já está aposentado, ou para quem já completou os requisitos para se aposentar.\n",
            "          Também fazem parte da nova Previdência o combate às fraudes, e medidas de cobrança aos devedores da Previdência.\n",
            "          Os projetos seguiram hoje ao Congresso para um amplo debate, sob o comando dos presidentes da Câmara, Rodrigo Maia, e do Senado, Davi Alcolumbre.\n",
            "          Nós sabemos que a nova Previdência exigirá um pouco mais de cada um de nós. Porém é para uma causa comum: o futuro do nosso Brasil e das próximas gerações.\n",
            "          Estou convicto que nós temos um pacto pelo País e que, juntos, cada um com sua parcela de contribuição, mudaremos nossa história, com mais investimentos, desenvolvimento e mais emprego.\n",
            "          Meu muito obrigado a todos.\n",
            " \n",
            " Ouça a íntegra (3min35s) do pronunciamento do Presidente Jair Bolsonaro.\n"
          ],
          "name": "stdout"
        }
      ]
    },
    {
      "cell_type": "markdown",
      "metadata": {
        "id": "r_LAbC6_HdBx"
      },
      "source": [
        "Agora precisamos armazenar os textos em Json para conseguir recuperar depois:"
      ]
    },
    {
      "cell_type": "code",
      "metadata": {
        "colab": {
          "base_uri": "https://localhost:8080/"
        },
        "id": "5Dsoo_xGIZv7",
        "outputId": "620c15bb-6190-4c88-a6c3-eecc479f6b58"
      },
      "source": [
        "p.__dict__"
      ],
      "execution_count": 71,
      "outputs": [
        {
          "output_type": "execute_result",
          "data": {
            "text/plain": [
              "{'date': '20190220',\n",
              " 'tags': ['Pronunciamento', 'Presidente', 'Nova Previdência'],\n",
              " 'text': 'Teste',\n",
              " 'time': '20h53',\n",
              " 'url': 'https://www.gov.br/planalto/pt-br/acompanhe-o-planalto/pronunciamentos/pronunciamentos-do-presidente-da-republica/pronunciamento-do-presidente-da-republica-jair-bolsonaro-em-cadeia-de-radio-e-televisao-brasilia-df'}"
            ]
          },
          "metadata": {
            "tags": []
          },
          "execution_count": 71
        }
      ]
    },
    {
      "cell_type": "code",
      "metadata": {
        "id": "IRrmGrm_HY9x"
      },
      "source": [
        "class Pronouncement:\n",
        "  def __init__(self, bs_article=None):\n",
        "\n",
        "    if bs_article is not None:\n",
        "      self.url = bs_article.find(class_=\"summary url\")[\"href\"]\n",
        "      self.tags = [t.text for t in bs_article.find_all(rel=\"tag\")]\n",
        "      \n",
        "      datetime = bs_article.find_all(class_=\"summary-view-icon\")\n",
        "      self.date = canonical_date(datetime[0].text.strip())\n",
        "      self.time = time = datetime[1].text.strip()\n",
        "    \n",
        "      self.text = self._extract_text()\n",
        "\n",
        "  def _extract_text(self):\n",
        "    r = requests.get(self.url)\n",
        "    bs = BeautifulSoup(r.text)\n",
        "    return bs.find(id=\"parent-fieldname-text\").text.strip()\n",
        "\n",
        "  def save_tojson(p, savedir, name=None):\n",
        "    if name is None:\n",
        "      name = f\"{p.date}-{p.time}.json\"\n",
        "    path = os.path.join(savedir, name)\n",
        "    with open(path, \"w\") as jsonfile:\n",
        "      json.dump(p.__dict__, jsonfile)    \n",
        "\n",
        "  def load_fromjson(filepath):\n",
        "    with open(filepath, \"r\") as jsonfile:\n",
        "      data = json.load(jsonfile)\n",
        "      p = Pronouncement()\n",
        "      p.date = data[\"date\"]\n",
        "      p.time = data[\"time\"]\n",
        "      p.tags = data[\"tags\"]\n",
        "      p.url = data[\"url\"]\n",
        "      p.text = data[\"text\"]\n",
        "      return p\n"
      ],
      "execution_count": 77,
      "outputs": []
    },
    {
      "cell_type": "code",
      "metadata": {
        "id": "cUIM_0jqJ9Gk"
      },
      "source": [
        "pronouncements = [Pronouncement(art) for art in articles]"
      ],
      "execution_count": 78,
      "outputs": []
    },
    {
      "cell_type": "code",
      "metadata": {
        "id": "_CUqVwAWKM5C"
      },
      "source": [
        "# Salvando os pronuncimaneto em Json\n",
        "for p in pronouncements:\n",
        "  Pronouncement.save_tojson(p, DATA_DIR)"
      ],
      "execution_count": 79,
      "outputs": []
    },
    {
      "cell_type": "code",
      "metadata": {
        "colab": {
          "base_uri": "https://localhost:8080/"
        },
        "id": "Zg7pV7JWK7NU",
        "outputId": "d98ce545-48d3-4607-d4a9-c57763fbae25"
      },
      "source": [
        "len(pronouncements)"
      ],
      "execution_count": 80,
      "outputs": [
        {
          "output_type": "execute_result",
          "data": {
            "text/plain": [
              "17"
            ]
          },
          "metadata": {
            "tags": []
          },
          "execution_count": 80
        }
      ]
    },
    {
      "cell_type": "markdown",
      "metadata": {
        "id": "GtrrJxF_LZL_"
      },
      "source": [
        "Vamos agora tentar recuperar os textos a partir dos Jsons salvos."
      ]
    },
    {
      "cell_type": "code",
      "metadata": {
        "colab": {
          "base_uri": "https://localhost:8080/"
        },
        "id": "v5uSWBW_Lnrn",
        "outputId": "fd9cd9f1-09b7-4915-bbea-f9c52161923c"
      },
      "source": [
        "os.listdir(DATA_DIR)"
      ],
      "execution_count": 81,
      "outputs": [
        {
          "output_type": "execute_result",
          "data": {
            "text/plain": [
              "['20201224-20h30.json',\n",
              " '20200331-21h07.json',\n",
              " '20200901-11h33.json',\n",
              " '20200324-21h25.json',\n",
              " '20200312-22h48.json',\n",
              " '20200812-20h00.json',\n",
              " '20200416-20h03.json',\n",
              " '20200907-20h07.json',\n",
              " '20190220-20h53.json',\n",
              " '20190424-21h35.json',\n",
              " '20191224-21h43.json',\n",
              " '20200306-21h00.json',\n",
              " '20190501-21h45.json',\n",
              " '20210323-20h34.json',\n",
              " '20200408-20h35.json',\n",
              " '20190823-21h21.json',\n",
              " '20210205-14h58.json']"
            ]
          },
          "metadata": {
            "tags": []
          },
          "execution_count": 81
        }
      ]
    },
    {
      "cell_type": "code",
      "metadata": {
        "id": "Deh3O_A3LviK"
      },
      "source": [
        "filenames = os.listdir(DATA_DIR)"
      ],
      "execution_count": 82,
      "outputs": []
    },
    {
      "cell_type": "code",
      "metadata": {
        "id": "QqxNZK9rL06O"
      },
      "source": [
        "pronunciamentos = []\n",
        "for name in filenames:\n",
        "  path = os.path.join(DATA_DIR, name)\n",
        "  pronunciamentos.append(Pronouncement.load_fromjson(path))"
      ],
      "execution_count": 84,
      "outputs": []
    },
    {
      "cell_type": "code",
      "metadata": {
        "colab": {
          "base_uri": "https://localhost:8080/"
        },
        "id": "ccfZIr7vMA_n",
        "outputId": "e7612149-ad9f-4a16-cf97-61ad98ba1867"
      },
      "source": [
        "len(pronunciamentos)"
      ],
      "execution_count": 85,
      "outputs": [
        {
          "output_type": "execute_result",
          "data": {
            "text/plain": [
              "17"
            ]
          },
          "metadata": {
            "tags": []
          },
          "execution_count": 85
        }
      ]
    },
    {
      "cell_type": "code",
      "metadata": {
        "colab": {
          "base_uri": "https://localhost:8080/"
        },
        "id": "PV8AinrFMQ9-",
        "outputId": "a2067777-2605-4c7b-837b-1075a3c32ea0"
      },
      "source": [
        "for i in range(1, 8):\n",
        "  print(\"Num:\", i)\n",
        "  print(pronunciamentos[i].text)\n",
        "  print(\"===========================\")"
      ],
      "execution_count": 92,
      "outputs": [
        {
          "output_type": "stream",
          "text": [
            "Num: 1\n",
            "Boa noite.\n",
            "Venho nesse momento importante me dirigir a todos vocês.\n",
            "Desde o início do governo temos trabalhado em todas as frentes para sanar problemas históricos e melhorar a vida das pessoas. O Brasil avançou muito nestes 15 meses, mas agora estamos diante do maior desafio da nossa geração.\n",
            "Minha preocupação sempre foi salvar vidas, tanto as que perderemos pela pandemia quanto aquelas que serão atingidas pelo desemprego, violência e fome.\n",
            "Me coloco no lugar das pessoas e entendo suas angústias. As medidas protetivas devem ser implementadas de forma racional, responsável e coordenada.\n",
            "Nesse sentido, o Sr. Tedros Adhanom, diretor-geral da Organização Mundial da Saúde, disse saber que “muitas pessoas, de fato, têm que trabalhar todos os dias para ganhar seu pão diário” e que “os governos têm que levar esta população em conta”.\n",
            "Continua ainda, “se fecharmos ou limitarmos movimentações, o que acontecerá com estas pessoas, que têm que trabalhar todos os dias e que têm que ganhar o pão de cada dia todos os dias?” Ele prossegue, “Então, cada país, baseado em sua situação, deveria responder a esta questão”.\n",
            "O diretor da OMS afirma ainda que, com relação a cada medida, “temos que ver o que significa para o indivíduo nas ruas” e complementa “eu venho de família pobre, eu sei o que significa estar sempre preocupado com seu pão diário e isso deve ser levado em conta porque todo indivíduo importa. A maneira como cada indivíduo é afetado pelas nossas ações tem que ser considerada”.\n",
            "Não me valho dessas palavras para negar a importância das medidas de prevenção e controle da pandemia, mas para mostrar que da mesma forma precisamos pensar nos mais vulneráveis. Esta tem sido a minha preocupação desde o princípio.\n",
            "O que será do camelô, do ambulante, do vendedor de churrasquinho, da diarista, do ajudante de pedreiro, do caminhoneiro e dos outros autônomos com quem venho mantendo contato durante toda minha vida pública?\n",
            "Por isso determinei ao nosso Ministro da Saúde que não poupasse esforços, apoiando através do SUS todos os estados do Brasil aumentando a capacidade da rede de saúde e preparando-a para o combate à pandemia.\n",
            "Assim, estão sendo adquiridos novos leitos já com respiradores, equipamentos de proteção individual, kits para testes e demais insumos necessários.\n",
            "Determinei ainda ao nosso Ministro da Economia que adotasse todas as medidas possíveis para proteger sobretudo o emprego e a renda dos brasileiros.\n",
            "Fizemos isso através de ajuda financeira aos estados e municípios, linhas de crédito para empresas, auxílio mensal de R$ 600 aos trabalhadores informais e vulneráveis, entrada de mais 1 milhão e 200 mil famílias no programa Bolsa Família, adiamos também o pagamento de dívidas dos estados e municípios, só para citar algumas das medidas adotadas.\n",
            "Além disso, no dia de hoje, em comum acordo com a indústria farmacêutica, decidimos adiar, por 60 dias, o reajuste de medicamentos no Brasil.\n",
            "Temos uma missão: salvar vidas, sem deixar para trás os empregos.\n",
            "Por um lado, temos que ter cautela e precaução com todos, principalmente junto aos mais idosos e portadores de doenças preexistentes.\n",
            "Por outro, temos que combater o desemprego, que cresce rapidamente, em especial entre os mais pobres.\n",
            "Vamos cumprir essa missão ao mesmo tempo em que cuidamos da saúde das pessoas.\n",
            "O vírus é uma realidade, ainda não existe vacina contra ele ou remédio com eficiência cientificamente comprovada, apesar da hidroxicloroquina parecer bastante eficaz.\n",
            "O coronavírus veio e um dia irá embora, infelizmente teremos perdas neste caminho. Eu mesmo já perdi entes queridos no passado e sei o quanto é doloroso. Todos nós temos que evitar ao máximo qualquer perda de vida humana. Como disse o diretor-geral da OMS, “todo indivíduo importa”.\n",
            "Ao mesmo tempo, devemos evitar a destruição de empregos, que já vem trazendo muito sofrimento para os trabalhadores brasileiros.\n",
            "Na última reunião do G-20, nós, os Chefes de Estado e de Governo, nos comprometemos a proteger vidas e a preservar empregos. Assim o farei.\n",
            "Desde fevereiro, determinei o emprego das Forças Armadas no combate ao coronavírus. O Ministério da Defesa realizou o resgate de brasileiros na China. Agora as Forças Armadas atuam em apoio às áreas de Saúde e Segurança, em todo o Brasil. Foi ativado um Centro de Operações que coordena as ações e 10 Comandos Conjuntos foram criados, cobrindo todo o território nacional. Realizam ações que vão desde a montagem de postos de triagem de pacientes, apoio a campanhas informativas e campanhas de vacinação, logística e transporte de medicamentos. Os Laboratórios Químico- Farmacêuticos Militares entraram com força total e, em 12 dias, serão produzidos um milhão de comprimidos de Cloroquina, além de álcool gel.\n",
            "Repito: o efeito colateral das medidas de combate ao coronavírus não pode ser pior do que a própria doença.\n",
            "A minha obrigação como presidente vai para além dos próximos meses. Preparar o Brasil para a sua retomada, reorganizar nossa economia e mobilizar todos os nossos recursos e energia para tornar o Brasil ainda mais forte após a pandemia.\n",
            "Aproveito a oportunidade para me solidarizar e agradecer o empenho e sacrífico pessoal de todos os profissionais de saúde, da área de segurança, caminhoneiros e todos os trabalhadores de serviços considerados essenciais que estão mantendo o país funcionando, bem como aos homens e mulheres do campo que produzem nossos alimentos.\n",
            "Com este mesmo espírito agradeço e reafirmo a importância da colaboração e a necessária união de todos num grande pacto pela preservação da vida e dos empregos: parlamento, judiciário, governadores, prefeitos e sociedade.\n",
            "Deus abençoe o nosso amado Brasil.\n",
            "===========================\n",
            "Num: 2\n",
            "Palácio da Alvorada, 01 de setembro de 2020\n",
            " \n",
            "Bom dia.\n",
            "Acabamos uma reunião muito produtiva com os líderes e tomamos duas decisões. \n",
            "A primeira, encaminhar, na quinta-feira, a Reforma Administrativa, que fique bem claro, não atingirá nenhum dos atuais servidores. Ela se aplicará apenas os futuros servidores concursados.\n",
            " E a segunda medida, depois que nós criamos há praticamente 5 meses o Auxílio Emergencial de 600 reais, ele validou-se por 3 meses. Por Decreto nós o prorrogamos por mais 2 meses e agora resolvemos prorrogá-lo por Medida Provisória, até o final do ano. \n",
            "E o valor, com vínhamos dizendo, 600 é muito para quem paga, no caso o Brasil e podemos dizer que não é um valor o suficiente muitas vezes, para todas as necessidades, mas basicamente atende. Até porque o valor definido agora há pouco, ele é um pouco superior a 50% do valor do salário mínimo, ou melhor do Bolsa Família. Obrigado aí, do Bolsa Família. Então, nós decidimos aqui, até atendendo a economia em cima da responsabilidade fiscal, fixado em 300 reais.\n",
            "===========================\n",
            "Num: 3\n",
            "Boa noite.\n",
            "Desde quando resgatamos nossos irmãos em Wuhan, na China, numa operação coordenada pelos ministérios da Defesa e Relações Exteriores, surgiu para nós o sinal amarelo.\n",
            "Começamos a nos preparar para enfrentar o Coronavírus, pois sabíamos que mais cedo ou mais tarde ele chegaria ao Brasil. Nosso ministro da Saúde reuniu-se com quase todos os secretários de Saúde dos estados para que o planejamento estratégico de enfrentamento ao vírus fosse construído. E, desde então, o Dr. Henrique Mandetta vem desempenhando um excelente trabalho de esclarecimento e preparação do SUS para atendimento de possíveis vítimas.\n",
            "Mas, o que tínhamos que conter naquele momento era o pânico, a histeria e, ao mesmo tempo, traçar a estratégia para salvar vidas e evitar o desemprego em massa. Assim fizemos, quase contra tudo e contra todos.\n",
            "Grande parte dos meios de comunicação foram na contramão. Espalharam exatamente a sensação de pavor, tendo como carro-chefe o anúncio do grande número de vítimas na Itália. Um país com grande número de idosos e com um clima totalmente diferente do nosso. O cenário perfeito, potencializado pela mídia, para que uma verdadeira histeria se espalhasse pelo nosso País.\n",
            "Contudo, percebe-se que de ontem para hoje parte da imprensa mudou o seu editorial: pedem calma e tranquilidade. Isso é muito bom, parabéns imprensa brasileira. É essencial que o equilíbrio e a verdade prevaleçam entre nós.\n",
            "O vírus chegou, está sendo enfrentado por nós e brevemente passará. Nossa vida tem que continuar. Os empregos devem ser mantidos. O sustento das famílias deve ser preservado. Devemos, sim, voltar à normalidade.\n",
            "Algumas poucas autoridades estaduais e municipais devem abandonar o conceito de terra arrasada, a proibição de transportes, o fechamento de comércio e o confinamento em massa.\n",
            "O que se passa no mundo tem mostrado que o grupo de risco é o das pessoas acima dos 60 anos. Então por que fechar escolas? Raros são os casos fatais de pessoas sãs com menos de 40 anos de idade. 90% de nós não teremos qualquer manifestação, caso se contamine. Devemos sim, é ter extrema preocupação em não transmitir o vírus para os outros, em especial aos nossos queridos pais e avós, respeitando as orientações do Ministério da Saúde.\n",
            "No meu caso particular, pelo meu histórico de atleta, caso fosse contaminado pelo vírus não precisaria me preocupar, nada sentiria ou seria, quando muito, acometido de uma gripezinha ou resfriadinho, como bem disse aquele conhecido médico daquela conhecida televisão.\n",
            "Enquanto estou falando, o mundo busca um tratamento para a doença. O FDA americano e o Hospital Albert Einstein, em São Paulo, buscam a comprovação da eficácia da Cloroquina no tratamento do Covid-19. Nosso governo tem recebido notícias positivas sobre esse remédio fabricado no Brasil, largamente utilizado no combate à malária, ao lupus e à artrite.\n",
            "Acredito em Deus, que capacitará cientistas e pesquisadores do Brasil e do mundo na cura dessa doença.\n",
            "Aproveito para render minha homenagem a todos os profissionais de saúde - médicos, enfermeiros, técnicos e colaboradores - que na linha de frente nos recebem nos hospitais, nos tratam e nos confortam.\n",
            "Sem pânico ou histeria, como venho falando desde o princípio, venceremos o vírus e nos orgulharemos de estar vivendo nesse novo Brasil, que tem tudo, sim, tudo para ser uma grande nação.\n",
            "Estamos juntos, cada vez mais unidos.\n",
            "Deus abençoe nossa Pátria querida.\n",
            "===========================\n",
            "Num: 4\n",
            "12 de março de 2020\n",
            " \n",
            "Diante do avanço do coronavírus em muitos países, a Organização Mundial de Saúde, de forma responsável, classificou a situação atual como pandemia.\n",
            "O Sistema de Saúde Brasileiro, como os demais países, tem um limite de pacientes que podem ser atendidos. O governo está atento para manter a evolução do quadro sob controle. É provável, inclusive, que o número de infectados aumente nos próximos dias, sem, no entanto, ser motivo de qualquer pânico.\n",
            "Há uma preocupação maior, por motivos óbvios, com os idosos. Há também, recomendação das autoridades sanitárias para que evitemos grandes concentrações populares. Queremos um povo atuante e zeloso com a coisa pública, mas jamais podemos colocar em risco a saúde da nossa gente.\n",
            "Os movimentos espontâneos e legítimos, marcados para o dia 15 de março, atendem aos interesses da nação. Balizados pela lei e pela ordem, demonstram o amadurecimento da nossa democracia presidencialista e são expressões evidentes de nossa liberdade. Precisam, no entanto, diante dos fatos recentes, ser repensados.\n",
            "Nossa saúde e de nossos familiares devem ser preservadas. O momento é de união, serenidade e bom senso.\n",
            "Não podemos esquecer, no entanto, que o Brasil mudou. O povo está atento e exige de nós respeito à Constituição e zelo pelo dinheiro público.\n",
            "Por isso, as motivações da vontade popular continuam vivas e inabaláveis.\n",
            "Que Deus abençoe o nosso Brasil.\n",
            "===========================\n",
            "Num: 5\n",
            "Palácio da Alvorada, 12 de agosto de 2020\n",
            " \n",
            "Boa noite a todos.\n",
            "            Fizemos uma reunião, onde as principais lideranças do Executivo e do Legislativo se fizeram presentes. Lamentamos a falta, apenas, do chefe do Supremo, por questões que justificam. E nós, em que pese o problema da pandemia, o Brasil está indo bem, a economia está reagindo, e nós, aqui, resolvemos, então, com essa reunião, direcionar mais das nossas forças para o bem comum daquilo que todos nós defendemos: nós queremos o progresso, o desenvolvimento, o bem-estar do nosso povo. Nós respeitamos o teto dos gastos, queremos a responsabilidade fiscal.\n",
            "O Brasil  tem como, realmente, ser um daqueles países que melhor reagirá à questão da crise. Assuntos variados foram tratados, como privatizações, outras reformas, como a administrativa. De modo que nós nos empenharemos, mesmo no ano eleitoral, juntos, para buscar soluções, destravar a nossa economia e colocar o Brasil no local que ele sempre mereceu estar.\n",
            "===========================\n",
            "Num: 6\n",
            "Boa tarde. Agora há pouco terminei uma reunião com o ministro Mandetta, aproximadamente 30 minutos, e discutimos a situação atual do Ministério, bem como da pandemia, uma conversa bastante produtiva, muito cordial, onde nós selamos um ciclo no Ministério da Saúde. Ele se prontificou, como era esperado da minha parte, a participar de uma transição a mais tranquila possível, com a maior riqueza de detalhes que se possa oferecer. E, em comum acordo, mas o termo técnico não é esse, eu o exonero do Ministério nas próximas horas.\n",
            "Foi, realmente, um divórcio consensual, porque, acima de mim, como presidente, e dele, como ainda ministro, está a saúde do povo brasileiro. A vida para todos nós está em primeiro lugar. A questão do coronavírus se abate sobre todo o mundo, e cada país tem as suas especificidades, como bem disse o chefe da OMS. No Brasil não é diferente.\n",
            "Como presidente da República, eu coordeno 22 ministérios e, na maioria das vezes, o problema não está afeto a apenas um ministério. Quando se fala em saúde, fala-se em vida, a gente não pode deixar de falar em emprego. Porque uma pessoa desempregada, ela estará mais propensa a sofrer problemas de saúde do que uma outra empregada. E desde o começo da pandemia eu me dirigi a todos os ministros e falei da vida e do emprego. É como um paciente que tem duas doenças, a gente não pode abandonar uma e tratar exclusivamente outra, porque, no final da linha, esse paciente pode perder a vida.\n",
            "Sabemos das interpretações que fazem a respeito daquilo que se fala. A interpretação depende da linha editorial ou daquele repórter. Sempre falamos em vida e emprego, nunca emprego e economia de forma isolada. Nunca.\n",
            "Desde o começo eu busquei levar uma mensagem de tranquilidade. O clima quase de terror se instalou no meio da sociedade. Isso não é bom, porque uma pessoa que vive sob tensão, num clima de histeria, é uma pessoa que está propensa a adquirir novas doenças ou agravar aquelas que ela já tem.\n",
            "Entendemos perfeitamente a gravidade da situação. Gostaríamos que ninguém perdesse a vida, não só por essa, e por causa nenhuma, porque a vida, quando chega ao seu final, a morte toca a todos nós. Eu tenho uma mãe com 93 anos de idade, está bastante idosa, com algumas comorbidades, e espero que ela viva por muito tempo.\n",
            "Ao longo desse tempo, é direito do ainda ministro defender o seu ponto de vista como médico. E a questão de entender também a questão do emprego não foi da forma que eu achava, como chefe do Executivo, que deveria ser tratada. Não condeno, não recrimino e não critico o ministro Mandetta. Ele fez aquilo que, como médico, ele achava que devia fazer.\n",
            "Ao longo desse tempo, a separação cada vez mais se tornava uma realidade, mas nós não podemos tomar decisões de forma que o trabalho feito por ele até o momento fosse perdido. O que eu conversei, ao longo desse tempo, com o oncologista dr. Nelson, ao meu lado, foi fazer com que ele entendesse a situação como um todo, sem abandonar, obviamente, o principal interesse, a manutenção da vida, mas sem esquecer que, ao lado disso, tínhamos outros problemas. Esse outro é a questão do desemprego que, cada vez mais, nós vemos que são claros no nosso País. Junto com o vírus veio uma verdadeira máquina de moer empregos. As pessoas mais humildes começaram a sentir primeiro o problema. Essas não podem ficar em casa por muito tempo.\n",
            "Então, não é aquilo que a gente gostaria de fazer, é aquilo que pode ser feito. Nós não poderemos prejudicar os mais necessitados. Eles não têm como ficar em casa por muito tempo, sem buscar seu alimento. E os primeiros que sofreram com isso foram os informais, na ordem de 38 milhões no Brasil. Os empregos com carteira assinada, estamos vendo, também, como temos conversado com toda a sociedade, cada vez mais estão sendo destruídos. Se chegar a um nível tal, o que nós não queremos, é que a volta da normalidade, além de poder demorar muito, outros problemas aparecerão. Nós nos preocupamos para que essa volta à normalidade chegue o mais breve possível.\n",
            "Então, antes mesmo de outras providências, nós tomamos várias medidas, entre elas, uma das mais importantes é o Auxílio Emergencial para exatamente os informais e assemelhados. Então o governo não abandonou, em momento nenhum, os mais necessitados.\n",
            "E o que eu conversei com o dr. Nelson é que, gradativamente, nós temos que abrir o emprego no Brasil. Essa grande massa de humildes não tem como ficar presa dentro de casa. E, o que é pior, quando voltar não ter emprego. E o governo não tem como manter esse Auxílio Emergencial ou outras ações por muito tempo. Já se gastou aproximadamente 600 bilhões de reais, e podemos chegar a R$ 1 trilhão. Sei e repito que a vida não tem preço, mas a economia, o emprego, tem que voltar à normalidade, não o mais rápido possível, como foi conversado com o dr. Nelson, mas ele tem que começar a ser flexibilizado para que exatamente não venhamos a sofrer mais com isso.\n",
            "Nós todos, Poder Executivo, Poder Legislativo, decisões do Judiciário, têm que ser, essas decisões, com muita prudência. O governo não é uma fonte de socorro eterna. Em nenhum momento eu fui consultado sobre medidas adotadas por grande parte dos governadores e prefeitos. Tenho certeza que eles sabiam o que estavam fazendo. O preço vai ser alto. Tinham que fazer alguma coisa? Tinham, mas se, porventura, exageraram, não bote essa conta, não no Governo Federal, não bote essa conta, mais essa conta, nas costas do nosso sofrido povo brasileiro.\n",
            "Não queremos aqui criar qualquer polêmica com outro Poder. Todos eles são responsáveis pelos seus atos, assim como eu sou, como chefe do Executivo. Não me furtarei à minha responsabilidade. Decisões, sou obrigado a tomar. Porque sempre tenho dito, dada a minha formação militar: pior que uma decisão mal tomada é uma indecisão. Jamais pecarei por omissão. Esse foi o ensinamento que eu tive na minha carreira militar.\n",
            "Essa será minha linha de atuação. Montamos um governo diferente dos montados anteriormente que tem dado resultado. Estávamos praticamente voando, no final do último trimestre. Tudo estava indo muito bem. O Brasil tinha tudo para dar certo, num curto espaço de tempo. Esse “dar certo” agora acontecerá, mas num tempo mais ampliado, onde eu apelo para os demais outros Poderes: a responsabilidade não é só minha, é de todos nós. Os excessos que alguns cometeram, que se responsabilizem por eles. Jamais eu mandaria as minhas Forças Armadas prender quem quer que seja que estivesse nas ruas. Jamais eu, como chefe do Executivo, vou retirar o direito constitucional de ir e vir, seja qual for o cidadão. Devemos tomar medidas, sim, para evitar a proliferação ou a expansão do vírus, mas pelo convencimento e com medidas que não atinjam a liberdade e a garantia individual de qualquer cidadão. Jamais cercearemos qualquer direito fundamental de um cidadão. Quem tem poder de decretar estado de Defesa ou de Sítio, depois de uma decisão, obviamente, do Parlamento brasileiro, é o presidente da República, e não prefeito ou governador.\n",
            "O excesso não levará à solução do problema, muito pelo contrário, se agravará. E, como venho dizendo, desde há muito, eu tenho certeza, tenho amigos, da AMB, pessoal de Associação de Medicina Brasileira, que o remédio para curar um paciente não pode ter um efeito colateral mais danoso do que a própria doença.\n",
            "Então, o Governo Federal, o presidente da República, tem uma visão mais ampla de cada ministro de per si. Esse é o nosso trabalho. Essas são, muitas vezes, as decisões que nós somos obrigados a tomar. Os problemas acontecem na vida de todo mundo e devemos buscar a melhor maneira de solucioná-la.\n",
            "Então, nesse momento, além de agradecer o senhor Henrique Mandetta, pela sua cordialidade, pela forma como conduziu o seu ministério, eu também agradeço o dr. Nelson por ter aceito esse convite. E ele sabe do enorme desafio que terá pela frente. Já começa hoje mesmo uma transição que, gradualmente, vai servir para redirecionar a posição não apenas do presidente, mas dos 22 ministros que integram o nosso governo. Todos os ministros estão envolvidos na mesma causa, sem exceção. Nós estamos juntos em defesa da vida do povo brasileiro, em defesa dos empregos e, também, obviamente, buscando levar tranquilidade e paz para o nosso povo.\n",
            "Então, agradeço o dr. Nelson, para o qual eu passo, então, a palavra agora.\n",
            "===========================\n",
            "Num: 7\n",
            "Boa noite.\n",
            "Naquele histórico 7 de setembro de 1822, às margens do Ipiranga, o Brasil dizia ao mundo que nunca mais aceitaria ser submisso a qualquer outra nação e que os brasileiros jamais abririam mão da sua liberdade.\n",
            "A identidade nacional começou a ser desenhada com a miscigenação entre índios, brancos e negros. Posteriormente, ondas de imigrantes se sucederam, trazendo esperanças que em suas terras haviam perdido.\n",
            "Religiões, crenças, comportamentos e visões eram assimilados e respeitados.\n",
            "O Brasil desenvolveu o senso de tolerância, os diferentes tornavam-se iguais. O legado dessa mistura é um conjunto de preciosidades culturais, étnicas e religiosas, que foram integradas aos costumes nacionais e orgulhosamente assumidas como brasileiras.\n",
            "Passados quase dois séculos da Independência, nos quais enfrentou e superou inúmeros desafios, o Brasil consolidou sua posição no concerto das nações.\n",
            "Ainda no século XIX, durante o período do Império, fomos invadidos e agredidos, derrotando a todos.\n",
            "Já no século XX, durante a II Guerra Mundial, a Força Expedicionária Brasileira foi à Europa para ajudar o mundo a derrotar o nazismo e o fascismo.\n",
            "Nos anos 60, quando a sombra do comunismo nos ameaçou, milhões de brasileiros, identificados com os anseios nacionais de preservação das instituições democráticas, foram às ruas contra um país tomado pela radicalização ideológica, greves, desordem social e corrupção generalizada.\n",
            "O sangue dos brasileiros sempre foi derramado por liberdade.\n",
            "Vencemos ontem, estamos vencendo hoje e venceremos sempre.\n",
            "No momento em que celebramos essa data tão especial, reitero, como Presidente da República, meu amor à Pátria e meu compromisso com a Constituição e com a preservação da soberania, democracia e liberdade, valores dos quais nosso País jamais abrirá mão.\n",
            "A Independência do Brasil merece ser comemorada hoje, nos nossos lares e em nossos corações. A Independência nos deu a liberdade para decidir nossos destinos e a usamos para escolher a democracia.\n",
            "Formamos um povo que acredita poder fazer melhor.\n",
            "Somos uma Nação temente a Deus, que respeita a família e que ama a sua Pátria.\n",
            "Orgulho de ser brasileiro.\n",
            "===========================\n"
          ],
          "name": "stdout"
        }
      ]
    }
  ]
}